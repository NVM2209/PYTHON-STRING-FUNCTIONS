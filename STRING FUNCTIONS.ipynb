{
 "cells": [
  {
   "cell_type": "markdown",
   "id": "131044e3",
   "metadata": {},
   "source": [
    "# STRING FUNCTIONS"
   ]
  },
  {
   "cell_type": "code",
   "execution_count": 1,
   "id": "5b5a66ae",
   "metadata": {},
   "outputs": [],
   "source": [
    "word1=\"computer\""
   ]
  },
  {
   "cell_type": "code",
   "execution_count": 2,
   "id": "86e6a23b",
   "metadata": {},
   "outputs": [
    {
     "data": {
      "text/plain": [
       "'computer'"
      ]
     },
     "execution_count": 2,
     "metadata": {},
     "output_type": "execute_result"
    }
   ],
   "source": [
    "word1"
   ]
  },
  {
   "cell_type": "code",
   "execution_count": 3,
   "id": "f692af91",
   "metadata": {},
   "outputs": [
    {
     "data": {
      "text/plain": [
       "'COMPUTER'"
      ]
     },
     "execution_count": 3,
     "metadata": {},
     "output_type": "execute_result"
    }
   ],
   "source": [
    "word1.upper()"
   ]
  },
  {
   "cell_type": "code",
   "execution_count": 8,
   "id": "507145d1",
   "metadata": {},
   "outputs": [],
   "source": [
    "word2=\"LENOVO\""
   ]
  },
  {
   "cell_type": "code",
   "execution_count": 9,
   "id": "81b1ca09",
   "metadata": {},
   "outputs": [
    {
     "data": {
      "text/plain": [
       "'LENOVO'"
      ]
     },
     "execution_count": 9,
     "metadata": {},
     "output_type": "execute_result"
    }
   ],
   "source": [
    "word2"
   ]
  },
  {
   "cell_type": "code",
   "execution_count": 10,
   "id": "d5d7628a",
   "metadata": {},
   "outputs": [
    {
     "data": {
      "text/plain": [
       "'lenovo'"
      ]
     },
     "execution_count": 10,
     "metadata": {},
     "output_type": "execute_result"
    }
   ],
   "source": [
    "word2.lower()"
   ]
  },
  {
   "cell_type": "code",
   "execution_count": 11,
   "id": "c5935249",
   "metadata": {},
   "outputs": [],
   "source": [
    "word3=\"SamSung\""
   ]
  },
  {
   "cell_type": "code",
   "execution_count": 12,
   "id": "6b534fbe",
   "metadata": {},
   "outputs": [
    {
     "data": {
      "text/plain": [
       "'SamSung'"
      ]
     },
     "execution_count": 12,
     "metadata": {},
     "output_type": "execute_result"
    }
   ],
   "source": [
    "word3"
   ]
  },
  {
   "cell_type": "code",
   "execution_count": 13,
   "id": "b2d2155a",
   "metadata": {},
   "outputs": [
    {
     "data": {
      "text/plain": [
       "'sAMsUNG'"
      ]
     },
     "execution_count": 13,
     "metadata": {},
     "output_type": "execute_result"
    }
   ],
   "source": [
    "word3.swapcase()"
   ]
  },
  {
   "cell_type": "code",
   "execution_count": 14,
   "id": "9981abb9",
   "metadata": {},
   "outputs": [],
   "source": [
    " word4=\"Delhi is a capital of India\""
   ]
  },
  {
   "cell_type": "code",
   "execution_count": 15,
   "id": "f583d5dd",
   "metadata": {},
   "outputs": [
    {
     "data": {
      "text/plain": [
       "['Delhi', 'is', 'a', 'capital', 'of', 'India']"
      ]
     },
     "execution_count": 15,
     "metadata": {},
     "output_type": "execute_result"
    }
   ],
   "source": [
    "word4.split()"
   ]
  },
  {
   "cell_type": "code",
   "execution_count": 16,
   "id": "d62a9296",
   "metadata": {},
   "outputs": [],
   "source": [
    "word5=\"elon musk is a ceo of tesla\""
   ]
  },
  {
   "cell_type": "code",
   "execution_count": 17,
   "id": "272d2baa",
   "metadata": {},
   "outputs": [
    {
     "data": {
      "text/plain": [
       "'Elon Musk Is A Ceo Of Tesla'"
      ]
     },
     "execution_count": 17,
     "metadata": {},
     "output_type": "execute_result"
    }
   ],
   "source": [
    "word5.title()"
   ]
  },
  {
   "cell_type": "code",
   "execution_count": 18,
   "id": "e6e90406",
   "metadata": {},
   "outputs": [
    {
     "data": {
      "text/plain": [
       "'elon musk is a ceo of tesla'"
      ]
     },
     "execution_count": 18,
     "metadata": {},
     "output_type": "execute_result"
    }
   ],
   "source": [
    "word5\n"
   ]
  },
  {
   "cell_type": "code",
   "execution_count": 20,
   "id": "5a380c53",
   "metadata": {},
   "outputs": [
    {
     "data": {
      "text/plain": [
       "'Elon musk is a ceo of tesla'"
      ]
     },
     "execution_count": 20,
     "metadata": {},
     "output_type": "execute_result"
    }
   ],
   "source": [
    "word5.capitalize()"
   ]
  },
  {
   "cell_type": "code",
   "execution_count": 21,
   "id": "2f334217",
   "metadata": {},
   "outputs": [],
   "source": [
    "word6=\"data science\""
   ]
  },
  {
   "cell_type": "code",
   "execution_count": 23,
   "id": "1291d958",
   "metadata": {},
   "outputs": [
    {
     "data": {
      "text/plain": [
       "'Data science'"
      ]
     },
     "execution_count": 23,
     "metadata": {},
     "output_type": "execute_result"
    }
   ],
   "source": [
    "word6.capitalize()"
   ]
  },
  {
   "cell_type": "code",
   "execution_count": 24,
   "id": "92eed08d",
   "metadata": {},
   "outputs": [
    {
     "data": {
      "text/plain": [
       "'Data Science'"
      ]
     },
     "execution_count": 24,
     "metadata": {},
     "output_type": "execute_result"
    }
   ],
   "source": [
    "word6.title()"
   ]
  },
  {
   "cell_type": "code",
   "execution_count": 3,
   "id": "39a8efe8",
   "metadata": {},
   "outputs": [],
   "source": [
    "word5=\"elon musk is ceo of tesla\""
   ]
  },
  {
   "cell_type": "code",
   "execution_count": 4,
   "id": "90061af4",
   "metadata": {},
   "outputs": [
    {
     "data": {
      "text/plain": [
       "'elon musk is ceo of tesla'"
      ]
     },
     "execution_count": 4,
     "metadata": {},
     "output_type": "execute_result"
    }
   ],
   "source": [
    "word5"
   ]
  },
  {
   "cell_type": "code",
   "execution_count": 6,
   "id": "9c3f11fa",
   "metadata": {},
   "outputs": [
    {
     "data": {
      "text/plain": [
       "True"
      ]
     },
     "execution_count": 6,
     "metadata": {},
     "output_type": "execute_result"
    }
   ],
   "source": [
    "word5.startswith(\"elon\")"
   ]
  },
  {
   "cell_type": "code",
   "execution_count": 7,
   "id": "8dd32daf",
   "metadata": {},
   "outputs": [
    {
     "data": {
      "text/plain": [
       "False"
      ]
     },
     "execution_count": 7,
     "metadata": {},
     "output_type": "execute_result"
    }
   ],
   "source": [
    "word5.startswith('ceo')"
   ]
  },
  {
   "cell_type": "code",
   "execution_count": 8,
   "id": "8259d444",
   "metadata": {},
   "outputs": [
    {
     "data": {
      "text/plain": [
       "True"
      ]
     },
     "execution_count": 8,
     "metadata": {},
     "output_type": "execute_result"
    }
   ],
   "source": [
    "word5.endswith('tesla')"
   ]
  },
  {
   "cell_type": "code",
   "execution_count": 9,
   "id": "4bceb1c2",
   "metadata": {},
   "outputs": [
    {
     "data": {
      "text/plain": [
       "False"
      ]
     },
     "execution_count": 9,
     "metadata": {},
     "output_type": "execute_result"
    }
   ],
   "source": [
    "word5.endswith('musk')"
   ]
  },
  {
   "cell_type": "code",
   "execution_count": 10,
   "id": "3a10f665",
   "metadata": {},
   "outputs": [],
   "source": [
    "word1=\"computer\""
   ]
  },
  {
   "cell_type": "code",
   "execution_count": 11,
   "id": "9b16e55a",
   "metadata": {},
   "outputs": [
    {
     "data": {
      "text/plain": [
       "'computer'"
      ]
     },
     "execution_count": 11,
     "metadata": {},
     "output_type": "execute_result"
    }
   ],
   "source": [
    "word1"
   ]
  },
  {
   "cell_type": "code",
   "execution_count": 12,
   "id": "b2dbf74f",
   "metadata": {},
   "outputs": [
    {
     "data": {
      "text/plain": [
       "True"
      ]
     },
     "execution_count": 12,
     "metadata": {},
     "output_type": "execute_result"
    }
   ],
   "source": [
    "word1.islower()"
   ]
  },
  {
   "cell_type": "code",
   "execution_count": 13,
   "id": "a46980e1",
   "metadata": {},
   "outputs": [
    {
     "data": {
      "text/plain": [
       "False"
      ]
     },
     "execution_count": 13,
     "metadata": {},
     "output_type": "execute_result"
    }
   ],
   "source": [
    "word1.isupper()"
   ]
  },
  {
   "cell_type": "code",
   "execution_count": 14,
   "id": "e482002e",
   "metadata": {},
   "outputs": [],
   "source": [
    "word2=\"LENOVO\""
   ]
  },
  {
   "cell_type": "code",
   "execution_count": 15,
   "id": "05124b71",
   "metadata": {},
   "outputs": [
    {
     "data": {
      "text/plain": [
       "False"
      ]
     },
     "execution_count": 15,
     "metadata": {},
     "output_type": "execute_result"
    }
   ],
   "source": [
    "word2.islower()"
   ]
  },
  {
   "cell_type": "code",
   "execution_count": 16,
   "id": "a6eedd50",
   "metadata": {},
   "outputs": [
    {
     "data": {
      "text/plain": [
       "True"
      ]
     },
     "execution_count": 16,
     "metadata": {},
     "output_type": "execute_result"
    }
   ],
   "source": [
    "word2.isupper()"
   ]
  },
  {
   "cell_type": "code",
   "execution_count": 17,
   "id": "78997546",
   "metadata": {},
   "outputs": [],
   "source": [
    "word3=\"SamSung\""
   ]
  },
  {
   "cell_type": "code",
   "execution_count": 18,
   "id": "ff1fd7d8",
   "metadata": {},
   "outputs": [
    {
     "data": {
      "text/plain": [
       "False"
      ]
     },
     "execution_count": 18,
     "metadata": {},
     "output_type": "execute_result"
    }
   ],
   "source": [
    "word3.isupper()"
   ]
  },
  {
   "cell_type": "code",
   "execution_count": 19,
   "id": "52192bd2",
   "metadata": {},
   "outputs": [
    {
     "data": {
      "text/plain": [
       "False"
      ]
     },
     "execution_count": 19,
     "metadata": {},
     "output_type": "execute_result"
    }
   ],
   "source": [
    "word3.islower()"
   ]
  },
  {
   "cell_type": "code",
   "execution_count": 20,
   "id": "d4b35158",
   "metadata": {},
   "outputs": [
    {
     "data": {
      "text/plain": [
       "'LENOVO'"
      ]
     },
     "execution_count": 20,
     "metadata": {},
     "output_type": "execute_result"
    }
   ],
   "source": [
    "word2"
   ]
  },
  {
   "cell_type": "code",
   "execution_count": 22,
   "id": "a621bcd0",
   "metadata": {},
   "outputs": [
    {
     "data": {
      "text/plain": [
       "True"
      ]
     },
     "execution_count": 22,
     "metadata": {},
     "output_type": "execute_result"
    }
   ],
   "source": [
    "word2.isalpha()"
   ]
  },
  {
   "cell_type": "code",
   "execution_count": 23,
   "id": "6ab2a51d",
   "metadata": {},
   "outputs": [],
   "source": [
    "a=\"TdgGh\""
   ]
  },
  {
   "cell_type": "code",
   "execution_count": 24,
   "id": "cecdc7cb",
   "metadata": {},
   "outputs": [
    {
     "data": {
      "text/plain": [
       "True"
      ]
     },
     "execution_count": 24,
     "metadata": {},
     "output_type": "execute_result"
    }
   ],
   "source": [
    "a.isalpha()"
   ]
  },
  {
   "cell_type": "code",
   "execution_count": 25,
   "id": "d03f2b27",
   "metadata": {},
   "outputs": [],
   "source": [
    "b='def86'"
   ]
  },
  {
   "cell_type": "code",
   "execution_count": 28,
   "id": "26d0503a",
   "metadata": {},
   "outputs": [
    {
     "data": {
      "text/plain": [
       "False"
      ]
     },
     "execution_count": 28,
     "metadata": {},
     "output_type": "execute_result"
    }
   ],
   "source": [
    "b.isalpha()"
   ]
  },
  {
   "cell_type": "code",
   "execution_count": 29,
   "id": "5459952b",
   "metadata": {},
   "outputs": [
    {
     "data": {
      "text/plain": [
       "False"
      ]
     },
     "execution_count": 29,
     "metadata": {},
     "output_type": "execute_result"
    }
   ],
   "source": [
    "b.isdigit()"
   ]
  },
  {
   "cell_type": "code",
   "execution_count": 30,
   "id": "fcb80bcf",
   "metadata": {},
   "outputs": [
    {
     "data": {
      "text/plain": [
       "True"
      ]
     },
     "execution_count": 30,
     "metadata": {},
     "output_type": "execute_result"
    }
   ],
   "source": [
    "b.isalnum()"
   ]
  },
  {
   "cell_type": "markdown",
   "id": "add5d380",
   "metadata": {},
   "source": [
    "THESE ARE ALL THE PREDEFINED FUNCTIONS ."
   ]
  },
  {
   "cell_type": "markdown",
   "id": "cc84e079",
   "metadata": {},
   "source": [
    "FIND()- this will count the each character (a,b,c,d,e) inxcluding spaces and its starts with '0' index."
   ]
  },
  {
   "cell_type": "code",
   "execution_count": 31,
   "id": "5ceb96d5",
   "metadata": {},
   "outputs": [
    {
     "data": {
      "text/plain": [
       "'elon musk is ceo of tesla'"
      ]
     },
     "execution_count": 31,
     "metadata": {},
     "output_type": "execute_result"
    }
   ],
   "source": [
    "word5"
   ]
  },
  {
   "cell_type": "code",
   "execution_count": 32,
   "id": "8a5298f5",
   "metadata": {},
   "outputs": [
    {
     "data": {
      "text/plain": [
       "0"
      ]
     },
     "execution_count": 32,
     "metadata": {},
     "output_type": "execute_result"
    }
   ],
   "source": [
    "word5.find('elon')"
   ]
  },
  {
   "cell_type": "code",
   "execution_count": 33,
   "id": "cf5186c3",
   "metadata": {},
   "outputs": [
    {
     "data": {
      "text/plain": [
       "5"
      ]
     },
     "execution_count": 33,
     "metadata": {},
     "output_type": "execute_result"
    }
   ],
   "source": [
    "word5.find('musk')"
   ]
  },
  {
   "cell_type": "code",
   "execution_count": 34,
   "id": "9977659a",
   "metadata": {},
   "outputs": [
    {
     "data": {
      "text/plain": [
       "20"
      ]
     },
     "execution_count": 34,
     "metadata": {},
     "output_type": "execute_result"
    }
   ],
   "source": [
    "word5.find('tesla')"
   ]
  },
  {
   "cell_type": "code",
   "execution_count": 35,
   "id": "62af5d50",
   "metadata": {},
   "outputs": [
    {
     "data": {
      "text/plain": [
       "13"
      ]
     },
     "execution_count": 35,
     "metadata": {},
     "output_type": "execute_result"
    }
   ],
   "source": [
    "word5.find('ceo')"
   ]
  },
  {
   "cell_type": "code",
   "execution_count": 36,
   "id": "35cc84f9",
   "metadata": {},
   "outputs": [
    {
     "data": {
      "text/plain": [
       "13"
      ]
     },
     "execution_count": 36,
     "metadata": {},
     "output_type": "execute_result"
    }
   ],
   "source": [
    "word5.find('ceo',10,20)"
   ]
  },
  {
   "cell_type": "markdown",
   "id": "0ee3a307",
   "metadata": {},
   "source": [
    "COUNT()operation- THE COUNT METHOD returns the number of occurences of a substring in the given string.\n",
    "\n",
    " this is character-wise counting. this  is case sensitive."
   ]
  },
  {
   "cell_type": "code",
   "execution_count": 1,
   "id": "f1e93502",
   "metadata": {},
   "outputs": [],
   "source": [
    "word8=\"Python is a popular programming language\""
   ]
  },
  {
   "cell_type": "code",
   "execution_count": 2,
   "id": "1b21ee6b",
   "metadata": {},
   "outputs": [
    {
     "data": {
      "text/plain": [
       "'Python is a popular programming language'"
      ]
     },
     "execution_count": 2,
     "metadata": {},
     "output_type": "execute_result"
    }
   ],
   "source": [
    "word8"
   ]
  },
  {
   "cell_type": "code",
   "execution_count": 3,
   "id": "b3afb765",
   "metadata": {},
   "outputs": [
    {
     "data": {
      "text/plain": [
       "3"
      ]
     },
     "execution_count": 3,
     "metadata": {},
     "output_type": "execute_result"
    }
   ],
   "source": [
    "word8.count(\"p\")"
   ]
  },
  {
   "cell_type": "code",
   "execution_count": 4,
   "id": "f5f3321b",
   "metadata": {},
   "outputs": [
    {
     "data": {
      "text/plain": [
       "1"
      ]
     },
     "execution_count": 4,
     "metadata": {},
     "output_type": "execute_result"
    }
   ],
   "source": [
    "word8.count('P')"
   ]
  },
  {
   "cell_type": "code",
   "execution_count": 5,
   "id": "76b004d9",
   "metadata": {},
   "outputs": [
    {
     "data": {
      "text/plain": [
       "1"
      ]
     },
     "execution_count": 5,
     "metadata": {},
     "output_type": "execute_result"
    }
   ],
   "source": [
    "word8.count('s')"
   ]
  },
  {
   "cell_type": "markdown",
   "id": "26fbd1ee",
   "metadata": {},
   "source": [
    "Replace()- anything we want to replace with any other word . so replace function is used."
   ]
  },
  {
   "cell_type": "code",
   "execution_count": 6,
   "id": "cf377c0b",
   "metadata": {},
   "outputs": [],
   "source": [
    "word1=\"NASA is building hotel projects in Mars\""
   ]
  },
  {
   "cell_type": "code",
   "execution_count": 7,
   "id": "3000d6e4",
   "metadata": {},
   "outputs": [
    {
     "data": {
      "text/plain": [
       "'NASA is building hotel projects in Mars'"
      ]
     },
     "execution_count": 7,
     "metadata": {},
     "output_type": "execute_result"
    }
   ],
   "source": [
    "word1"
   ]
  },
  {
   "cell_type": "code",
   "execution_count": 8,
   "id": "322bc5a1",
   "metadata": {},
   "outputs": [
    {
     "data": {
      "text/plain": [
       "'SPACEX is building hotel projects in Mars'"
      ]
     },
     "execution_count": 8,
     "metadata": {},
     "output_type": "execute_result"
    }
   ],
   "source": [
    "word1.replace(\"NASA\",\"SPACEX\")"
   ]
  },
  {
   "cell_type": "code",
   "execution_count": 14,
   "id": "66fb9a56",
   "metadata": {},
   "outputs": [],
   "source": [
    "x=\"Data science is growing field based on Data\""
   ]
  },
  {
   "cell_type": "code",
   "execution_count": 15,
   "id": "8bd6b211",
   "metadata": {},
   "outputs": [
    {
     "data": {
      "text/plain": [
       "'Data science is growing field based on Data'"
      ]
     },
     "execution_count": 15,
     "metadata": {},
     "output_type": "execute_result"
    }
   ],
   "source": [
    "x"
   ]
  },
  {
   "cell_type": "code",
   "execution_count": 16,
   "id": "daf70360",
   "metadata": {},
   "outputs": [
    {
     "data": {
      "text/plain": [
       "'Analytics science is growing field based on Analytics'"
      ]
     },
     "execution_count": 16,
     "metadata": {},
     "output_type": "execute_result"
    }
   ],
   "source": [
    "x.replace(\"Data\",\"Analytics\")"
   ]
  },
  {
   "cell_type": "markdown",
   "id": "40d0d97a",
   "metadata": {},
   "source": [
    "JOIN() operation- this joins the entire word as a single sentence.\n"
   ]
  },
  {
   "cell_type": "code",
   "execution_count": 19,
   "id": "7a1f667e",
   "metadata": {},
   "outputs": [],
   "source": [
    "text=[\"NASA\",'is','building','hotel','project','in','Mars']"
   ]
  },
  {
   "cell_type": "code",
   "execution_count": 20,
   "id": "6c1edebc",
   "metadata": {},
   "outputs": [
    {
     "data": {
      "text/plain": [
       "['NASA', 'is', 'building', 'hotel', 'project', 'in', 'Mars']"
      ]
     },
     "execution_count": 20,
     "metadata": {},
     "output_type": "execute_result"
    }
   ],
   "source": [
    "text"
   ]
  },
  {
   "cell_type": "code",
   "execution_count": 21,
   "id": "953561fb",
   "metadata": {},
   "outputs": [
    {
     "data": {
      "text/plain": [
       "'NASAisbuildinghotelprojectinMars'"
      ]
     },
     "execution_count": 21,
     "metadata": {},
     "output_type": "execute_result"
    }
   ],
   "source": [
    "''.join(text)"
   ]
  },
  {
   "cell_type": "code",
   "execution_count": 22,
   "id": "1c5bd741",
   "metadata": {},
   "outputs": [
    {
     "data": {
      "text/plain": [
       "'NASA is building hotel project in Mars'"
      ]
     },
     "execution_count": 22,
     "metadata": {},
     "output_type": "execute_result"
    }
   ],
   "source": [
    "' '.join(text)"
   ]
  },
  {
   "cell_type": "markdown",
   "id": "f29db841",
   "metadata": {},
   "source": [
    "CASEFOLD()OPERATION-if we want to take both value as similar use casefold operation.\n",
    "In this ,all the character are treated as similar without any case sensitiveness."
   ]
  },
  {
   "cell_type": "code",
   "execution_count": 23,
   "id": "4bbe6a91",
   "metadata": {},
   "outputs": [],
   "source": [
    "string1=\"Tesla\""
   ]
  },
  {
   "cell_type": "code",
   "execution_count": 24,
   "id": "ac474fae",
   "metadata": {},
   "outputs": [],
   "source": [
    "string2=\"tesla\""
   ]
  },
  {
   "cell_type": "code",
   "execution_count": 25,
   "id": "2b4d31ed",
   "metadata": {},
   "outputs": [
    {
     "name": "stdout",
     "output_type": "stream",
     "text": [
      "The two strings are matching\n"
     ]
    }
   ],
   "source": [
    "if string1.casefold()==string2.casefold():\n",
    "    print(\"The two strings are matching\")\n",
    "else:\n",
    "    print(\"The two strings are not matchng\")"
   ]
  },
  {
   "cell_type": "code",
   "execution_count": 26,
   "id": "d9a9f82a",
   "metadata": {},
   "outputs": [],
   "source": [
    "x=\"New\""
   ]
  },
  {
   "cell_type": "code",
   "execution_count": 27,
   "id": "f7b430c2",
   "metadata": {},
   "outputs": [],
   "source": [
    "y=\"year\""
   ]
  },
  {
   "cell_type": "code",
   "execution_count": 32,
   "id": "62fc678e",
   "metadata": {},
   "outputs": [
    {
     "name": "stdout",
     "output_type": "stream",
     "text": [
      "No match\n"
     ]
    }
   ],
   "source": [
    "if x.casefold()==y.casefold():\n",
    "    print(x+y)\n",
    "else:\n",
    "    print(\"No match\")"
   ]
  },
  {
   "cell_type": "code",
   "execution_count": 33,
   "id": "932796f2",
   "metadata": {},
   "outputs": [
    {
     "name": "stdout",
     "output_type": "stream",
     "text": [
      "Newyear\n"
     ]
    }
   ],
   "source": [
    "print(x+y)"
   ]
  },
  {
   "cell_type": "markdown",
   "id": "c2587aa8",
   "metadata": {},
   "source": [
    "C STYLE FORMATTING-USE TO CREATE NEW FORMATTED STRINGS.\n",
    "\n",
    "%- THIS SYMBOL WILL CONCATENATE TWO THINGS TOGETHER.\n",
    "\n",
    "\n",
    "there are 2 types of formats in python-\n",
    "1)C STYLE FORMAT\n",
    "2)STRING.FORMAT\n",
    "\n",
    "%s- denotes strings data\n",
    "%d- denotes digit data\n",
    "%f-denotes float/decimal data\n",
    "\n",
    "C STYLE FORMAT is a format where we can write entire c style format with teh representation of %s,%d,%f."
   ]
  },
  {
   "cell_type": "code",
   "execution_count": 35,
   "id": "38ad3ec2",
   "metadata": {},
   "outputs": [],
   "source": [
    "name=\"John\""
   ]
  },
  {
   "cell_type": "code",
   "execution_count": 36,
   "id": "db65ffab",
   "metadata": {},
   "outputs": [
    {
     "name": "stdout",
     "output_type": "stream",
     "text": [
      "Hello,John\n"
     ]
    }
   ],
   "source": [
    "print(\"Hello,%s\"%name)"
   ]
  },
  {
   "cell_type": "code",
   "execution_count": 37,
   "id": "fb32321c",
   "metadata": {},
   "outputs": [
    {
     "name": "stdout",
     "output_type": "stream",
     "text": [
      "Hello,John!\n"
     ]
    }
   ],
   "source": [
    "print(\"Hello,%s!\"%name)"
   ]
  },
  {
   "cell_type": "markdown",
   "id": "5177d6cd",
   "metadata": {},
   "source": [
    "or using direct style without c style format."
   ]
  },
  {
   "cell_type": "code",
   "execution_count": 39,
   "id": "ad233101",
   "metadata": {},
   "outputs": [
    {
     "name": "stdout",
     "output_type": "stream",
     "text": [
      "Hello John\n"
     ]
    }
   ],
   "source": [
    "print(\"Hello\",name)"
   ]
  },
  {
   "cell_type": "code",
   "execution_count": 40,
   "id": "dc416b84",
   "metadata": {},
   "outputs": [],
   "source": [
    "name=\"John\""
   ]
  },
  {
   "cell_type": "code",
   "execution_count": 41,
   "id": "da26635b",
   "metadata": {},
   "outputs": [],
   "source": [
    "age=23"
   ]
  },
  {
   "cell_type": "code",
   "execution_count": 42,
   "id": "8945af15",
   "metadata": {},
   "outputs": [],
   "source": [
    "salary=6889.564"
   ]
  },
  {
   "cell_type": "code",
   "execution_count": 44,
   "id": "6579a4b9",
   "metadata": {},
   "outputs": [
    {
     "name": "stdout",
     "output_type": "stream",
     "text": [
      "John is 23 years old taking salary 6889.564000\n"
     ]
    }
   ],
   "source": [
    "print(\"%s is %d years old taking salary %f\"%(name,age,salary))"
   ]
  },
  {
   "cell_type": "code",
   "execution_count": 45,
   "id": "794b5000",
   "metadata": {},
   "outputs": [
    {
     "name": "stdout",
     "output_type": "stream",
     "text": [
      "salary=6889.56\n"
     ]
    }
   ],
   "source": [
    "print('salary=%0.2f'%salary)"
   ]
  },
  {
   "cell_type": "code",
   "execution_count": 48,
   "id": "4d090936",
   "metadata": {},
   "outputs": [
    {
     "name": "stdout",
     "output_type": "stream",
     "text": [
      "salary=6889.6\n"
     ]
    }
   ],
   "source": [
    "print('salary=%0.1f'%salary)"
   ]
  },
  {
   "cell_type": "code",
   "execution_count": 49,
   "id": "88b034a6",
   "metadata": {},
   "outputs": [],
   "source": [
    "fruit1=\"Apples\""
   ]
  },
  {
   "cell_type": "code",
   "execution_count": 50,
   "id": "7ae1084a",
   "metadata": {},
   "outputs": [],
   "source": [
    "fruit2=\"Mango\""
   ]
  },
  {
   "cell_type": "code",
   "execution_count": 51,
   "id": "d753d657",
   "metadata": {},
   "outputs": [],
   "source": [
    "fruit3=\"Grapes\""
   ]
  },
  {
   "cell_type": "code",
   "execution_count": 52,
   "id": "f8a7725f",
   "metadata": {},
   "outputs": [
    {
     "name": "stdout",
     "output_type": "stream",
     "text": [
      "I like to eat Apples,Mango and Grapes\n"
     ]
    }
   ],
   "source": [
    "print(\"I like to eat %s,%s and %s\"%(fruit1,fruit2,fruit3))"
   ]
  },
  {
   "cell_type": "markdown",
   "id": "872eaaa0",
   "metadata": {},
   "source": [
    "STRING.FORMAT FUNCTION-\n",
    "WE CAN USE { } AS PLACEHOLDER of variable."
   ]
  },
  {
   "cell_type": "code",
   "execution_count": 54,
   "id": "694a9ff4",
   "metadata": {},
   "outputs": [
    {
     "name": "stdout",
     "output_type": "stream",
     "text": [
      "people generally take coke with pizza\n"
     ]
    }
   ],
   "source": [
    "print(\"people generally take {} with {}\".format(\"coke\",\"pizza\"))"
   ]
  },
  {
   "cell_type": "code",
   "execution_count": 55,
   "id": "2987ef25",
   "metadata": {},
   "outputs": [
    {
     "name": "stdout",
     "output_type": "stream",
     "text": [
      "people generally take coke with pizza\n"
     ]
    }
   ],
   "source": [
    "print(\"people generally take {0} with {1}\".format(\"coke\",\"pizza\"))"
   ]
  },
  {
   "cell_type": "code",
   "execution_count": 56,
   "id": "092b5720",
   "metadata": {},
   "outputs": [
    {
     "name": "stdout",
     "output_type": "stream",
     "text": [
      "people generally take pizza with coke\n"
     ]
    }
   ],
   "source": [
    "print(\"people generally take {1} with {0}\".format(\"coke\",\"pizza\"))"
   ]
  },
  {
   "cell_type": "code",
   "execution_count": null,
   "id": "d86779fd",
   "metadata": {},
   "outputs": [],
   "source": []
  }
 ],
 "metadata": {
  "kernelspec": {
   "display_name": "Python 3 (ipykernel)",
   "language": "python",
   "name": "python3"
  },
  "language_info": {
   "codemirror_mode": {
    "name": "ipython",
    "version": 3
   },
   "file_extension": ".py",
   "mimetype": "text/x-python",
   "name": "python",
   "nbconvert_exporter": "python",
   "pygments_lexer": "ipython3",
   "version": "3.9.12"
  }
 },
 "nbformat": 4,
 "nbformat_minor": 5
}
