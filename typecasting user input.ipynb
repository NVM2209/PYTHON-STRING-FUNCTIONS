{
 "cells": [
  {
   "cell_type": "code",
   "execution_count": 1,
   "id": "44c8286b",
   "metadata": {},
   "outputs": [],
   "source": [
    " name=\"JOHN\""
   ]
  },
  {
   "cell_type": "code",
   "execution_count": 2,
   "id": "468f8754",
   "metadata": {},
   "outputs": [
    {
     "data": {
      "text/plain": [
       "'JOHN'"
      ]
     },
     "execution_count": 2,
     "metadata": {},
     "output_type": "execute_result"
    }
   ],
   "source": [
    "name"
   ]
  },
  {
   "cell_type": "code",
   "execution_count": 3,
   "id": "1f754fd5",
   "metadata": {},
   "outputs": [],
   "source": [
    "age=14"
   ]
  },
  {
   "cell_type": "code",
   "execution_count": 4,
   "id": "ab31be42",
   "metadata": {},
   "outputs": [
    {
     "data": {
      "text/plain": [
       "14"
      ]
     },
     "execution_count": 4,
     "metadata": {},
     "output_type": "execute_result"
    }
   ],
   "source": [
    "age"
   ]
  },
  {
   "cell_type": "code",
   "execution_count": 5,
   "id": "e8a46938",
   "metadata": {},
   "outputs": [
    {
     "data": {
      "text/plain": [
       "str"
      ]
     },
     "execution_count": 5,
     "metadata": {},
     "output_type": "execute_result"
    }
   ],
   "source": [
    "type(name)"
   ]
  },
  {
   "cell_type": "code",
   "execution_count": 6,
   "id": "d9cc5b40",
   "metadata": {},
   "outputs": [
    {
     "data": {
      "text/plain": [
       "int"
      ]
     },
     "execution_count": 6,
     "metadata": {},
     "output_type": "execute_result"
    }
   ],
   "source": [
    "type(age)"
   ]
  },
  {
   "cell_type": "code",
   "execution_count": 7,
   "id": "f6af24ca",
   "metadata": {},
   "outputs": [],
   "source": [
    "fees=9888.77"
   ]
  },
  {
   "cell_type": "code",
   "execution_count": 8,
   "id": "711f28e3",
   "metadata": {},
   "outputs": [
    {
     "data": {
      "text/plain": [
       "9888.77"
      ]
     },
     "execution_count": 8,
     "metadata": {},
     "output_type": "execute_result"
    }
   ],
   "source": [
    "fees"
   ]
  },
  {
   "cell_type": "code",
   "execution_count": 9,
   "id": "5d5e0e74",
   "metadata": {},
   "outputs": [
    {
     "data": {
      "text/plain": [
       "float"
      ]
     },
     "execution_count": 9,
     "metadata": {},
     "output_type": "execute_result"
    }
   ],
   "source": [
    "type(fees)"
   ]
  },
  {
   "cell_type": "markdown",
   "id": "52c616b5",
   "metadata": {},
   "source": [
    " string value is always in double quotes \"..\",only aphabets are used in double quotes.\n",
    "    no numerical number or value should come under double quotes.\n",
    "    name/city/a-z characters is variable untill it is not in double quote  .Inside double quotes ex- \"john\" it becomes a string."
   ]
  },
  {
   "cell_type": "markdown",
   "id": "bb8cd731",
   "metadata": {},
   "source": [
    "TYPECASTING\n",
    "\n",
    "MEANS converting of one type of data into another datatype ."
   ]
  },
  {
   "cell_type": "code",
   "execution_count": 1,
   "id": "bb98c793",
   "metadata": {},
   "outputs": [],
   "source": [
    "a=5"
   ]
  },
  {
   "cell_type": "code",
   "execution_count": 2,
   "id": "26b32e69",
   "metadata": {},
   "outputs": [
    {
     "data": {
      "text/plain": [
       "int"
      ]
     },
     "execution_count": 2,
     "metadata": {},
     "output_type": "execute_result"
    }
   ],
   "source": [
    "type(a)"
   ]
  },
  {
   "cell_type": "markdown",
   "id": "52c95c3b",
   "metadata": {},
   "source": [
    "how to convert/transfer integer in float value ?"
   ]
  },
  {
   "cell_type": "code",
   "execution_count": 4,
   "id": "e6079f5c",
   "metadata": {},
   "outputs": [],
   "source": [
    "a=5"
   ]
  },
  {
   "cell_type": "code",
   "execution_count": 5,
   "id": "59bceedc",
   "metadata": {},
   "outputs": [
    {
     "data": {
      "text/plain": [
       "5.0"
      ]
     },
     "execution_count": 5,
     "metadata": {},
     "output_type": "execute_result"
    }
   ],
   "source": [
    "float(a)"
   ]
  },
  {
   "cell_type": "markdown",
   "id": "3c993f18",
   "metadata": {},
   "source": [
    "this is called typecasting"
   ]
  },
  {
   "cell_type": "code",
   "execution_count": 7,
   "id": "3d48442e",
   "metadata": {},
   "outputs": [
    {
     "data": {
      "text/plain": [
       "5"
      ]
     },
     "execution_count": 7,
     "metadata": {},
     "output_type": "execute_result"
    }
   ],
   "source": [
    "int(a)"
   ]
  },
  {
   "cell_type": "markdown",
   "id": "9876ad0a",
   "metadata": {},
   "source": [
    "this is reverse typecasting"
   ]
  },
  {
   "cell_type": "code",
   "execution_count": 8,
   "id": "67e634ba",
   "metadata": {},
   "outputs": [],
   "source": [
    "age=14"
   ]
  },
  {
   "cell_type": "code",
   "execution_count": 9,
   "id": "edc19043",
   "metadata": {},
   "outputs": [
    {
     "data": {
      "text/plain": [
       "int"
      ]
     },
     "execution_count": 9,
     "metadata": {},
     "output_type": "execute_result"
    }
   ],
   "source": [
    "type(age)"
   ]
  },
  {
   "cell_type": "markdown",
   "id": "5d1dcceb",
   "metadata": {},
   "source": [
    "change this above value into float value ?"
   ]
  },
  {
   "cell_type": "code",
   "execution_count": 10,
   "id": "20f0a77d",
   "metadata": {},
   "outputs": [],
   "source": [
    "g=float(age)"
   ]
  },
  {
   "cell_type": "code",
   "execution_count": 11,
   "id": "3a473df7",
   "metadata": {},
   "outputs": [
    {
     "data": {
      "text/plain": [
       "14.0"
      ]
     },
     "execution_count": 11,
     "metadata": {},
     "output_type": "execute_result"
    }
   ],
   "source": [
    "g"
   ]
  },
  {
   "cell_type": "markdown",
   "id": "b60b11c5",
   "metadata": {},
   "source": [
    "g-- is a another variable which is holding the value of age ."
   ]
  },
  {
   "cell_type": "code",
   "execution_count": 12,
   "id": "b565981b",
   "metadata": {},
   "outputs": [
    {
     "data": {
      "text/plain": [
       "float"
      ]
     },
     "execution_count": 12,
     "metadata": {},
     "output_type": "execute_result"
    }
   ],
   "source": [
    "type(g)"
   ]
  },
  {
   "cell_type": "markdown",
   "id": "480cef10",
   "metadata": {},
   "source": [
    "how to convert float into integer datatype ?"
   ]
  },
  {
   "cell_type": "code",
   "execution_count": 13,
   "id": "f1382f4d",
   "metadata": {},
   "outputs": [],
   "source": [
    "fees=9888.77"
   ]
  },
  {
   "cell_type": "code",
   "execution_count": 14,
   "id": "4d176aee",
   "metadata": {},
   "outputs": [
    {
     "data": {
      "text/plain": [
       "float"
      ]
     },
     "execution_count": 14,
     "metadata": {},
     "output_type": "execute_result"
    }
   ],
   "source": [
    "type(fees)"
   ]
  },
  {
   "cell_type": "code",
   "execution_count": 15,
   "id": "bfd06379",
   "metadata": {},
   "outputs": [
    {
     "data": {
      "text/plain": [
       "9888.77"
      ]
     },
     "execution_count": 15,
     "metadata": {},
     "output_type": "execute_result"
    }
   ],
   "source": [
    "fees"
   ]
  },
  {
   "cell_type": "code",
   "execution_count": 16,
   "id": "2c2495f4",
   "metadata": {},
   "outputs": [],
   "source": [
    "m=int(fees)"
   ]
  },
  {
   "cell_type": "code",
   "execution_count": 17,
   "id": "91257d86",
   "metadata": {},
   "outputs": [
    {
     "data": {
      "text/plain": [
       "9888"
      ]
     },
     "execution_count": 17,
     "metadata": {},
     "output_type": "execute_result"
    }
   ],
   "source": [
    "m"
   ]
  },
  {
   "cell_type": "markdown",
   "id": "dd87ae3c",
   "metadata": {},
   "source": [
    "fees is float datatype but m become integer datatype."
   ]
  },
  {
   "cell_type": "code",
   "execution_count": 18,
   "id": "9f511ede",
   "metadata": {},
   "outputs": [
    {
     "data": {
      "text/plain": [
       "float"
      ]
     },
     "execution_count": 18,
     "metadata": {},
     "output_type": "execute_result"
    }
   ],
   "source": [
    "type(fees)"
   ]
  },
  {
   "cell_type": "code",
   "execution_count": 19,
   "id": "3e378243",
   "metadata": {},
   "outputs": [
    {
     "data": {
      "text/plain": [
       "int"
      ]
     },
     "execution_count": 19,
     "metadata": {},
     "output_type": "execute_result"
    }
   ],
   "source": [
    "type(m)"
   ]
  },
  {
   "cell_type": "code",
   "execution_count": 20,
   "id": "de80151c",
   "metadata": {},
   "outputs": [],
   "source": [
    "p=78"
   ]
  },
  {
   "cell_type": "code",
   "execution_count": 21,
   "id": "4a14ad80",
   "metadata": {},
   "outputs": [
    {
     "data": {
      "text/plain": [
       "78"
      ]
     },
     "execution_count": 21,
     "metadata": {},
     "output_type": "execute_result"
    }
   ],
   "source": [
    "p"
   ]
  },
  {
   "cell_type": "code",
   "execution_count": 22,
   "id": "7a0b0ea6",
   "metadata": {},
   "outputs": [
    {
     "data": {
      "text/plain": [
       "int"
      ]
     },
     "execution_count": 22,
     "metadata": {},
     "output_type": "execute_result"
    }
   ],
   "source": [
    "type(p)"
   ]
  },
  {
   "cell_type": "markdown",
   "id": "fc79e84d",
   "metadata": {},
   "source": [
    "but if"
   ]
  },
  {
   "cell_type": "code",
   "execution_count": 23,
   "id": "e408f10d",
   "metadata": {},
   "outputs": [],
   "source": [
    "p='78'"
   ]
  },
  {
   "cell_type": "code",
   "execution_count": 24,
   "id": "38aab9f4",
   "metadata": {},
   "outputs": [
    {
     "data": {
      "text/plain": [
       "'78'"
      ]
     },
     "execution_count": 24,
     "metadata": {},
     "output_type": "execute_result"
    }
   ],
   "source": [
    "p"
   ]
  },
  {
   "cell_type": "code",
   "execution_count": 25,
   "id": "ff03d81c",
   "metadata": {},
   "outputs": [
    {
     "data": {
      "text/plain": [
       "str"
      ]
     },
     "execution_count": 25,
     "metadata": {},
     "output_type": "execute_result"
    }
   ],
   "source": [
    "type(p)"
   ]
  },
  {
   "cell_type": "markdown",
   "id": "2bca67f4",
   "metadata": {},
   "source": [
    "becoz it is coming under single quotes"
   ]
  },
  {
   "cell_type": "markdown",
   "id": "a712e2b3",
   "metadata": {},
   "source": [
    "now in this case convert this above p into integer?"
   ]
  },
  {
   "cell_type": "code",
   "execution_count": 26,
   "id": "7af9931a",
   "metadata": {},
   "outputs": [],
   "source": [
    "f=int(p)"
   ]
  },
  {
   "cell_type": "code",
   "execution_count": 27,
   "id": "5cd12308",
   "metadata": {},
   "outputs": [
    {
     "data": {
      "text/plain": [
       "78"
      ]
     },
     "execution_count": 27,
     "metadata": {},
     "output_type": "execute_result"
    }
   ],
   "source": [
    "f"
   ]
  },
  {
   "cell_type": "markdown",
   "id": "63378a7f",
   "metadata": {},
   "source": [
    "this is called typecasting ( of p)"
   ]
  },
  {
   "cell_type": "code",
   "execution_count": 28,
   "id": "44be8471",
   "metadata": {},
   "outputs": [
    {
     "data": {
      "text/plain": [
       "int"
      ]
     },
     "execution_count": 28,
     "metadata": {},
     "output_type": "execute_result"
    }
   ],
   "source": [
    "type(f)"
   ]
  },
  {
   "cell_type": "markdown",
   "id": "ac904a20",
   "metadata": {},
   "source": [
    "avoid converting integer to strings "
   ]
  },
  {
   "cell_type": "markdown",
   "id": "c6c301bb",
   "metadata": {},
   "source": [
    "USER INPUT - INPUT FUNCTION IS any user value can be entered .\n",
    "\"enter value \" means you can enter any value in the box then PRESS Enter key(DO NOT PRESS ENTER KEY)"
   ]
  },
  {
   "cell_type": "markdown",
   "id": "5cab919e",
   "metadata": {},
   "source": [
    "HOW to take user input?"
   ]
  },
  {
   "cell_type": "code",
   "execution_count": 5,
   "id": "681c533f",
   "metadata": {},
   "outputs": [
    {
     "name": "stdout",
     "output_type": "stream",
     "text": [
      "Enter Value 300\n"
     ]
    }
   ],
   "source": [
    "a=input(\"Enter Value \")"
   ]
  },
  {
   "cell_type": "code",
   "execution_count": 6,
   "id": "a21b541b",
   "metadata": {},
   "outputs": [
    {
     "data": {
      "text/plain": [
       "'300'"
      ]
     },
     "execution_count": 6,
     "metadata": {},
     "output_type": "execute_result"
    }
   ],
   "source": [
    "a"
   ]
  },
  {
   "cell_type": "code",
   "execution_count": 7,
   "id": "a11b5f0b",
   "metadata": {},
   "outputs": [
    {
     "name": "stdout",
     "output_type": "stream",
     "text": [
      "Enter value50\n"
     ]
    }
   ],
   "source": [
    "b=input(\"Enter value\")"
   ]
  },
  {
   "cell_type": "code",
   "execution_count": 8,
   "id": "9cfda10f",
   "metadata": {},
   "outputs": [
    {
     "data": {
      "text/plain": [
       "'50'"
      ]
     },
     "execution_count": 8,
     "metadata": {},
     "output_type": "execute_result"
    }
   ],
   "source": [
    "b"
   ]
  },
  {
   "cell_type": "code",
   "execution_count": 9,
   "id": "4e2605cb",
   "metadata": {},
   "outputs": [
    {
     "name": "stdout",
     "output_type": "stream",
     "text": [
      "Enter value35526\n"
     ]
    }
   ],
   "source": [
    "c=input(\"Enter value\")"
   ]
  },
  {
   "cell_type": "code",
   "execution_count": 10,
   "id": "86039413",
   "metadata": {},
   "outputs": [
    {
     "data": {
      "text/plain": [
       "'35526'"
      ]
     },
     "execution_count": 10,
     "metadata": {},
     "output_type": "execute_result"
    }
   ],
   "source": [
    "c"
   ]
  },
  {
   "cell_type": "code",
   "execution_count": 12,
   "id": "dc2c72e5",
   "metadata": {},
   "outputs": [
    {
     "name": "stdout",
     "output_type": "stream",
     "text": [
      "Enter value1537.78\n"
     ]
    }
   ],
   "source": [
    "d=input(\"Enter value\")\n"
   ]
  },
  {
   "cell_type": "code",
   "execution_count": 13,
   "id": "6738d3b4",
   "metadata": {},
   "outputs": [
    {
     "data": {
      "text/plain": [
       "'1537.78'"
      ]
     },
     "execution_count": 13,
     "metadata": {},
     "output_type": "execute_result"
    }
   ],
   "source": [
    "d"
   ]
  },
  {
   "cell_type": "markdown",
   "id": "a5bca819",
   "metadata": {},
   "source": [
    "* Hanging sign- this sign mean your jupyter is hanky-- go to kernel and click interrupt"
   ]
  },
  {
   "cell_type": "code",
   "execution_count": 15,
   "id": "c903888d",
   "metadata": {},
   "outputs": [
    {
     "name": "stdout",
     "output_type": "stream",
     "text": [
      "Enter the name of any cityLondon\n"
     ]
    }
   ],
   "source": [
    "city=input(\"Enter the name of any city\")"
   ]
  },
  {
   "cell_type": "code",
   "execution_count": 16,
   "id": "76013bdb",
   "metadata": {},
   "outputs": [
    {
     "data": {
      "text/plain": [
       "'London'"
      ]
     },
     "execution_count": 16,
     "metadata": {},
     "output_type": "execute_result"
    }
   ],
   "source": [
    "city"
   ]
  },
  {
   "cell_type": "markdown",
   "id": "1b015d2c",
   "metadata": {},
   "source": [
    "the entire value will be taken as the string"
   ]
  },
  {
   "cell_type": "code",
   "execution_count": 17,
   "id": "1be4950d",
   "metadata": {},
   "outputs": [
    {
     "name": "stdout",
     "output_type": "stream",
     "text": [
      "enter any city name NEWYORK\n"
     ]
    }
   ],
   "source": [
    "city=input(\"enter any city name \")"
   ]
  },
  {
   "cell_type": "code",
   "execution_count": 18,
   "id": "659246a7",
   "metadata": {},
   "outputs": [
    {
     "data": {
      "text/plain": [
       "'NEWYORK'"
      ]
     },
     "execution_count": 18,
     "metadata": {},
     "output_type": "execute_result"
    }
   ],
   "source": [
    "city"
   ]
  },
  {
   "cell_type": "markdown",
   "id": "0479e59c",
   "metadata": {},
   "source": [
    "with the help of input value ,you can enter any dynamic value or any runtime value ."
   ]
  },
  {
   "cell_type": "code",
   "execution_count": 19,
   "id": "8986b202",
   "metadata": {},
   "outputs": [
    {
     "name": "stdout",
     "output_type": "stream",
     "text": [
      "Enter any country name France\n"
     ]
    }
   ],
   "source": [
    "country=input(\"Enter any country name \")"
   ]
  },
  {
   "cell_type": "code",
   "execution_count": 20,
   "id": "93fbbf74",
   "metadata": {},
   "outputs": [
    {
     "data": {
      "text/plain": [
       "'France'"
      ]
     },
     "execution_count": 20,
     "metadata": {},
     "output_type": "execute_result"
    }
   ],
   "source": [
    "country"
   ]
  },
  {
   "cell_type": "code",
   "execution_count": 22,
   "id": "a1ee8159",
   "metadata": {},
   "outputs": [
    {
     "name": "stdout",
     "output_type": "stream",
     "text": [
      "Enter any country name INDIA\n"
     ]
    },
    {
     "data": {
      "text/plain": [
       "'INDIA'"
      ]
     },
     "execution_count": 22,
     "metadata": {},
     "output_type": "execute_result"
    }
   ],
   "source": [
    "country=input(\"Enter any country name \")\n",
    "\n",
    "country"
   ]
  },
  {
   "cell_type": "code",
   "execution_count": 23,
   "id": "66f522d0",
   "metadata": {},
   "outputs": [
    {
     "name": "stdout",
     "output_type": "stream",
     "text": [
      "enter any country nameParis\n"
     ]
    },
    {
     "data": {
      "text/plain": [
       "'Paris'"
      ]
     },
     "execution_count": 23,
     "metadata": {},
     "output_type": "execute_result"
    }
   ],
   "source": [
    "country=input(\"enter any country name\")\n",
    "\n",
    "country"
   ]
  },
  {
   "cell_type": "markdown",
   "id": "96fc7885",
   "metadata": {},
   "source": [
    "the point is --input functions are created just to take the user input ,directly from the users ... to take runtime values."
   ]
  },
  {
   "cell_type": "markdown",
   "id": "ff0dff87",
   "metadata": {},
   "source": [
    "HOW TO ENTER NUMBER INPUT ?"
   ]
  },
  {
   "cell_type": "code",
   "execution_count": 29,
   "id": "ccfefe13",
   "metadata": {},
   "outputs": [
    {
     "name": "stdout",
     "output_type": "stream",
     "text": [
      "enter any first number 100\n"
     ]
    }
   ],
   "source": [
    "x=input(\"enter any first number \")\n",
    "\n"
   ]
  },
  {
   "cell_type": "code",
   "execution_count": 30,
   "id": "21c5a38c",
   "metadata": {},
   "outputs": [
    {
     "data": {
      "text/plain": [
       "'100'"
      ]
     },
     "execution_count": 30,
     "metadata": {},
     "output_type": "execute_result"
    }
   ],
   "source": [
    "x"
   ]
  },
  {
   "cell_type": "code",
   "execution_count": 31,
   "id": "d2791dc8",
   "metadata": {},
   "outputs": [
    {
     "data": {
      "text/plain": [
       "str"
      ]
     },
     "execution_count": 31,
     "metadata": {},
     "output_type": "execute_result"
    }
   ],
   "source": [
    "type(x)"
   ]
  },
  {
   "cell_type": "code",
   "execution_count": 32,
   "id": "66d761b9",
   "metadata": {},
   "outputs": [
    {
     "name": "stdout",
     "output_type": "stream",
     "text": [
      "Enter any second value 200\n"
     ]
    }
   ],
   "source": [
    "y=input(\"Enter any second value \")"
   ]
  },
  {
   "cell_type": "code",
   "execution_count": 33,
   "id": "c0df614f",
   "metadata": {},
   "outputs": [
    {
     "data": {
      "text/plain": [
       "'200'"
      ]
     },
     "execution_count": 33,
     "metadata": {},
     "output_type": "execute_result"
    }
   ],
   "source": [
    "y"
   ]
  },
  {
   "cell_type": "code",
   "execution_count": 34,
   "id": "47813df6",
   "metadata": {},
   "outputs": [
    {
     "data": {
      "text/plain": [
       "'100200'"
      ]
     },
     "execution_count": 34,
     "metadata": {},
     "output_type": "execute_result"
    }
   ],
   "source": [
    "x+y"
   ]
  },
  {
   "cell_type": "markdown",
   "id": "5f730a91",
   "metadata": {},
   "source": [
    "this is STRING CONCATENATION ,because both are having single quotes '100''200' so this will become '100200' due to string concatenation"
   ]
  },
  {
   "cell_type": "markdown",
   "id": "309c0ec9",
   "metadata": {},
   "source": [
    "HOW TO DO THE MATHEMATICAL CALCULATION SUCH AS ADDITION ?"
   ]
  },
  {
   "cell_type": "code",
   "execution_count": 42,
   "id": "ecd69db8",
   "metadata": {},
   "outputs": [
    {
     "name": "stdout",
     "output_type": "stream",
     "text": [
      "enter any first number 70\n"
     ]
    },
    {
     "data": {
      "text/plain": [
       "70"
      ]
     },
     "execution_count": 42,
     "metadata": {},
     "output_type": "execute_result"
    }
   ],
   "source": [
    "x=int(input(\"enter any first number \"))\n",
    "\n",
    "x"
   ]
  },
  {
   "cell_type": "code",
   "execution_count": 43,
   "id": "b583a732",
   "metadata": {},
   "outputs": [
    {
     "data": {
      "text/plain": [
       "int"
      ]
     },
     "execution_count": 43,
     "metadata": {},
     "output_type": "execute_result"
    }
   ],
   "source": [
    "type(x)"
   ]
  },
  {
   "cell_type": "markdown",
   "id": "356319d3",
   "metadata": {},
   "source": [
    "this means whatever string we add after put int command ,the whole command will change into int."
   ]
  },
  {
   "cell_type": "code",
   "execution_count": 44,
   "id": "d9133ca8",
   "metadata": {},
   "outputs": [
    {
     "name": "stdout",
     "output_type": "stream",
     "text": [
      "enter any second number50\n"
     ]
    }
   ],
   "source": [
    "y=int(input(\"enter any second number\"))"
   ]
  },
  {
   "cell_type": "code",
   "execution_count": 45,
   "id": "1442524c",
   "metadata": {},
   "outputs": [
    {
     "data": {
      "text/plain": [
       "50"
      ]
     },
     "execution_count": 45,
     "metadata": {},
     "output_type": "execute_result"
    }
   ],
   "source": [
    "y"
   ]
  },
  {
   "cell_type": "code",
   "execution_count": 47,
   "id": "78c055df",
   "metadata": {},
   "outputs": [
    {
     "data": {
      "text/plain": [
       "int"
      ]
     },
     "execution_count": 47,
     "metadata": {},
     "output_type": "execute_result"
    }
   ],
   "source": [
    "type(y)"
   ]
  },
  {
   "cell_type": "code",
   "execution_count": 46,
   "id": "4bd674c5",
   "metadata": {},
   "outputs": [
    {
     "data": {
      "text/plain": [
       "120"
      ]
     },
     "execution_count": 46,
     "metadata": {},
     "output_type": "execute_result"
    }
   ],
   "source": [
    "x+y"
   ]
  },
  {
   "cell_type": "markdown",
   "id": "9e223907",
   "metadata": {},
   "source": [
    "because not in quotes so the value got added"
   ]
  },
  {
   "cell_type": "markdown",
   "id": "0d6e1d82",
   "metadata": {},
   "source": [
    "# AREA OF RECTANGLE"
   ]
  },
  {
   "cell_type": "markdown",
   "id": "52889d94",
   "metadata": {},
   "source": [
    "How to find out area of rectangle with user input ?"
   ]
  },
  {
   "cell_type": "code",
   "execution_count": 50,
   "id": "22cfac71",
   "metadata": {},
   "outputs": [
    {
     "name": "stdout",
     "output_type": "stream",
     "text": [
      "40000\n"
     ]
    }
   ],
   "source": [
    "length=800\n",
    "\n",
    "breath=50\n",
    "\n",
    "area=length*breath\n",
    "\n",
    "print(area)"
   ]
  },
  {
   "cell_type": "code",
   "execution_count": 51,
   "id": "bca0ae46",
   "metadata": {},
   "outputs": [
    {
     "name": "stdout",
     "output_type": "stream",
     "text": [
      "the area of rectangle= 40000\n"
     ]
    }
   ],
   "source": [
    "print(\"the area of rectangle=\",area)"
   ]
  },
  {
   "cell_type": "code",
   "execution_count": 52,
   "id": "ba32ba4a",
   "metadata": {},
   "outputs": [
    {
     "name": "stdout",
     "output_type": "stream",
     "text": [
      "area of rectangle with length= 800 and breath= 50 is 40000\n"
     ]
    }
   ],
   "source": [
    "print(\"area of rectangle with length=\",length,\"and breath=\",breath,\"is\",area)"
   ]
  },
  {
   "cell_type": "markdown",
   "id": "777d74db",
   "metadata": {},
   "source": [
    "if we want to use user input functions?"
   ]
  },
  {
   "cell_type": "code",
   "execution_count": 60,
   "id": "ef100968",
   "metadata": {},
   "outputs": [
    {
     "name": "stdout",
     "output_type": "stream",
     "text": [
      "enter the value of length45\n",
      "enter the value of breath10\n",
      "450\n",
      "the area of rectangle= 450\n",
      "the area of rectangle with length= 45 and breath= 10 is 450\n"
     ]
    }
   ],
   "source": [
    "length=int(input(\"enter the value of length\"))\n",
    "\n",
    "breath=int(input(\"enter the value of breath\"))\n",
    "\n",
    "\n",
    "area=length*breath\n",
    "\n",
    "print(area)\n",
    "\n",
    "print(\"the area of rectangle=\",area)\n",
    "\n",
    "print(\"the area of rectangle with length=\",length,\"and breath=\",breath,\"is\",area )"
   ]
  },
  {
   "cell_type": "markdown",
   "id": "ae88c526",
   "metadata": {},
   "source": [
    "# AREA OF CIRCLE"
   ]
  },
  {
   "cell_type": "code",
   "execution_count": 62,
   "id": "0b1f8751",
   "metadata": {},
   "outputs": [
    {
     "name": "stdout",
     "output_type": "stream",
     "text": [
      "6358.5\n",
      "the area of circle = 6358.5\n"
     ]
    }
   ],
   "source": [
    "radius=45\n",
    "\n",
    "pi=3.14\n",
    "\n",
    "areaofcircle=pi*(radius**2)\n",
    "\n",
    "print(areaofcircle)\n",
    "print(\"the area of circle =\",areaofcircle)\n"
   ]
  },
  {
   "cell_type": "markdown",
   "id": "471f9e99",
   "metadata": {},
   "source": [
    "if we want to use this with user input functions?"
   ]
  },
  {
   "cell_type": "code",
   "execution_count": 63,
   "id": "d066c484",
   "metadata": {},
   "outputs": [
    {
     "name": "stdout",
     "output_type": "stream",
     "text": [
      "enter radius56\n",
      "9847.04\n",
      "area of circle= 9847.04\n"
     ]
    }
   ],
   "source": [
    "radius=int(input(\"enter radius\"))\n",
    "\n",
    "pi=3.14\n",
    "\n",
    "areaofcircle=pi*(radius**2)\n",
    "\n",
    "print(areaofcircle)\n",
    "\n",
    "print(\"area of circle=\",areaofcircle)"
   ]
  },
  {
   "cell_type": "markdown",
   "id": "c33d70f9",
   "metadata": {},
   "source": [
    "# CIRCUMFERENCE OF CIRCLE"
   ]
  },
  {
   "cell_type": "code",
   "execution_count": 64,
   "id": "9efd4843",
   "metadata": {},
   "outputs": [],
   "source": [
    "circumference=2*pi*radius"
   ]
  },
  {
   "cell_type": "code",
   "execution_count": 65,
   "id": "e4d4f238",
   "metadata": {},
   "outputs": [
    {
     "name": "stdout",
     "output_type": "stream",
     "text": [
      "the circumference of a circle= 351.68\n"
     ]
    }
   ],
   "source": [
    "print(\"the circumference of a circle=\",circumference)"
   ]
  },
  {
   "cell_type": "code",
   "execution_count": 70,
   "id": "4fc166eb",
   "metadata": {},
   "outputs": [
    {
     "name": "stdout",
     "output_type": "stream",
     "text": [
      "enter radius12\n"
     ]
    }
   ],
   "source": [
    "radius=int(input(\"enter radius\"))"
   ]
  },
  {
   "cell_type": "code",
   "execution_count": 71,
   "id": "991b5473",
   "metadata": {},
   "outputs": [
    {
     "name": "stdout",
     "output_type": "stream",
     "text": [
      "452.16\n",
      "the circumference of circle= 75.36\n"
     ]
    }
   ],
   "source": [
    "circumference=2*pi*radius\n",
    "\n",
    "areaofcircle=pi*(radius**2)\n",
    "\n",
    "print(areaofcircle)\n",
    "\n",
    "print(\"the circumference of circle=\",circumference)\n"
   ]
  },
  {
   "cell_type": "markdown",
   "id": "430f5284",
   "metadata": {},
   "source": [
    "# PERIMETER OF RECTANGLE"
   ]
  },
  {
   "cell_type": "code",
   "execution_count": 73,
   "id": "60490a31",
   "metadata": {},
   "outputs": [],
   "source": [
    "perimeter=2*(length+breath)"
   ]
  },
  {
   "cell_type": "code",
   "execution_count": 76,
   "id": "a2b4abe7",
   "metadata": {},
   "outputs": [
    {
     "name": "stdout",
     "output_type": "stream",
     "text": [
      "enter the value of length60\n",
      "enter the value of breath40\n",
      "2400\n",
      "The perimeter= 200\n"
     ]
    }
   ],
   "source": [
    "length=int(input(\"enter the value of length\"))\n",
    "\n",
    "breath=int(input(\"enter the value of breath\"))\n",
    "\n",
    "areaofrectangle=length*breath\n",
    "\n",
    "print(areaofrectangle)\n",
    "\n",
    "perimeter=2*(length+breath)\n",
    "\n",
    "print(\"The perimeter=\",perimeter)"
   ]
  },
  {
   "cell_type": "code",
   "execution_count": null,
   "id": "688e33f0",
   "metadata": {},
   "outputs": [],
   "source": []
  }
 ],
 "metadata": {
  "kernelspec": {
   "display_name": "Python 3 (ipykernel)",
   "language": "python",
   "name": "python3"
  },
  "language_info": {
   "codemirror_mode": {
    "name": "ipython",
    "version": 3
   },
   "file_extension": ".py",
   "mimetype": "text/x-python",
   "name": "python",
   "nbconvert_exporter": "python",
   "pygments_lexer": "ipython3",
   "version": "3.9.12"
  }
 },
 "nbformat": 4,
 "nbformat_minor": 5
}
