{
 "cells": [
  {
   "cell_type": "markdown",
   "id": "02ebc980",
   "metadata": {},
   "source": [
    "# DATA STRUCTURES IN PYTHONS"
   ]
  },
  {
   "cell_type": "markdown",
   "id": "ea5e7852",
   "metadata": {},
   "source": [
    "Group/collectionof items (index)are called data struectures."
   ]
  },
  {
   "cell_type": "markdown",
   "id": "1909d85a",
   "metadata": {},
   "source": [
    "there are 4 TYPES of data structures .\n",
    "\n",
    "1) list\n",
    "\n",
    "2) tuples\n",
    "\n",
    "3)dictionary\n",
    "\n",
    "4)set\n"
   ]
  },
  {
   "cell_type": "markdown",
   "id": "a97d2d36",
   "metadata": {},
   "source": [
    "# LIST"
   ]
  },
  {
   "cell_type": "markdown",
   "id": "8a4a5ee9",
   "metadata": {},
   "source": [
    "List = they are ordered collection of items or data .they are put in square brackets [].\n",
    "they are indexed and mutable .\n",
    "\n",
    "Homogenous list --are those list which has only integers inside it.all values inside the list are numbers of one datatype or same datatype.list=[1,2,3,4]\n",
    "\n",
    "Hetrogenous list--are those with different datatype such as mixed list.\n",
    "\n",
    "Character list - - those list which has charcters inside the list such as  list=['a','b','c']\n",
    "\n",
    "float list-- which has float data inside it. list=[48.1,32.4,56.7]\n",
    "\n",
    "mixed list--which has all type of data inside the list.  list=[1,38.5,'a','apple',53,true]"
   ]
  },
  {
   "cell_type": "code",
   "execution_count": 3,
   "id": "0ac68916",
   "metadata": {},
   "outputs": [],
   "source": [
    "list1=[1,2,3]"
   ]
  },
  {
   "cell_type": "code",
   "execution_count": 4,
   "id": "9b473220",
   "metadata": {},
   "outputs": [
    {
     "data": {
      "text/plain": [
       "[1, 2, 3]"
      ]
     },
     "execution_count": 4,
     "metadata": {},
     "output_type": "execute_result"
    }
   ],
   "source": [
    "list1"
   ]
  },
  {
   "cell_type": "code",
   "execution_count": 5,
   "id": "37f9520e",
   "metadata": {},
   "outputs": [],
   "source": [
    "list2=[10,20,30,40,50]"
   ]
  },
  {
   "cell_type": "code",
   "execution_count": 6,
   "id": "ece87c0b",
   "metadata": {},
   "outputs": [
    {
     "data": {
      "text/plain": [
       "[10, 20, 30, 40, 50]"
      ]
     },
     "execution_count": 6,
     "metadata": {},
     "output_type": "execute_result"
    }
   ],
   "source": [
    "list2"
   ]
  },
  {
   "cell_type": "code",
   "execution_count": 7,
   "id": "114a1b19",
   "metadata": {},
   "outputs": [],
   "source": [
    "list3=[12.8,45.6,34.2,88.5,78.4]"
   ]
  },
  {
   "cell_type": "code",
   "execution_count": 8,
   "id": "426a61b2",
   "metadata": {},
   "outputs": [
    {
     "data": {
      "text/plain": [
       "[12.8, 45.6, 34.2, 88.5, 78.4]"
      ]
     },
     "execution_count": 8,
     "metadata": {},
     "output_type": "execute_result"
    }
   ],
   "source": [
    "list3"
   ]
  },
  {
   "cell_type": "code",
   "execution_count": 9,
   "id": "99c6968f",
   "metadata": {},
   "outputs": [],
   "source": [
    "list4=['a','b','c','d']"
   ]
  },
  {
   "cell_type": "code",
   "execution_count": 10,
   "id": "89a70416",
   "metadata": {},
   "outputs": [
    {
     "data": {
      "text/plain": [
       "['a', 'b', 'c', 'd']"
      ]
     },
     "execution_count": 10,
     "metadata": {},
     "output_type": "execute_result"
    }
   ],
   "source": [
    "list4"
   ]
  },
  {
   "cell_type": "code",
   "execution_count": 12,
   "id": "971eb842",
   "metadata": {},
   "outputs": [],
   "source": [
    "list5=[12,67,56.9,34.2,90.3,'apple','moon',True]"
   ]
  },
  {
   "cell_type": "code",
   "execution_count": 13,
   "id": "4e42d0c9",
   "metadata": {},
   "outputs": [
    {
     "data": {
      "text/plain": [
       "[12, 67, 56.9, 34.2, 90.3, 'apple', 'moon', True]"
      ]
     },
     "execution_count": 13,
     "metadata": {},
     "output_type": "execute_result"
    }
   ],
   "source": [
    "list5"
   ]
  },
  {
   "cell_type": "markdown",
   "id": "27f3ca59",
   "metadata": {},
   "source": [
    "LIST 1-4 ALL ARE HOMOGENOUS LIST.\n",
    "LIST 5 IS HETROGENOUS LIST"
   ]
  },
  {
   "cell_type": "markdown",
   "id": "129ea4a9",
   "metadata": {},
   "source": [
    "LIST ARE INDEXED,ordered collection of items .\n",
    "\n",
    "EX-"
   ]
  },
  {
   "cell_type": "code",
   "execution_count": 15,
   "id": "871488d1",
   "metadata": {},
   "outputs": [],
   "source": [
    "fruitlist=[\"Apple\",\"Mango\",\"banana\",\"melon\",\"pineapple\",\"Grapes\",\"papaya\"]"
   ]
  },
  {
   "cell_type": "code",
   "execution_count": 16,
   "id": "760dde7e",
   "metadata": {},
   "outputs": [
    {
     "data": {
      "text/plain": [
       "['Apple', 'Mango', 'banana', 'melon', 'pineapple', 'Grapes', 'papaya']"
      ]
     },
     "execution_count": 16,
     "metadata": {},
     "output_type": "execute_result"
    }
   ],
   "source": [
    "fruitlist"
   ]
  },
  {
   "cell_type": "markdown",
   "id": "2b9e2a5d",
   "metadata": {},
   "source": [
    "INDEXING--"
   ]
  },
  {
   "cell_type": "code",
   "execution_count": 40,
   "id": "09e3033f",
   "metadata": {},
   "outputs": [],
   "source": [
    "list2=[10,20,30,40,50]"
   ]
  },
  {
   "cell_type": "code",
   "execution_count": 41,
   "id": "cab76d38",
   "metadata": {},
   "outputs": [
    {
     "data": {
      "text/plain": [
       "[10, 20, 30, 40, 50]"
      ]
     },
     "execution_count": 41,
     "metadata": {},
     "output_type": "execute_result"
    }
   ],
   "source": [
    "list2"
   ]
  },
  {
   "cell_type": "code",
   "execution_count": 42,
   "id": "97afae90",
   "metadata": {},
   "outputs": [
    {
     "data": {
      "text/plain": [
       "10"
      ]
     },
     "execution_count": 42,
     "metadata": {},
     "output_type": "execute_result"
    }
   ],
   "source": [
    "list2[0]"
   ]
  },
  {
   "cell_type": "code",
   "execution_count": 43,
   "id": "fc614f8a",
   "metadata": {},
   "outputs": [
    {
     "data": {
      "text/plain": [
       "20"
      ]
     },
     "execution_count": 43,
     "metadata": {},
     "output_type": "execute_result"
    }
   ],
   "source": [
    "list2[1]"
   ]
  },
  {
   "cell_type": "code",
   "execution_count": 45,
   "id": "4a1c2e42",
   "metadata": {},
   "outputs": [
    {
     "data": {
      "text/plain": [
       "['Apple', 'Mango', 'banana', 'melon', 'pineapple', 'Grapes', 'papaya']"
      ]
     },
     "execution_count": 45,
     "metadata": {},
     "output_type": "execute_result"
    }
   ],
   "source": [
    "fruitlist"
   ]
  },
  {
   "cell_type": "code",
   "execution_count": 46,
   "id": "3a0cb554",
   "metadata": {},
   "outputs": [
    {
     "data": {
      "text/plain": [
       "'Apple'"
      ]
     },
     "execution_count": 46,
     "metadata": {},
     "output_type": "execute_result"
    }
   ],
   "source": [
    "fruitlist[0]"
   ]
  },
  {
   "cell_type": "code",
   "execution_count": 47,
   "id": "d7844780",
   "metadata": {},
   "outputs": [
    {
     "data": {
      "text/plain": [
       "'Mango'"
      ]
     },
     "execution_count": 47,
     "metadata": {},
     "output_type": "execute_result"
    }
   ],
   "source": [
    "fruitlist[1]"
   ]
  },
  {
   "cell_type": "code",
   "execution_count": 48,
   "id": "69e6adc0",
   "metadata": {},
   "outputs": [
    {
     "data": {
      "text/plain": [
       "'banana'"
      ]
     },
     "execution_count": 48,
     "metadata": {},
     "output_type": "execute_result"
    }
   ],
   "source": [
    "fruitlist[2]"
   ]
  },
  {
   "cell_type": "code",
   "execution_count": 49,
   "id": "0a0bd95c",
   "metadata": {},
   "outputs": [
    {
     "data": {
      "text/plain": [
       "'Grapes'"
      ]
     },
     "execution_count": 49,
     "metadata": {},
     "output_type": "execute_result"
    }
   ],
   "source": [
    "fruitlist[5]"
   ]
  },
  {
   "cell_type": "markdown",
   "id": "b7507ed9",
   "metadata": {},
   "source": [
    "Positive indexing -- when a data starts from begining with 0,1,2,3,4,5,6,7,8 they are called positive indexing \n",
    "\n",
    " negative indexing== when the data starts from last with '-1,-2,-3,-4,-5,-6,-7,-8'.They are called negative indexing ."
   ]
  },
  {
   "cell_type": "markdown",
   "id": "0d876b87",
   "metadata": {},
   "source": [
    "Negative indexing ...ex-"
   ]
  },
  {
   "cell_type": "code",
   "execution_count": 50,
   "id": "9da4cfc0",
   "metadata": {},
   "outputs": [
    {
     "data": {
      "text/plain": [
       "['Apple', 'Mango', 'banana', 'melon', 'pineapple', 'Grapes', 'papaya']"
      ]
     },
     "execution_count": 50,
     "metadata": {},
     "output_type": "execute_result"
    }
   ],
   "source": [
    "fruitlist"
   ]
  },
  {
   "cell_type": "code",
   "execution_count": 51,
   "id": "5e40177b",
   "metadata": {},
   "outputs": [
    {
     "data": {
      "text/plain": [
       "'papaya'"
      ]
     },
     "execution_count": 51,
     "metadata": {},
     "output_type": "execute_result"
    }
   ],
   "source": [
    "fruitlist[-1]"
   ]
  },
  {
   "cell_type": "code",
   "execution_count": 52,
   "id": "c9d7b8ac",
   "metadata": {},
   "outputs": [
    {
     "data": {
      "text/plain": [
       "'Grapes'"
      ]
     },
     "execution_count": 52,
     "metadata": {},
     "output_type": "execute_result"
    }
   ],
   "source": [
    "fruitlist[-2]"
   ]
  },
  {
   "cell_type": "code",
   "execution_count": 53,
   "id": "b7fee4f0",
   "metadata": {},
   "outputs": [
    {
     "data": {
      "text/plain": [
       "'melon'"
      ]
     },
     "execution_count": 53,
     "metadata": {},
     "output_type": "execute_result"
    }
   ],
   "source": [
    "fruitlist[-4]"
   ]
  },
  {
   "cell_type": "code",
   "execution_count": 54,
   "id": "601deef8",
   "metadata": {},
   "outputs": [
    {
     "data": {
      "text/plain": [
       "'banana'"
      ]
     },
     "execution_count": 54,
     "metadata": {},
     "output_type": "execute_result"
    }
   ],
   "source": [
    "fruitlist[-5]"
   ]
  },
  {
   "cell_type": "markdown",
   "id": "f463b475",
   "metadata": {},
   "source": [
    "SLICING---\n",
    "Slicing means a chop of data ."
   ]
  },
  {
   "cell_type": "markdown",
   "id": "262fcb80",
   "metadata": {},
   "source": [
    "list[start index: end index]\n",
    "\n",
    "In positive indexing slicing--\n",
    "\n",
    "ex\n",
    "\n",
    "fruitlist[0:1]\n",
    "only 0 will come ,end list will be exclusive(not shown) as there is no data between 0 and 1.\n",
    "\n",
    "\n",
    "Negative indexing slicing--the data will start from -1"
   ]
  },
  {
   "cell_type": "code",
   "execution_count": 55,
   "id": "8fa5ca6a",
   "metadata": {},
   "outputs": [
    {
     "data": {
      "text/plain": [
       "['Apple', 'Mango', 'banana', 'melon', 'pineapple', 'Grapes', 'papaya']"
      ]
     },
     "execution_count": 55,
     "metadata": {},
     "output_type": "execute_result"
    }
   ],
   "source": [
    "fruitlist"
   ]
  },
  {
   "cell_type": "code",
   "execution_count": 56,
   "id": "bdb48e89",
   "metadata": {},
   "outputs": [
    {
     "data": {
      "text/plain": [
       "['Apple']"
      ]
     },
     "execution_count": 56,
     "metadata": {},
     "output_type": "execute_result"
    }
   ],
   "source": [
    "fruitlist[0:1]"
   ]
  },
  {
   "cell_type": "code",
   "execution_count": 57,
   "id": "1dada838",
   "metadata": {},
   "outputs": [
    {
     "data": {
      "text/plain": [
       "['Apple', 'Mango']"
      ]
     },
     "execution_count": 57,
     "metadata": {},
     "output_type": "execute_result"
    }
   ],
   "source": [
    "fruitlist[0:2]"
   ]
  },
  {
   "cell_type": "code",
   "execution_count": 62,
   "id": "938bc7f3",
   "metadata": {},
   "outputs": [
    {
     "data": {
      "text/plain": [
       "['Apple', 'Mango', 'banana']"
      ]
     },
     "execution_count": 62,
     "metadata": {},
     "output_type": "execute_result"
    }
   ],
   "source": [
    "fruitlist[0:3]"
   ]
  },
  {
   "cell_type": "code",
   "execution_count": 59,
   "id": "116071a0",
   "metadata": {},
   "outputs": [
    {
     "data": {
      "text/plain": [
       "['Mango', 'banana', 'melon']"
      ]
     },
     "execution_count": 59,
     "metadata": {},
     "output_type": "execute_result"
    }
   ],
   "source": [
    "fruitlist[1:4]"
   ]
  },
  {
   "cell_type": "code",
   "execution_count": 60,
   "id": "59541df6",
   "metadata": {},
   "outputs": [
    {
     "data": {
      "text/plain": [
       "['melon', 'pineapple', 'Grapes']"
      ]
     },
     "execution_count": 60,
     "metadata": {},
     "output_type": "execute_result"
    }
   ],
   "source": [
    "fruitlist[3:6]"
   ]
  },
  {
   "cell_type": "code",
   "execution_count": 61,
   "id": "85607087",
   "metadata": {},
   "outputs": [
    {
     "data": {
      "text/plain": [
       "['Apple', 'Mango', 'banana', 'melon', 'pineapple', 'Grapes', 'papaya']"
      ]
     },
     "execution_count": 61,
     "metadata": {},
     "output_type": "execute_result"
    }
   ],
   "source": [
    "fruitlist[:]"
   ]
  },
  {
   "cell_type": "markdown",
   "id": "0ec251ca",
   "metadata": {},
   "source": [
    "':'-- this symbol means range."
   ]
  },
  {
   "cell_type": "code",
   "execution_count": 63,
   "id": "2cdf9ad1",
   "metadata": {},
   "outputs": [
    {
     "data": {
      "text/plain": [
       "['banana', 'melon', 'pineapple', 'Grapes']"
      ]
     },
     "execution_count": 63,
     "metadata": {},
     "output_type": "execute_result"
    }
   ],
   "source": [
    "fruitlist[2:6]"
   ]
  },
  {
   "cell_type": "code",
   "execution_count": 64,
   "id": "76a3b33a",
   "metadata": {},
   "outputs": [
    {
     "data": {
      "text/plain": [
       "['melon', 'pineapple']"
      ]
     },
     "execution_count": 64,
     "metadata": {},
     "output_type": "execute_result"
    }
   ],
   "source": [
    "fruitlist[3:5]"
   ]
  },
  {
   "cell_type": "markdown",
   "id": "fb9dd9ae",
   "metadata": {},
   "source": [
    "negative slicing "
   ]
  },
  {
   "cell_type": "code",
   "execution_count": 65,
   "id": "ee4991cb",
   "metadata": {},
   "outputs": [
    {
     "data": {
      "text/plain": [
       "['banana', 'melon', 'pineapple', 'Grapes']"
      ]
     },
     "execution_count": 65,
     "metadata": {},
     "output_type": "execute_result"
    }
   ],
   "source": [
    "fruitlist[-5:-1]"
   ]
  },
  {
   "cell_type": "code",
   "execution_count": 67,
   "id": "66168758",
   "metadata": {},
   "outputs": [
    {
     "data": {
      "text/plain": [
       "['Mango', 'banana', 'melon', 'pineapple']"
      ]
     },
     "execution_count": 67,
     "metadata": {},
     "output_type": "execute_result"
    }
   ],
   "source": [
    "fruitlist[-6:-2]"
   ]
  },
  {
   "cell_type": "code",
   "execution_count": 68,
   "id": "108cd213",
   "metadata": {},
   "outputs": [
    {
     "data": {
      "text/plain": [
       "['Apple', 'Mango', 'banana']"
      ]
     },
     "execution_count": 68,
     "metadata": {},
     "output_type": "execute_result"
    }
   ],
   "source": [
    "fruitlist[-7:-4]"
   ]
  },
  {
   "cell_type": "code",
   "execution_count": 69,
   "id": "030ec5f8",
   "metadata": {},
   "outputs": [
    {
     "data": {
      "text/plain": [
       "['Mango', 'banana', 'melon', 'pineapple', 'Grapes']"
      ]
     },
     "execution_count": 69,
     "metadata": {},
     "output_type": "execute_result"
    }
   ],
   "source": [
    "fruitlist[-6:-1]"
   ]
  },
  {
   "cell_type": "code",
   "execution_count": 71,
   "id": "2d694269",
   "metadata": {},
   "outputs": [
    {
     "data": {
      "text/plain": [
       "['Mango', 'banana', 'melon', 'pineapple', 'Grapes', 'papaya']"
      ]
     },
     "execution_count": 71,
     "metadata": {},
     "output_type": "execute_result"
    }
   ],
   "source": [
    "fruitlist[-6:]"
   ]
  },
  {
   "cell_type": "markdown",
   "id": "246310c9",
   "metadata": {},
   "source": [
    "this means all the data will be taken upto last ."
   ]
  },
  {
   "cell_type": "code",
   "execution_count": 72,
   "id": "6e5eb8e6",
   "metadata": {},
   "outputs": [
    {
     "data": {
      "text/plain": [
       "['Apple', 'Mango', 'banana', 'melon', 'pineapple', 'Grapes']"
      ]
     },
     "execution_count": 72,
     "metadata": {},
     "output_type": "execute_result"
    }
   ],
   "source": [
    "fruitlist[:-1]"
   ]
  },
  {
   "cell_type": "code",
   "execution_count": 74,
   "id": "8118d5cf",
   "metadata": {},
   "outputs": [
    {
     "data": {
      "text/plain": [
       "['Mango']"
      ]
     },
     "execution_count": 74,
     "metadata": {},
     "output_type": "execute_result"
    }
   ],
   "source": [
    "fruitlist[-6:-5]"
   ]
  },
  {
   "cell_type": "code",
   "execution_count": null,
   "id": "c7c015ef",
   "metadata": {},
   "outputs": [],
   "source": []
  }
 ],
 "metadata": {
  "kernelspec": {
   "display_name": "Python 3 (ipykernel)",
   "language": "python",
   "name": "python3"
  },
  "language_info": {
   "codemirror_mode": {
    "name": "ipython",
    "version": 3
   },
   "file_extension": ".py",
   "mimetype": "text/x-python",
   "name": "python",
   "nbconvert_exporter": "python",
   "pygments_lexer": "ipython3",
   "version": "3.9.12"
  }
 },
 "nbformat": 4,
 "nbformat_minor": 5
}
