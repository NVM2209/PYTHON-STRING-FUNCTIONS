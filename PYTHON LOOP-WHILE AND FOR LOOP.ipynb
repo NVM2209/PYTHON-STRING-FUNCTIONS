{
 "cells": [
  {
   "cell_type": "markdown",
   "id": "269eb73d",
   "metadata": {},
   "source": [
    "# PYTHON LOOP"
   ]
  },
  {
   "cell_type": "markdown",
   "id": "c90f3b94",
   "metadata": {},
   "source": [
    "WHAT IS LOOP?\n",
    "\n",
    "LOOPS are continuous iteration of a block of codes till the condition is TRUE.when the condition turns to false ,loop is terminated.\n",
    "\n",
    "what is ITERATION?\n",
    "Repeative execution of the same block of code over and over is called iteration.\n",
    "\n",
    "there are 2 TYPES of Loops\n",
    "1) While loop\n",
    "2) For loop\n",
    "\n",
    "There are 2 types of iteration:-\n",
    "    1)definite -- in which the number of repeatitiion is specified explicitly in advance .\n",
    "    2)indefinite-- in which the code block executes untill some condition is met.\n",
    "\n",
    "In Python, indefinte iteration is performed with a WHILE loop.\n"
   ]
  },
  {
   "cell_type": "markdown",
   "id": "5d69179f",
   "metadata": {},
   "source": [
    "WHILE LOOP"
   ]
  },
  {
   "cell_type": "code",
   "execution_count": 1,
   "id": "7a0cf166",
   "metadata": {},
   "outputs": [
    {
     "name": "stdout",
     "output_type": "stream",
     "text": [
      "0\n",
      "1\n",
      "2\n"
     ]
    }
   ],
   "source": [
    "i=0\n",
    "while (i<3):\n",
    "    print(i)\n",
    "    i=i+1"
   ]
  },
  {
   "cell_type": "code",
   "execution_count": 2,
   "id": "6b413825",
   "metadata": {},
   "outputs": [
    {
     "name": "stdout",
     "output_type": "stream",
     "text": [
      "0\n",
      "1\n",
      "2\n",
      "3\n",
      "4\n"
     ]
    }
   ],
   "source": [
    "i=0\n",
    "while(i<5):\n",
    "    print(i)\n",
    "    i=i+1"
   ]
  },
  {
   "cell_type": "code",
   "execution_count": 4,
   "id": "c5ee9f2b",
   "metadata": {},
   "outputs": [
    {
     "name": "stdout",
     "output_type": "stream",
     "text": [
      "0\n",
      "1\n",
      "2\n",
      "3\n",
      "4\n",
      "5\n",
      "6\n",
      "7\n"
     ]
    }
   ],
   "source": [
    "i=0\n",
    "while(i<8):\n",
    "    print(i)\n",
    "    i=i+1"
   ]
  },
  {
   "cell_type": "code",
   "execution_count": 5,
   "id": "df37e861",
   "metadata": {},
   "outputs": [
    {
     "name": "stdout",
     "output_type": "stream",
     "text": [
      "1\n",
      "2\n",
      "3\n",
      "4\n"
     ]
    }
   ],
   "source": [
    "i=1\n",
    "while(i<5):\n",
    "    print(i)\n",
    "    i=i+1"
   ]
  },
  {
   "cell_type": "code",
   "execution_count": 6,
   "id": "664123b6",
   "metadata": {},
   "outputs": [
    {
     "name": "stdout",
     "output_type": "stream",
     "text": [
      "0\n",
      "1\n",
      "2\n",
      "3\n",
      "4\n",
      "5\n",
      "6\n",
      "7\n",
      "8\n",
      "9\n"
     ]
    }
   ],
   "source": [
    "k=0\n",
    "while(k<10):\n",
    "    print(k)\n",
    "    k=k+1"
   ]
  },
  {
   "cell_type": "code",
   "execution_count": 8,
   "id": "e706b293",
   "metadata": {},
   "outputs": [
    {
     "name": "stdout",
     "output_type": "stream",
     "text": [
      "0\n",
      "2\n",
      "4\n",
      "6\n",
      "8\n",
      "10\n",
      "12\n",
      "14\n",
      "16\n",
      "18\n",
      "20\n"
     ]
    }
   ],
   "source": [
    "m=0\n",
    "while(m<21):\n",
    "    print(m)\n",
    "    m=m+2"
   ]
  },
  {
   "cell_type": "code",
   "execution_count": 9,
   "id": "afd85b0a",
   "metadata": {},
   "outputs": [
    {
     "name": "stdout",
     "output_type": "stream",
     "text": [
      "0\n",
      "5\n",
      "10\n",
      "15\n",
      "20\n",
      "25\n",
      "30\n",
      "35\n",
      "40\n",
      "45\n"
     ]
    }
   ],
   "source": [
    "p=0\n",
    "while(p<50):\n",
    "    print(p)\n",
    "    p=p+5"
   ]
  },
  {
   "cell_type": "code",
   "execution_count": 10,
   "id": "bda8c722",
   "metadata": {},
   "outputs": [
    {
     "name": "stdout",
     "output_type": "stream",
     "text": [
      "0\n",
      "1\n",
      "2\n",
      "3\n",
      "4\n",
      "5\n"
     ]
    }
   ],
   "source": [
    "n=0\n",
    "while(n<=5):\n",
    "    print(n)\n",
    "    n=n+1"
   ]
  },
  {
   "cell_type": "markdown",
   "id": "86ab1e19",
   "metadata": {},
   "source": [
    "<= means less than and equal to 'n'value.it will go upto 5 but asa it become 6 ,its get terminated.\n"
   ]
  },
  {
   "cell_type": "code",
   "execution_count": 12,
   "id": "1dc113b4",
   "metadata": {},
   "outputs": [
    {
     "name": "stdout",
     "output_type": "stream",
     "text": [
      "0\n",
      "2\n",
      "4\n"
     ]
    }
   ],
   "source": [
    "k=0\n",
    "while(k<=5):\n",
    "    print(k)\n",
    "    k=k+2"
   ]
  },
  {
   "cell_type": "code",
   "execution_count": 13,
   "id": "6a52c972",
   "metadata": {},
   "outputs": [
    {
     "name": "stdout",
     "output_type": "stream",
     "text": [
      "k= 0\n",
      "k= 1\n",
      "k= 2\n",
      "k= 3\n",
      "k= 4\n"
     ]
    }
   ],
   "source": [
    "k=0\n",
    "while(k<5):\n",
    "    print(\"k=\",k)\n",
    "    k=k+1"
   ]
  },
  {
   "cell_type": "code",
   "execution_count": 14,
   "id": "c7e54c72",
   "metadata": {},
   "outputs": [
    {
     "name": "stdout",
     "output_type": "stream",
     "text": [
      "the value of j= 2\n",
      "the value of j= 3\n",
      "the value of j= 4\n",
      "the value of j= 5\n",
      "the value of j= 6\n",
      "the value of j= 7\n"
     ]
    }
   ],
   "source": [
    "j=2\n",
    "while(j<=7):\n",
    "    print(\"the value of j=\",j)\n",
    "    j=j+1"
   ]
  },
  {
   "cell_type": "code",
   "execution_count": 15,
   "id": "f49f2e14",
   "metadata": {},
   "outputs": [
    {
     "name": "stdout",
     "output_type": "stream",
     "text": [
      "a= 0\n",
      "a= 1\n",
      "a= 2\n",
      "a= 3\n",
      "a= 4\n",
      "a= 5\n"
     ]
    }
   ],
   "source": [
    "a=0\n",
    "while(a<=5):\n",
    "    print(\"a=\",a)\n",
    "    a=a+1"
   ]
  },
  {
   "cell_type": "code",
   "execution_count": 17,
   "id": "1cd4cd58",
   "metadata": {},
   "outputs": [
    {
     "name": "stdout",
     "output_type": "stream",
     "text": [
      "k= 0\n",
      "inside\n",
      "k= 1\n",
      "inside\n",
      "k= 2\n",
      "inside\n",
      "k= 3\n",
      "inside\n",
      "k= 4\n",
      "inside\n",
      "outside the loop\n"
     ]
    }
   ],
   "source": [
    "k=0\n",
    "while(k<5):\n",
    "    print(\"k=\",k)\n",
    "    print(\"inside\")\n",
    "    k=k+1\n",
    "    \n",
    "print(\"outside the loop\")"
   ]
  },
  {
   "cell_type": "markdown",
   "id": "80405110",
   "metadata": {},
   "source": [
    "# TABLES USING WHILE LOOP:-"
   ]
  },
  {
   "cell_type": "code",
   "execution_count": 19,
   "id": "fcd60afa",
   "metadata": {},
   "outputs": [
    {
     "name": "stdout",
     "output_type": "stream",
     "text": [
      "0\n",
      "2\n",
      "4\n",
      "6\n",
      "8\n",
      "10\n",
      "12\n",
      "14\n",
      "16\n",
      "18\n",
      "20\n"
     ]
    }
   ],
   "source": [
    "i=0\n",
    "while(i<=10):\n",
    "    print(2*i)\n",
    "    i=i+1"
   ]
  },
  {
   "cell_type": "code",
   "execution_count": 23,
   "id": "da5b2236",
   "metadata": {},
   "outputs": [
    {
     "name": "stdout",
     "output_type": "stream",
     "text": [
      "2 * 0 = 0\n",
      "2 * 1 = 2\n",
      "2 * 2 = 4\n",
      "2 * 3 = 6\n",
      "2 * 4 = 8\n",
      "2 * 5 = 10\n",
      "2 * 6 = 12\n",
      "2 * 7 = 14\n",
      "2 * 8 = 16\n",
      "2 * 9 = 18\n",
      "2 * 10 = 20\n"
     ]
    }
   ],
   "source": [
    "i=0\n",
    "while(i<=10):\n",
    "    print(\"2\",\"*\",i,\"=\",2*i)\n",
    "    i=i+1"
   ]
  },
  {
   "cell_type": "code",
   "execution_count": 27,
   "id": "8b11f603",
   "metadata": {},
   "outputs": [
    {
     "name": "stdout",
     "output_type": "stream",
     "text": [
      "5 * 0 = 0\n",
      "5 * 1 = 5\n",
      "5 * 2 = 10\n",
      "5 * 3 = 15\n",
      "5 * 4 = 20\n",
      "5 * 5 = 25\n",
      "5 * 6 = 30\n",
      "5 * 7 = 35\n",
      "5 * 8 = 40\n",
      "5 * 9 = 45\n",
      "5 * 10 = 50\n"
     ]
    }
   ],
   "source": [
    "r=0\n",
    "while(r<=10):\n",
    "    print(\"5\",\"*\",r,\"=\",5*r)\n",
    "    r=r+1"
   ]
  },
  {
   "cell_type": "code",
   "execution_count": 28,
   "id": "8096a576",
   "metadata": {},
   "outputs": [
    {
     "name": "stdout",
     "output_type": "stream",
     "text": [
      "7 * 0 = 0\n",
      "7 * 1 = 7\n",
      "7 * 2 = 14\n",
      "7 * 3 = 21\n",
      "7 * 4 = 28\n",
      "7 * 5 = 35\n",
      "7 * 6 = 42\n",
      "7 * 7 = 49\n",
      "7 * 8 = 56\n",
      "7 * 9 = 63\n",
      "7 * 10 = 70\n"
     ]
    }
   ],
   "source": [
    "i=0\n",
    "while(i<=10):\n",
    "    print(\"7\",\"*\",i,\"=\",7*i)\n",
    "    i=i+1"
   ]
  },
  {
   "cell_type": "markdown",
   "id": "338a9bbb",
   "metadata": {},
   "source": [
    "USING USER INPUT FUNCTION:-"
   ]
  },
  {
   "cell_type": "code",
   "execution_count": 33,
   "id": "ee7cc449",
   "metadata": {},
   "outputs": [
    {
     "name": "stdout",
     "output_type": "stream",
     "text": [
      "enter any number for table4\n",
      "4\n",
      "8\n",
      "12\n",
      "16\n",
      "20\n",
      "24\n",
      "28\n",
      "32\n",
      "36\n",
      "40\n"
     ]
    }
   ],
   "source": [
    "k=int(input(\"enter any number for table\"))\n",
    "\n",
    "i=1\n",
    "while(i<=10):\n",
    "    print(k*i)\n",
    "    i=i+1"
   ]
  },
  {
   "cell_type": "code",
   "execution_count": 35,
   "id": "cd863bef",
   "metadata": {},
   "outputs": [
    {
     "name": "stdout",
     "output_type": "stream",
     "text": [
      "enter any number6\n",
      "6\n",
      "12\n",
      "18\n",
      "24\n",
      "30\n",
      "36\n",
      "42\n",
      "48\n",
      "54\n",
      "60\n"
     ]
    }
   ],
   "source": [
    "k=int(input(\"enter any number\"))\n",
    "\n",
    "i=1\n",
    "while(i<=10):\n",
    "    print(k*i)\n",
    "    i=i+1"
   ]
  },
  {
   "cell_type": "code",
   "execution_count": 38,
   "id": "12ecd3ce",
   "metadata": {},
   "outputs": [
    {
     "name": "stdout",
     "output_type": "stream",
     "text": [
      "enter any number5\n",
      "5\n",
      "10\n",
      "15\n",
      "20\n",
      "25\n",
      "30\n",
      "35\n",
      "40\n",
      "45\n",
      "50\n"
     ]
    }
   ],
   "source": [
    "r=int(input(\"enter any number\"))\n",
    "\n",
    "s=1\n",
    "while(s<=10):\n",
    "    print(r*s)\n",
    "    s=s+1"
   ]
  },
  {
   "cell_type": "code",
   "execution_count": 39,
   "id": "5b5698fd",
   "metadata": {},
   "outputs": [
    {
     "name": "stdout",
     "output_type": "stream",
     "text": [
      "enter any number9\n",
      "0\n",
      "9\n",
      "18\n",
      "27\n",
      "36\n",
      "45\n",
      "54\n",
      "63\n",
      "72\n",
      "81\n",
      "90\n"
     ]
    }
   ],
   "source": [
    "a=int(input(\"enter any number\"))\n",
    "\n",
    "b=0\n",
    "while(b<=10):\n",
    "    print(a*b)\n",
    "    b=b+1"
   ]
  },
  {
   "cell_type": "code",
   "execution_count": 41,
   "id": "52d86094",
   "metadata": {},
   "outputs": [
    {
     "name": "stdout",
     "output_type": "stream",
     "text": [
      "enter any number3\n",
      "3 * 1 = 3\n",
      "3 * 2 = 6\n",
      "3 * 3 = 9\n",
      "3 * 4 = 12\n",
      "3 * 5 = 15\n",
      "3 * 6 = 18\n",
      "3 * 7 = 21\n",
      "3 * 8 = 24\n",
      "3 * 9 = 27\n",
      "3 * 10 = 30\n"
     ]
    }
   ],
   "source": [
    "k=int(input(\"enter any number\"))\n",
    "\n",
    "i=1\n",
    "while(i<=10):\n",
    "    print(k,\"*\",i,\"=\",k*i)\n",
    "    i=i+1"
   ]
  },
  {
   "cell_type": "code",
   "execution_count": 43,
   "id": "158b59f7",
   "metadata": {},
   "outputs": [
    {
     "name": "stdout",
     "output_type": "stream",
     "text": [
      "enter any number4\n",
      "4 * 1 = 4\n",
      "4 * 2 = 8\n",
      "4 * 3 = 12\n",
      "4 * 4 = 16\n",
      "4 * 5 = 20\n",
      "4 * 6 = 24\n",
      "4 * 7 = 28\n",
      "4 * 8 = 32\n",
      "4 * 9 = 36\n",
      "4 * 10 = 40\n"
     ]
    }
   ],
   "source": [
    "q=int(input(\"enter any number\"))\n",
    "\n",
    "i=1\n",
    "while(i<=10):\n",
    "    print(q,\"*\",i,\"=\",q*i)\n",
    "    i=i+1"
   ]
  },
  {
   "cell_type": "markdown",
   "id": "250bacbb",
   "metadata": {},
   "source": [
    "# FOR LOOP"
   ]
  },
  {
   "cell_type": "markdown",
   "id": "8b50526c",
   "metadata": {},
   "source": [
    "WHENEVER WE ARE WORKING WITH FOR LOOP,WE NEED TO ITERATION INSIDE THE FOR LOOP."
   ]
  },
  {
   "cell_type": "code",
   "execution_count": 44,
   "id": "c0c0fca2",
   "metadata": {},
   "outputs": [
    {
     "name": "stdout",
     "output_type": "stream",
     "text": [
      "10\n",
      "20\n",
      "30\n",
      "40\n",
      "50\n"
     ]
    }
   ],
   "source": [
    "for index in[10,20,30,40,50]:\n",
    "    print(index)"
   ]
  },
  {
   "cell_type": "code",
   "execution_count": 45,
   "id": "a75fe4d3",
   "metadata": {},
   "outputs": [
    {
     "name": "stdout",
     "output_type": "stream",
     "text": [
      "100\n",
      "200\n",
      "300\n",
      "400\n",
      "500\n"
     ]
    }
   ],
   "source": [
    "for index in[100,200,300,400,500]:\n",
    "    print(index)"
   ]
  },
  {
   "cell_type": "code",
   "execution_count": 46,
   "id": "b0ddbe74",
   "metadata": {},
   "outputs": [
    {
     "name": "stdout",
     "output_type": "stream",
     "text": [
      "12.3\n",
      "45.6\n",
      "78.1\n"
     ]
    }
   ],
   "source": [
    "for k in [12.3,45.6,78.1]:\n",
    "    print(k)"
   ]
  },
  {
   "cell_type": "code",
   "execution_count": 47,
   "id": "7803e63c",
   "metadata": {},
   "outputs": [
    {
     "name": "stdout",
     "output_type": "stream",
     "text": [
      "A\n",
      "B\n",
      "C\n",
      "D\n",
      "E\n",
      "F\n"
     ]
    }
   ],
   "source": [
    "for i in ['A','B','C','D','E','F']:\n",
    "    print(i)"
   ]
  },
  {
   "cell_type": "markdown",
   "id": "0ff1acff",
   "metadata": {},
   "source": [
    "FOR loop works with list datastructure."
   ]
  },
  {
   "cell_type": "code",
   "execution_count": 48,
   "id": "14915ded",
   "metadata": {},
   "outputs": [
    {
     "name": "stdout",
     "output_type": "stream",
     "text": [
      "Apple\n",
      "Mango\n",
      "Banana\n",
      "Papaya\n"
     ]
    }
   ],
   "source": [
    "for j in [\"Apple\",\"Mango\",\"Banana\",\"Papaya\"]:\n",
    "    print(j)"
   ]
  },
  {
   "cell_type": "markdown",
   "id": "7839271e",
   "metadata": {},
   "source": [
    "Using Mixed value-\n",
    "\n",
    "\n"
   ]
  },
  {
   "cell_type": "code",
   "execution_count": 49,
   "id": "7b0d430b",
   "metadata": {},
   "outputs": [
    {
     "name": "stdout",
     "output_type": "stream",
     "text": [
      "40\n",
      "32\n",
      "45.7\n",
      "78.3\n",
      "A\n",
      "B\n",
      "Matrix\n",
      "True\n"
     ]
    }
   ],
   "source": [
    "for k in [40,32,45.7,78.3,\"A\",\"B\",\"Matrix\",True]:\n",
    "    print(k)"
   ]
  },
  {
   "cell_type": "markdown",
   "id": "70c008c0",
   "metadata": {},
   "source": [
    "# RANGE FUNCTION IN PYTHON:-"
   ]
  },
  {
   "cell_type": "markdown",
   "id": "f93ccd6b",
   "metadata": {},
   "source": [
    "RANGE function gives sequence of integers.\n"
   ]
  },
  {
   "cell_type": "code",
   "execution_count": 50,
   "id": "df30a59b",
   "metadata": {},
   "outputs": [
    {
     "data": {
      "text/plain": [
       "range(0, 5)"
      ]
     },
     "execution_count": 50,
     "metadata": {},
     "output_type": "execute_result"
    }
   ],
   "source": [
    "range(0,5)"
   ]
  },
  {
   "cell_type": "code",
   "execution_count": 51,
   "id": "b5c563b3",
   "metadata": {},
   "outputs": [
    {
     "data": {
      "text/plain": [
       "[0, 1, 2, 3, 4]"
      ]
     },
     "execution_count": 51,
     "metadata": {},
     "output_type": "execute_result"
    }
   ],
   "source": [
    "list(range(0,5))"
   ]
  },
  {
   "cell_type": "code",
   "execution_count": 52,
   "id": "83def9ba",
   "metadata": {},
   "outputs": [
    {
     "data": {
      "text/plain": [
       "range(0, 10)"
      ]
     },
     "execution_count": 52,
     "metadata": {},
     "output_type": "execute_result"
    }
   ],
   "source": [
    "range(0,10)"
   ]
  },
  {
   "cell_type": "code",
   "execution_count": 53,
   "id": "8b7e9970",
   "metadata": {},
   "outputs": [
    {
     "data": {
      "text/plain": [
       "[0, 1, 2, 3, 4, 5, 6, 7, 8, 9]"
      ]
     },
     "execution_count": 53,
     "metadata": {},
     "output_type": "execute_result"
    }
   ],
   "source": [
    "list(range(0,10))"
   ]
  },
  {
   "cell_type": "code",
   "execution_count": 54,
   "id": "c10af3b2",
   "metadata": {},
   "outputs": [
    {
     "data": {
      "text/plain": [
       "[0, 1, 2, 3, 4, 5, 6]"
      ]
     },
     "execution_count": 54,
     "metadata": {},
     "output_type": "execute_result"
    }
   ],
   "source": [
    "list(range(0,7))"
   ]
  },
  {
   "cell_type": "markdown",
   "id": "375f6e70",
   "metadata": {},
   "source": [
    "when we work with range ,we can start with start value ,end value . both the values we can give."
   ]
  },
  {
   "cell_type": "code",
   "execution_count": 55,
   "id": "df07b99e",
   "metadata": {},
   "outputs": [
    {
     "data": {
      "text/plain": [
       "[0, 1, 2]"
      ]
     },
     "execution_count": 55,
     "metadata": {},
     "output_type": "execute_result"
    }
   ],
   "source": [
    "list(range(0,3))"
   ]
  },
  {
   "cell_type": "code",
   "execution_count": 56,
   "id": "75eaa5a8",
   "metadata": {},
   "outputs": [
    {
     "data": {
      "text/plain": [
       "[0, 1, 2, 3, 4, 5, 6, 7, 8, 9]"
      ]
     },
     "execution_count": 56,
     "metadata": {},
     "output_type": "execute_result"
    }
   ],
   "source": [
    "list(range(0,10))"
   ]
  },
  {
   "cell_type": "code",
   "execution_count": 57,
   "id": "c6ff6ac6",
   "metadata": {},
   "outputs": [
    {
     "data": {
      "text/plain": [
       "[2, 3, 4, 5, 6, 7, 8, 9]"
      ]
     },
     "execution_count": 57,
     "metadata": {},
     "output_type": "execute_result"
    }
   ],
   "source": [
    "list(range(2,10))"
   ]
  },
  {
   "cell_type": "code",
   "execution_count": 58,
   "id": "51285df2",
   "metadata": {},
   "outputs": [
    {
     "data": {
      "text/plain": [
       "[5, 6, 7, 8, 9]"
      ]
     },
     "execution_count": 58,
     "metadata": {},
     "output_type": "execute_result"
    }
   ],
   "source": [
    "list(range(5,10))"
   ]
  },
  {
   "cell_type": "markdown",
   "id": "63437a39",
   "metadata": {},
   "source": [
    "How to give range with 3 values ?"
   ]
  },
  {
   "cell_type": "code",
   "execution_count": 59,
   "id": "39ffa930",
   "metadata": {},
   "outputs": [
    {
     "data": {
      "text/plain": [
       "[0, 2, 4, 6, 8]"
      ]
     },
     "execution_count": 59,
     "metadata": {},
     "output_type": "execute_result"
    }
   ],
   "source": [
    "list(range(0,10,2))"
   ]
  },
  {
   "cell_type": "code",
   "execution_count": 60,
   "id": "786b23d5",
   "metadata": {},
   "outputs": [
    {
     "data": {
      "text/plain": [
       "[2, 4, 6, 8, 10, 12, 14, 16, 18]"
      ]
     },
     "execution_count": 60,
     "metadata": {},
     "output_type": "execute_result"
    }
   ],
   "source": [
    "list(range(2,20,2))"
   ]
  },
  {
   "cell_type": "code",
   "execution_count": 61,
   "id": "42bbfd6f",
   "metadata": {},
   "outputs": [
    {
     "data": {
      "text/plain": [
       "[5, 10, 15, 20, 25]"
      ]
     },
     "execution_count": 61,
     "metadata": {},
     "output_type": "execute_result"
    }
   ],
   "source": [
    "list(range(5,30,5))"
   ]
  },
  {
   "cell_type": "code",
   "execution_count": 63,
   "id": "c5c481c9",
   "metadata": {},
   "outputs": [
    {
     "data": {
      "text/plain": [
       "[5, 10, 15, 20, 25, 30, 35, 40, 45, 50]"
      ]
     },
     "execution_count": 63,
     "metadata": {},
     "output_type": "execute_result"
    }
   ],
   "source": [
    "list(range(5,55,5))"
   ]
  },
  {
   "cell_type": "markdown",
   "id": "c39ac9cb",
   "metadata": {},
   "source": [
    "We can use range with for loop as well;"
   ]
  },
  {
   "cell_type": "code",
   "execution_count": 64,
   "id": "2d03bf32",
   "metadata": {},
   "outputs": [
    {
     "name": "stdout",
     "output_type": "stream",
     "text": [
      "0\n",
      "1\n",
      "2\n",
      "3\n",
      "4\n"
     ]
    }
   ],
   "source": [
    "for i in range (5):\n",
    "    print(i)"
   ]
  },
  {
   "cell_type": "code",
   "execution_count": 65,
   "id": "ca94537a",
   "metadata": {},
   "outputs": [
    {
     "name": "stdout",
     "output_type": "stream",
     "text": [
      "0\n",
      "1\n",
      "2\n",
      "3\n",
      "4\n",
      "5\n",
      "6\n",
      "7\n",
      "8\n",
      "9\n"
     ]
    }
   ],
   "source": [
    "for i in range(10):\n",
    "    print(i)"
   ]
  },
  {
   "cell_type": "code",
   "execution_count": 66,
   "id": "e11f4a4b",
   "metadata": {},
   "outputs": [
    {
     "name": "stdout",
     "output_type": "stream",
     "text": [
      "2\n",
      "3\n",
      "4\n",
      "5\n",
      "6\n",
      "7\n",
      "8\n",
      "9\n"
     ]
    }
   ],
   "source": [
    "for k in range(2,10):\n",
    "    print(k)"
   ]
  },
  {
   "cell_type": "code",
   "execution_count": 67,
   "id": "0edce824",
   "metadata": {},
   "outputs": [
    {
     "name": "stdout",
     "output_type": "stream",
     "text": [
      "5\n",
      "8\n",
      "11\n",
      "14\n",
      "17\n",
      "20\n",
      "23\n",
      "26\n",
      "29\n",
      "32\n"
     ]
    }
   ],
   "source": [
    "for p in range(5,35,3):\n",
    "    print(p)"
   ]
  },
  {
   "cell_type": "markdown",
   "id": "138d1bc9",
   "metadata": {},
   "source": [
    "WE CAN GENERATE TABLE IN RANGE USING FOR LOOP."
   ]
  },
  {
   "cell_type": "code",
   "execution_count": 68,
   "id": "b12665fd",
   "metadata": {},
   "outputs": [
    {
     "name": "stdout",
     "output_type": "stream",
     "text": [
      "Enter any number5\n",
      "5\n",
      "10\n",
      "15\n",
      "20\n",
      "25\n",
      "30\n",
      "35\n",
      "40\n",
      "45\n",
      "50\n"
     ]
    }
   ],
   "source": [
    "p=int(input(\"Enter any number\"))\n",
    "\n",
    "for i in range(1,11):\n",
    "    print(p*i)"
   ]
  },
  {
   "cell_type": "code",
   "execution_count": 71,
   "id": "a186286a",
   "metadata": {},
   "outputs": [
    {
     "name": "stdout",
     "output_type": "stream",
     "text": [
      "Enter any number2\n",
      "2\n",
      "4\n",
      "6\n",
      "8\n",
      "10\n",
      "12\n",
      "14\n",
      "16\n",
      "18\n"
     ]
    }
   ],
   "source": [
    "p=int(input(\"Enter any number\"))\n",
    "\n",
    "for i in range(1,10):\n",
    "    print(p*i)"
   ]
  },
  {
   "cell_type": "code",
   "execution_count": 72,
   "id": "45a58b2c",
   "metadata": {},
   "outputs": [
    {
     "name": "stdout",
     "output_type": "stream",
     "text": [
      "Enter any Number8\n",
      "8 * 1 = 8\n",
      "8 * 2 = 16\n",
      "8 * 3 = 24\n",
      "8 * 4 = 32\n",
      "8 * 5 = 40\n",
      "8 * 6 = 48\n",
      "8 * 7 = 56\n",
      "8 * 8 = 64\n",
      "8 * 9 = 72\n",
      "8 * 10 = 80\n"
     ]
    }
   ],
   "source": [
    "p=int(input(\"Enter any Number\"))\n",
    "\n",
    "for i in range (1,11):\n",
    "    print(p,\"*\",i,\"=\",p*i)"
   ]
  },
  {
   "cell_type": "code",
   "execution_count": 73,
   "id": "18a3054a",
   "metadata": {},
   "outputs": [
    {
     "name": "stdout",
     "output_type": "stream",
     "text": [
      "['Desktop']\n",
      "['Desktop', 'Laptop']\n",
      "['Desktop', 'Laptop', 'Mouse']\n",
      "['Desktop', 'Laptop', 'Mouse', 'Printer']\n"
     ]
    }
   ],
   "source": [
    "list1=[]\n",
    "\n",
    "for p in [\"Desktop\",\"Laptop\",\"Mouse\",\"Printer\"]:\n",
    "    list1.append(p)\n",
    "    print(list1)\n"
   ]
  },
  {
   "cell_type": "code",
   "execution_count": 75,
   "id": "6c63575c",
   "metadata": {},
   "outputs": [
    {
     "name": "stdout",
     "output_type": "stream",
     "text": [
      "['Desktop']\n",
      "['Desktop', 'Laptop']\n",
      "['Desktop', 'Laptop', 'Printer']\n",
      "FINAL LIST= ['Desktop', 'Laptop', 'Printer']\n"
     ]
    }
   ],
   "source": [
    "list1=[]\n",
    "\n",
    "for p in [\"Desktop\",\"Laptop\",\"Printer\"]:\n",
    "    list1.append(p)\n",
    "    print(list1)\n",
    "    \n",
    "print(\"FINAL LIST=\",list1)"
   ]
  },
  {
   "cell_type": "code",
   "execution_count": null,
   "id": "96c4d913",
   "metadata": {},
   "outputs": [],
   "source": []
  }
 ],
 "metadata": {
  "kernelspec": {
   "display_name": "Python 3 (ipykernel)",
   "language": "python",
   "name": "python3"
  },
  "language_info": {
   "codemirror_mode": {
    "name": "ipython",
    "version": 3
   },
   "file_extension": ".py",
   "mimetype": "text/x-python",
   "name": "python",
   "nbconvert_exporter": "python",
   "pygments_lexer": "ipython3",
   "version": "3.9.12"
  }
 },
 "nbformat": 4,
 "nbformat_minor": 5
}
