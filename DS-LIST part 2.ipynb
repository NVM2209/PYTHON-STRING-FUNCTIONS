{
 "cells": [
  {
   "cell_type": "markdown",
   "id": "8829d7c1",
   "metadata": {},
   "source": [
    "Properties of list :-\n",
    "\n",
    "\n",
    "1. list are orderd collection of items .\n",
    "\n",
    "2. list are indexed .\n",
    "\n",
    "3. list allows duplicate values.\n",
    "\n",
    "4. list are mutable .\n",
    "\n",
    "5. list starts from [..]"
   ]
  },
  {
   "cell_type": "markdown",
   "id": "1734807e",
   "metadata": {},
   "source": [
    "There are many operations associated with the List . They are --"
   ]
  },
  {
   "cell_type": "code",
   "execution_count": 1,
   "id": "ccbe8f0c",
   "metadata": {},
   "outputs": [],
   "source": [
    "planetlist=[\"Mercury\",\"Venus\",\"Earth\",\"Mars\"]"
   ]
  },
  {
   "cell_type": "code",
   "execution_count": 2,
   "id": "557a5ce1",
   "metadata": {},
   "outputs": [
    {
     "data": {
      "text/plain": [
       "['Mercury', 'Venus', 'Earth', 'Mars']"
      ]
     },
     "execution_count": 2,
     "metadata": {},
     "output_type": "execute_result"
    }
   ],
   "source": [
    "planetlist"
   ]
  },
  {
   "cell_type": "code",
   "execution_count": 3,
   "id": "8ca5e247",
   "metadata": {},
   "outputs": [
    {
     "data": {
      "text/plain": [
       "4"
      ]
     },
     "execution_count": 3,
     "metadata": {},
     "output_type": "execute_result"
    }
   ],
   "source": [
    "len(planetlist)"
   ]
  },
  {
   "cell_type": "markdown",
   "id": "e7fa5efa",
   "metadata": {},
   "source": [
    "1) Append operation -- ADD any kind of data/item inside the list .\n",
    "ex--\n",
    "append('item name')"
   ]
  },
  {
   "cell_type": "code",
   "execution_count": 4,
   "id": "12d2e966",
   "metadata": {},
   "outputs": [],
   "source": [
    "planetlist.append('Saturn')"
   ]
  },
  {
   "cell_type": "code",
   "execution_count": 5,
   "id": "7b480c27",
   "metadata": {},
   "outputs": [
    {
     "data": {
      "text/plain": [
       "['Mercury', 'Venus', 'Earth', 'Mars', 'Saturn']"
      ]
     },
     "execution_count": 5,
     "metadata": {},
     "output_type": "execute_result"
    }
   ],
   "source": [
    "planetlist"
   ]
  },
  {
   "cell_type": "code",
   "execution_count": 6,
   "id": "f09aaa98",
   "metadata": {},
   "outputs": [
    {
     "data": {
      "text/plain": [
       "5"
      ]
     },
     "execution_count": 6,
     "metadata": {},
     "output_type": "execute_result"
    }
   ],
   "source": [
    "len(planetlist)"
   ]
  },
  {
   "cell_type": "code",
   "execution_count": 7,
   "id": "ae4a01ab",
   "metadata": {},
   "outputs": [],
   "source": [
    "planetlist.append('Uranus')"
   ]
  },
  {
   "cell_type": "code",
   "execution_count": 8,
   "id": "359fe680",
   "metadata": {},
   "outputs": [
    {
     "data": {
      "text/plain": [
       "['Mercury', 'Venus', 'Earth', 'Mars', 'Saturn', 'Uranus']"
      ]
     },
     "execution_count": 8,
     "metadata": {},
     "output_type": "execute_result"
    }
   ],
   "source": [
    "planetlist"
   ]
  },
  {
   "cell_type": "code",
   "execution_count": 34,
   "id": "2e64d52d",
   "metadata": {},
   "outputs": [],
   "source": [
    "planetlist.append('Pluto')"
   ]
  },
  {
   "cell_type": "code",
   "execution_count": 35,
   "id": "81eeb56c",
   "metadata": {},
   "outputs": [
    {
     "data": {
      "text/plain": [
       "['Venus', 'Uranus', 'Mercury', 'Mars', 'Pluto']"
      ]
     },
     "execution_count": 35,
     "metadata": {},
     "output_type": "execute_result"
    }
   ],
   "source": [
    "planetlist"
   ]
  },
  {
   "cell_type": "code",
   "execution_count": null,
   "id": "351ceb14",
   "metadata": {},
   "outputs": [],
   "source": []
  },
  {
   "cell_type": "markdown",
   "id": "0fd33ad7",
   "metadata": {},
   "source": [
    "2) Index operation -- FIND out which position  particular item is placed .\n",
    "ex--\n",
    "index('item name')"
   ]
  },
  {
   "cell_type": "code",
   "execution_count": 9,
   "id": "4f123ac7",
   "metadata": {},
   "outputs": [
    {
     "data": {
      "text/plain": [
       "3"
      ]
     },
     "execution_count": 9,
     "metadata": {},
     "output_type": "execute_result"
    }
   ],
   "source": [
    "planetlist.index('Mars')"
   ]
  },
  {
   "cell_type": "code",
   "execution_count": 10,
   "id": "0525893e",
   "metadata": {},
   "outputs": [
    {
     "data": {
      "text/plain": [
       "4"
      ]
     },
     "execution_count": 10,
     "metadata": {},
     "output_type": "execute_result"
    }
   ],
   "source": [
    "planetlist.index('Saturn')"
   ]
  },
  {
   "cell_type": "code",
   "execution_count": 11,
   "id": "4f22dce2",
   "metadata": {},
   "outputs": [
    {
     "data": {
      "text/plain": [
       "0"
      ]
     },
     "execution_count": 11,
     "metadata": {},
     "output_type": "execute_result"
    }
   ],
   "source": [
    "planetlist.index('Mercury')"
   ]
  },
  {
   "cell_type": "markdown",
   "id": "5f613e3f",
   "metadata": {},
   "source": [
    "3) Insert operation -- ADD any data /item on paritcular position or index. ex-- insert(index,'item name')"
   ]
  },
  {
   "cell_type": "code",
   "execution_count": 12,
   "id": "d5c885ee",
   "metadata": {},
   "outputs": [],
   "source": [
    "planetlist.insert(2,\"Galaxy\")"
   ]
  },
  {
   "cell_type": "code",
   "execution_count": 13,
   "id": "ee9b9452",
   "metadata": {},
   "outputs": [
    {
     "data": {
      "text/plain": [
       "['Mercury', 'Venus', 'Galaxy', 'Earth', 'Mars', 'Saturn', 'Uranus']"
      ]
     },
     "execution_count": 13,
     "metadata": {},
     "output_type": "execute_result"
    }
   ],
   "source": [
    "planetlist"
   ]
  },
  {
   "cell_type": "code",
   "execution_count": 14,
   "id": "a6f656d3",
   "metadata": {},
   "outputs": [
    {
     "data": {
      "text/plain": [
       "2"
      ]
     },
     "execution_count": 14,
     "metadata": {},
     "output_type": "execute_result"
    }
   ],
   "source": [
    "planetlist.index('Galaxy')"
   ]
  },
  {
   "cell_type": "code",
   "execution_count": 15,
   "id": "6a3a11f3",
   "metadata": {},
   "outputs": [
    {
     "data": {
      "text/plain": [
       "4"
      ]
     },
     "execution_count": 15,
     "metadata": {},
     "output_type": "execute_result"
    }
   ],
   "source": [
    "planetlist.index(\"Mars\")"
   ]
  },
  {
   "cell_type": "markdown",
   "id": "0fad0d40",
   "metadata": {},
   "source": [
    "4) Sort operation- sort will ARRANGE all the data with alphabetical order (A-Z) in ascending order .yhese are permanent "
   ]
  },
  {
   "cell_type": "code",
   "execution_count": 16,
   "id": "a324e04f",
   "metadata": {},
   "outputs": [],
   "source": [
    "planetlist.sort()"
   ]
  },
  {
   "cell_type": "code",
   "execution_count": 17,
   "id": "6469e5cb",
   "metadata": {},
   "outputs": [
    {
     "data": {
      "text/plain": [
       "['Earth', 'Galaxy', 'Mars', 'Mercury', 'Saturn', 'Uranus', 'Venus']"
      ]
     },
     "execution_count": 17,
     "metadata": {},
     "output_type": "execute_result"
    }
   ],
   "source": [
    "planetlist"
   ]
  },
  {
   "cell_type": "code",
   "execution_count": 18,
   "id": "39940809",
   "metadata": {},
   "outputs": [
    {
     "data": {
      "text/plain": [
       "7"
      ]
     },
     "execution_count": 18,
     "metadata": {},
     "output_type": "execute_result"
    }
   ],
   "source": [
    "len(planetlist)"
   ]
  },
  {
   "cell_type": "code",
   "execution_count": 19,
   "id": "2f635ef1",
   "metadata": {},
   "outputs": [],
   "source": [
    "planetlist.insert(4,\"Moon\")"
   ]
  },
  {
   "cell_type": "code",
   "execution_count": 20,
   "id": "eecf4250",
   "metadata": {},
   "outputs": [
    {
     "data": {
      "text/plain": [
       "['Earth', 'Galaxy', 'Mars', 'Mercury', 'Moon', 'Saturn', 'Uranus', 'Venus']"
      ]
     },
     "execution_count": 20,
     "metadata": {},
     "output_type": "execute_result"
    }
   ],
   "source": [
    "planetlist"
   ]
  },
  {
   "cell_type": "code",
   "execution_count": 21,
   "id": "3ace2485",
   "metadata": {},
   "outputs": [],
   "source": [
    "planetlist.sort()"
   ]
  },
  {
   "cell_type": "code",
   "execution_count": 22,
   "id": "cd789c6a",
   "metadata": {},
   "outputs": [
    {
     "data": {
      "text/plain": [
       "['Earth', 'Galaxy', 'Mars', 'Mercury', 'Moon', 'Saturn', 'Uranus', 'Venus']"
      ]
     },
     "execution_count": 22,
     "metadata": {},
     "output_type": "execute_result"
    }
   ],
   "source": [
    "planetlist"
   ]
  },
  {
   "cell_type": "markdown",
   "id": "9b071b4d",
   "metadata": {},
   "source": [
    "5) Reverse operation -- in this all the data will come into Z-A order i.e in decending order."
   ]
  },
  {
   "cell_type": "code",
   "execution_count": 23,
   "id": "1393baca",
   "metadata": {},
   "outputs": [],
   "source": [
    "planetlist.reverse()"
   ]
  },
  {
   "cell_type": "code",
   "execution_count": 24,
   "id": "78137e76",
   "metadata": {},
   "outputs": [
    {
     "data": {
      "text/plain": [
       "['Venus', 'Uranus', 'Saturn', 'Moon', 'Mercury', 'Mars', 'Galaxy', 'Earth']"
      ]
     },
     "execution_count": 24,
     "metadata": {},
     "output_type": "execute_result"
    }
   ],
   "source": [
    "planetlist"
   ]
  },
  {
   "cell_type": "markdown",
   "id": "4b9bb48f",
   "metadata": {},
   "source": [
    "6) POP operation --we can delete any last data/element from our list( only index value )"
   ]
  },
  {
   "cell_type": "code",
   "execution_count": 25,
   "id": "6b9537d3",
   "metadata": {},
   "outputs": [
    {
     "data": {
      "text/plain": [
       "'Earth'"
      ]
     },
     "execution_count": 25,
     "metadata": {},
     "output_type": "execute_result"
    }
   ],
   "source": [
    "planetlist.pop()"
   ]
  },
  {
   "cell_type": "code",
   "execution_count": 26,
   "id": "b70de76d",
   "metadata": {},
   "outputs": [
    {
     "data": {
      "text/plain": [
       "['Venus', 'Uranus', 'Saturn', 'Moon', 'Mercury', 'Mars', 'Galaxy']"
      ]
     },
     "execution_count": 26,
     "metadata": {},
     "output_type": "execute_result"
    }
   ],
   "source": [
    "planetlist"
   ]
  },
  {
   "cell_type": "code",
   "execution_count": 27,
   "id": "60fd74ab",
   "metadata": {},
   "outputs": [
    {
     "data": {
      "text/plain": [
       "'Galaxy'"
      ]
     },
     "execution_count": 27,
     "metadata": {},
     "output_type": "execute_result"
    }
   ],
   "source": [
    "planetlist.pop()"
   ]
  },
  {
   "cell_type": "code",
   "execution_count": 28,
   "id": "d987b0c9",
   "metadata": {},
   "outputs": [
    {
     "data": {
      "text/plain": [
       "['Venus', 'Uranus', 'Saturn', 'Moon', 'Mercury', 'Mars']"
      ]
     },
     "execution_count": 28,
     "metadata": {},
     "output_type": "execute_result"
    }
   ],
   "source": [
    "planetlist"
   ]
  },
  {
   "cell_type": "markdown",
   "id": "a0b9addd",
   "metadata": {},
   "source": [
    "if I want to remove a particular element or data at particular index ,in that case specify the index(0,1.2,3,)"
   ]
  },
  {
   "cell_type": "code",
   "execution_count": 29,
   "id": "0c6a2f2a",
   "metadata": {},
   "outputs": [
    {
     "data": {
      "text/plain": [
       "'Saturn'"
      ]
     },
     "execution_count": 29,
     "metadata": {},
     "output_type": "execute_result"
    }
   ],
   "source": [
    "planetlist.pop(2)"
   ]
  },
  {
   "cell_type": "code",
   "execution_count": 30,
   "id": "132e277a",
   "metadata": {},
   "outputs": [
    {
     "data": {
      "text/plain": [
       "['Venus', 'Uranus', 'Moon', 'Mercury', 'Mars']"
      ]
     },
     "execution_count": 30,
     "metadata": {},
     "output_type": "execute_result"
    }
   ],
   "source": [
    "planetlist"
   ]
  },
  {
   "cell_type": "markdown",
   "id": "0fdb184e",
   "metadata": {},
   "source": [
    "7) Remove operation-- to REMOVE particular name  from the list."
   ]
  },
  {
   "cell_type": "code",
   "execution_count": 32,
   "id": "58f49f67",
   "metadata": {},
   "outputs": [],
   "source": [
    "planetlist.remove(\"Moon\")"
   ]
  },
  {
   "cell_type": "code",
   "execution_count": 33,
   "id": "b1deb729",
   "metadata": {},
   "outputs": [
    {
     "data": {
      "text/plain": [
       "['Venus', 'Uranus', 'Mercury', 'Mars']"
      ]
     },
     "execution_count": 33,
     "metadata": {},
     "output_type": "execute_result"
    }
   ],
   "source": [
    "planetlist"
   ]
  },
  {
   "cell_type": "markdown",
   "id": "359b35d7",
   "metadata": {},
   "source": []
  },
  {
   "cell_type": "markdown",
   "id": "74f2e2f4",
   "metadata": {},
   "source": [
    "8) Extend operation-- ADD 2 or more value to your data inside this  ([ ])  at the END.certain list of items .Append and extend are build in operations inside the list."
   ]
  },
  {
   "cell_type": "code",
   "execution_count": 36,
   "id": "df7419f7",
   "metadata": {},
   "outputs": [],
   "source": [
    "planetlist.extend(['Jupiter','Neptune'])"
   ]
  },
  {
   "cell_type": "code",
   "execution_count": 37,
   "id": "ad013667",
   "metadata": {},
   "outputs": [
    {
     "data": {
      "text/plain": [
       "['Venus', 'Uranus', 'Mercury', 'Mars', 'Pluto', 'Jupiter', 'Neptune']"
      ]
     },
     "execution_count": 37,
     "metadata": {},
     "output_type": "execute_result"
    }
   ],
   "source": [
    "planetlist"
   ]
  },
  {
   "cell_type": "code",
   "execution_count": null,
   "id": "c5e9c9c3",
   "metadata": {},
   "outputs": [],
   "source": []
  },
  {
   "cell_type": "markdown",
   "id": "6b648794",
   "metadata": {},
   "source": [
    "9)Clear operation--this will clear all the data.\n"
   ]
  },
  {
   "cell_type": "code",
   "execution_count": 50,
   "id": "e5a59318",
   "metadata": {},
   "outputs": [],
   "source": [
    "planetlist=[\"Mercury\",\"Venus\",\"Earth\",\"Mars\"]"
   ]
  },
  {
   "cell_type": "code",
   "execution_count": 51,
   "id": "af420585",
   "metadata": {},
   "outputs": [
    {
     "data": {
      "text/plain": [
       "['Mercury', 'Venus', 'Earth', 'Mars']"
      ]
     },
     "execution_count": 51,
     "metadata": {},
     "output_type": "execute_result"
    }
   ],
   "source": [
    "planetlist"
   ]
  },
  {
   "cell_type": "code",
   "execution_count": 52,
   "id": "98e8b431",
   "metadata": {},
   "outputs": [],
   "source": [
    "planetlist.clear()"
   ]
  },
  {
   "cell_type": "code",
   "execution_count": 53,
   "id": "403e78b4",
   "metadata": {},
   "outputs": [
    {
     "data": {
      "text/plain": [
       "[]"
      ]
     },
     "execution_count": 53,
     "metadata": {},
     "output_type": "execute_result"
    }
   ],
   "source": [
    "planetlist"
   ]
  },
  {
   "cell_type": "code",
   "execution_count": 54,
   "id": "086ac482",
   "metadata": {},
   "outputs": [],
   "source": [
    "planetlist.append('XYZ')"
   ]
  },
  {
   "cell_type": "code",
   "execution_count": 56,
   "id": "761f0a01",
   "metadata": {},
   "outputs": [],
   "source": [
    "planetlist.append('Galaxy')"
   ]
  },
  {
   "cell_type": "code",
   "execution_count": 57,
   "id": "c77a1dac",
   "metadata": {},
   "outputs": [],
   "source": [
    "planetlist.append('Moon')"
   ]
  },
  {
   "cell_type": "code",
   "execution_count": 58,
   "id": "8e2f8e38",
   "metadata": {},
   "outputs": [],
   "source": [
    "planetlist.append(\"Sun\")"
   ]
  },
  {
   "cell_type": "code",
   "execution_count": 60,
   "id": "3f828bf9",
   "metadata": {},
   "outputs": [],
   "source": [
    "planetlist.extend([\"Rose\",\"Lily\"])"
   ]
  },
  {
   "cell_type": "code",
   "execution_count": 61,
   "id": "7f338178",
   "metadata": {},
   "outputs": [
    {
     "data": {
      "text/plain": [
       "['XYZ', 'Moon', 'Galaxy', 'Moon', 'Sun', 'Rose', 'Lily']"
      ]
     },
     "execution_count": 61,
     "metadata": {},
     "output_type": "execute_result"
    }
   ],
   "source": [
    "planetlist"
   ]
  },
  {
   "cell_type": "markdown",
   "id": "17ce3936",
   "metadata": {},
   "source": [
    "if we want to change any particular name from the list ,they can change as list are mutable.THIS IS HOW WE CAN CHANGE THE EXITING DATA."
   ]
  },
  {
   "cell_type": "code",
   "execution_count": 62,
   "id": "f54319fd",
   "metadata": {},
   "outputs": [
    {
     "data": {
      "text/plain": [
       "'Sun'"
      ]
     },
     "execution_count": 62,
     "metadata": {},
     "output_type": "execute_result"
    }
   ],
   "source": [
    "planetlist[4]"
   ]
  },
  {
   "cell_type": "code",
   "execution_count": 63,
   "id": "61be6f46",
   "metadata": {},
   "outputs": [],
   "source": [
    "planetlist[4]=\"Satelite\""
   ]
  },
  {
   "cell_type": "code",
   "execution_count": 64,
   "id": "659c4d07",
   "metadata": {},
   "outputs": [
    {
     "data": {
      "text/plain": [
       "['XYZ', 'Moon', 'Galaxy', 'Moon', 'Satelite', 'Rose', 'Lily']"
      ]
     },
     "execution_count": 64,
     "metadata": {},
     "output_type": "execute_result"
    }
   ],
   "source": [
    "planetlist"
   ]
  },
  {
   "cell_type": "code",
   "execution_count": 65,
   "id": "be1ade42",
   "metadata": {},
   "outputs": [],
   "source": [
    "planetlist.clear()"
   ]
  },
  {
   "cell_type": "code",
   "execution_count": 66,
   "id": "a0f26094",
   "metadata": {},
   "outputs": [
    {
     "data": {
      "text/plain": [
       "[]"
      ]
     },
     "execution_count": 66,
     "metadata": {},
     "output_type": "execute_result"
    }
   ],
   "source": [
    "planetlist"
   ]
  },
  {
   "cell_type": "markdown",
   "id": "0bc43f8d",
   "metadata": {},
   "source": [
    "10)Delete operation--entire list is deleted.showing result as \"list is not defined \""
   ]
  },
  {
   "cell_type": "code",
   "execution_count": 67,
   "id": "55dff1f2",
   "metadata": {},
   "outputs": [],
   "source": [
    "del planetlist"
   ]
  },
  {
   "cell_type": "code",
   "execution_count": 68,
   "id": "e97f46d4",
   "metadata": {},
   "outputs": [
    {
     "ename": "NameError",
     "evalue": "name 'planetlist' is not defined",
     "output_type": "error",
     "traceback": [
      "\u001b[1;31m---------------------------------------------------------------------------\u001b[0m",
      "\u001b[1;31mNameError\u001b[0m                                 Traceback (most recent call last)",
      "Input \u001b[1;32mIn [68]\u001b[0m, in \u001b[0;36m<cell line: 1>\u001b[1;34m()\u001b[0m\n\u001b[1;32m----> 1\u001b[0m \u001b[43mplanetlist\u001b[49m\n",
      "\u001b[1;31mNameError\u001b[0m: name 'planetlist' is not defined"
     ]
    }
   ],
   "source": [
    "planetlist"
   ]
  },
  {
   "cell_type": "code",
   "execution_count": 69,
   "id": "e06d3e6a",
   "metadata": {},
   "outputs": [],
   "source": [
    "testlist1=[45,78,90,34,44]"
   ]
  },
  {
   "cell_type": "code",
   "execution_count": 70,
   "id": "24be5298",
   "metadata": {},
   "outputs": [
    {
     "data": {
      "text/plain": [
       "[45, 78, 90, 34, 44]"
      ]
     },
     "execution_count": 70,
     "metadata": {},
     "output_type": "execute_result"
    }
   ],
   "source": [
    "testlist1"
   ]
  },
  {
   "cell_type": "code",
   "execution_count": 71,
   "id": "4a26b850",
   "metadata": {},
   "outputs": [
    {
     "data": {
      "text/plain": [
       "90"
      ]
     },
     "execution_count": 71,
     "metadata": {},
     "output_type": "execute_result"
    }
   ],
   "source": [
    "testlist1[2]"
   ]
  },
  {
   "cell_type": "code",
   "execution_count": 72,
   "id": "166f4cba",
   "metadata": {},
   "outputs": [],
   "source": [
    "testlist1[2]=200"
   ]
  },
  {
   "cell_type": "code",
   "execution_count": 73,
   "id": "5b3a3b2e",
   "metadata": {},
   "outputs": [
    {
     "data": {
      "text/plain": [
       "[45, 78, 200, 34, 44]"
      ]
     },
     "execution_count": 73,
     "metadata": {},
     "output_type": "execute_result"
    }
   ],
   "source": [
    "testlist1"
   ]
  },
  {
   "cell_type": "code",
   "execution_count": 74,
   "id": "df701a34",
   "metadata": {},
   "outputs": [],
   "source": [
    "testlist1=[45,33,46,78,33,45]"
   ]
  },
  {
   "cell_type": "code",
   "execution_count": 75,
   "id": "1a353a8f",
   "metadata": {},
   "outputs": [
    {
     "data": {
      "text/plain": [
       "[45, 33, 46, 78, 33, 45]"
      ]
     },
     "execution_count": 75,
     "metadata": {},
     "output_type": "execute_result"
    }
   ],
   "source": [
    "testlist1"
   ]
  },
  {
   "cell_type": "markdown",
   "id": "fea6f272",
   "metadata": {},
   "source": [
    "list will allow duplicate values as well"
   ]
  },
  {
   "cell_type": "code",
   "execution_count": 77,
   "id": "b096a487",
   "metadata": {},
   "outputs": [
    {
     "data": {
      "text/plain": [
       "33"
      ]
     },
     "execution_count": 77,
     "metadata": {},
     "output_type": "execute_result"
    }
   ],
   "source": [
    "testlist1[1]"
   ]
  },
  {
   "cell_type": "code",
   "execution_count": 78,
   "id": "9d4a50da",
   "metadata": {},
   "outputs": [],
   "source": [
    "testlist1[1]=100"
   ]
  },
  {
   "cell_type": "code",
   "execution_count": 79,
   "id": "883d2b89",
   "metadata": {},
   "outputs": [
    {
     "data": {
      "text/plain": [
       "[45, 100, 46, 78, 33, 45]"
      ]
     },
     "execution_count": 79,
     "metadata": {},
     "output_type": "execute_result"
    }
   ],
   "source": [
    "testlist1"
   ]
  },
  {
   "cell_type": "code",
   "execution_count": 81,
   "id": "3c4cd077",
   "metadata": {},
   "outputs": [],
   "source": [
    "testlist1.clear()"
   ]
  },
  {
   "cell_type": "code",
   "execution_count": 82,
   "id": "81bbf351",
   "metadata": {},
   "outputs": [
    {
     "data": {
      "text/plain": [
       "[]"
      ]
     },
     "execution_count": 82,
     "metadata": {},
     "output_type": "execute_result"
    }
   ],
   "source": [
    "testlist1"
   ]
  },
  {
   "cell_type": "code",
   "execution_count": 83,
   "id": "7be905a1",
   "metadata": {},
   "outputs": [],
   "source": [
    "del testlist1"
   ]
  },
  {
   "cell_type": "code",
   "execution_count": 84,
   "id": "bc5d52e1",
   "metadata": {},
   "outputs": [
    {
     "ename": "NameError",
     "evalue": "name 'testlist1' is not defined",
     "output_type": "error",
     "traceback": [
      "\u001b[1;31m---------------------------------------------------------------------------\u001b[0m",
      "\u001b[1;31mNameError\u001b[0m                                 Traceback (most recent call last)",
      "Input \u001b[1;32mIn [84]\u001b[0m, in \u001b[0;36m<cell line: 1>\u001b[1;34m()\u001b[0m\n\u001b[1;32m----> 1\u001b[0m \u001b[43mtestlist1\u001b[49m\n",
      "\u001b[1;31mNameError\u001b[0m: name 'testlist1' is not defined"
     ]
    }
   ],
   "source": [
    "testlist1"
   ]
  },
  {
   "cell_type": "code",
   "execution_count": 85,
   "id": "42316919",
   "metadata": {},
   "outputs": [],
   "source": [
    "list1=[\"Mouse\",\"Laptop\",\"Lenovo\"]"
   ]
  },
  {
   "cell_type": "code",
   "execution_count": 86,
   "id": "9a6c39c8",
   "metadata": {},
   "outputs": [
    {
     "data": {
      "text/plain": [
       "['Mouse', 'Laptop', 'Lenovo']"
      ]
     },
     "execution_count": 86,
     "metadata": {},
     "output_type": "execute_result"
    }
   ],
   "source": [
    "list1"
   ]
  },
  {
   "cell_type": "code",
   "execution_count": 87,
   "id": "b57e6b16",
   "metadata": {},
   "outputs": [],
   "source": [
    "list1.insert(1,\"Remote\")"
   ]
  },
  {
   "cell_type": "code",
   "execution_count": 88,
   "id": "2524faf9",
   "metadata": {},
   "outputs": [
    {
     "data": {
      "text/plain": [
       "['Mouse', 'Remote', 'Laptop', 'Lenovo']"
      ]
     },
     "execution_count": 88,
     "metadata": {},
     "output_type": "execute_result"
    }
   ],
   "source": [
    "list1"
   ]
  },
  {
   "cell_type": "code",
   "execution_count": null,
   "id": "02f5c34c",
   "metadata": {},
   "outputs": [],
   "source": []
  }
 ],
 "metadata": {
  "kernelspec": {
   "display_name": "Python 3 (ipykernel)",
   "language": "python",
   "name": "python3"
  },
  "language_info": {
   "codemirror_mode": {
    "name": "ipython",
    "version": 3
   },
   "file_extension": ".py",
   "mimetype": "text/x-python",
   "name": "python",
   "nbconvert_exporter": "python",
   "pygments_lexer": "ipython3",
   "version": "3.9.12"
  }
 },
 "nbformat": 4,
 "nbformat_minor": 5
}
