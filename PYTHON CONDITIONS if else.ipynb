{
 "cells": [
  {
   "cell_type": "markdown",
   "id": "7fc765e9",
   "metadata": {},
   "source": [
    "# CONTROL FLOW STATEMENTS USING IF/ELSE/ELIF"
   ]
  },
  {
   "cell_type": "markdown",
   "id": "3c47324d",
   "metadata": {},
   "source": [
    "IF STATEMENT"
   ]
  },
  {
   "cell_type": "markdown",
   "id": "2d8b347c",
   "metadata": {},
   "source": [
    "IN \"IF \"STATEMENT, the value will be either true or false .\n",
    "an \"if statement\" is wriiten using if keys ."
   ]
  },
  {
   "cell_type": "code",
   "execution_count": 1,
   "id": "d1d8ce94",
   "metadata": {},
   "outputs": [
    {
     "name": "stdout",
     "output_type": "stream",
     "text": [
      "x is greater\n"
     ]
    }
   ],
   "source": [
    "x=15\n",
    "\n",
    "if(x>10):\n",
    "    print(\"x is greater\")\n",
    "else:\n",
    "    print(\"x is lesser\")\n"
   ]
  },
  {
   "cell_type": "code",
   "execution_count": 2,
   "id": "974ba7fd",
   "metadata": {},
   "outputs": [
    {
     "name": "stdout",
     "output_type": "stream",
     "text": [
      "x is lesser\n"
     ]
    }
   ],
   "source": [
    "x=5.5\n",
    "\n",
    "if (x>10):\n",
    "    print(\"x is greater\")\n",
    "else:\n",
    "    print(\"x is lesser\")"
   ]
  },
  {
   "cell_type": "code",
   "execution_count": 4,
   "id": "b6fd88a7",
   "metadata": {},
   "outputs": [
    {
     "name": "stdout",
     "output_type": "stream",
     "text": [
      "x is greater\n"
     ]
    }
   ],
   "source": [
    "x=15\n",
    "\n",
    "if(x>=15):\n",
    "    print(\"x is greater\")\n",
    "else:\n",
    "    print(\"x is lesser\")\n"
   ]
  },
  {
   "cell_type": "markdown",
   "id": "bb9adef5",
   "metadata": {},
   "source": [
    "Indentation gap= are the gaps that show's that print statement are the part of \"if\" statement.\n"
   ]
  },
  {
   "cell_type": "code",
   "execution_count": 5,
   "id": "92316647",
   "metadata": {},
   "outputs": [
    {
     "name": "stdout",
     "output_type": "stream",
     "text": [
      "p is greater\n"
     ]
    }
   ],
   "source": [
    "p=90\n",
    "\n",
    "if(p>50):\n",
    "    print(\"p is greater\")\n",
    "else:\n",
    "    print(\"p is lesser\")"
   ]
  },
  {
   "cell_type": "code",
   "execution_count": 6,
   "id": "08312806",
   "metadata": {},
   "outputs": [
    {
     "name": "stdout",
     "output_type": "stream",
     "text": [
      "p is lesser\n"
     ]
    }
   ],
   "source": [
    "p=30\n",
    "\n",
    "if(p>50):\n",
    "    print(\"p is greater\")\n",
    "else:\n",
    "    print(\"p is lesser\")"
   ]
  },
  {
   "cell_type": "markdown",
   "id": "cc2af89a",
   "metadata": {},
   "source": [
    "COMPARING NUMBER AS EVEN /ODD NUMBER IN IF/ELSE STATEMENT"
   ]
  },
  {
   "cell_type": "code",
   "execution_count": 8,
   "id": "1fc981d5",
   "metadata": {},
   "outputs": [
    {
     "name": "stdout",
     "output_type": "stream",
     "text": [
      "x is even number\n"
     ]
    }
   ],
   "source": [
    "x=22\n",
    "\n",
    "if(x%2==0):\n",
    "     print(\"x is even number\")\n",
    "else:\n",
    "    print(\"x is odd number\")"
   ]
  },
  {
   "cell_type": "code",
   "execution_count": 9,
   "id": "6f0adbb5",
   "metadata": {},
   "outputs": [
    {
     "name": "stdout",
     "output_type": "stream",
     "text": [
      "x is odd number\n"
     ]
    }
   ],
   "source": [
    "x=21\n",
    "\n",
    "if(x%2==0):\n",
    "    print(\"x is even number\")\n",
    "else:\n",
    "    print(\"x is odd number\")"
   ]
  },
  {
   "cell_type": "markdown",
   "id": "91bc310a",
   "metadata": {},
   "source": [
    "we can use >=,<= these keys as well."
   ]
  },
  {
   "cell_type": "markdown",
   "id": "1e4f5882",
   "metadata": {},
   "source": [
    "USING USER INPUT IN COMPARISON."
   ]
  },
  {
   "cell_type": "code",
   "execution_count": 10,
   "id": "e06ff7cc",
   "metadata": {},
   "outputs": [
    {
     "name": "stdout",
     "output_type": "stream",
     "text": [
      "Enter any number43\n",
      "x is odd number\n"
     ]
    }
   ],
   "source": [
    "x=int(input(\"Enter any number\"))\n",
    "\n",
    "if(x%2==0):\n",
    "    print(\"x is even number\")\n",
    "else:\n",
    "    print(\"x is odd number\")"
   ]
  },
  {
   "cell_type": "code",
   "execution_count": 11,
   "id": "efc6769b",
   "metadata": {},
   "outputs": [
    {
     "name": "stdout",
     "output_type": "stream",
     "text": [
      "Enter any number89\n",
      "x is odd number\n"
     ]
    }
   ],
   "source": [
    "x=int(input(\"Enter any number\"))\n",
    "\n",
    "if(x%2==0):\n",
    "    print('x is a even number')\n",
    "else:\n",
    "    print('x is odd number')"
   ]
  },
  {
   "cell_type": "code",
   "execution_count": 1,
   "id": "0bb2b37e",
   "metadata": {},
   "outputs": [
    {
     "name": "stdout",
     "output_type": "stream",
     "text": [
      "Enter any number24\n",
      "24 is a even number\n"
     ]
    }
   ],
   "source": [
    "x=int(input(\"Enter any number\"))\n",
    "\n",
    "if(x%2==0):\n",
    "    print(x,\"is a even number\")\n",
    "else:\n",
    "    print(x,\"is a odd number\")"
   ]
  },
  {
   "cell_type": "code",
   "execution_count": 5,
   "id": "08612f8f",
   "metadata": {},
   "outputs": [
    {
     "name": "stdout",
     "output_type": "stream",
     "text": [
      "Enter any number65\n",
      "65  is a odd number\n"
     ]
    }
   ],
   "source": [
    "x=int(input(\"Enter any number\"))\n",
    "\n",
    "if (x%2==0):\n",
    "    print(x,\" is a even number\")\n",
    "else:\n",
    "    print(x,\" is a odd number\")"
   ]
  },
  {
   "cell_type": "markdown",
   "id": "d150dfae",
   "metadata": {},
   "source": [
    "USING NOT EQUAL TO IN COMPARISION(!=)"
   ]
  },
  {
   "cell_type": "code",
   "execution_count": 6,
   "id": "8584c6bb",
   "metadata": {},
   "outputs": [
    {
     "name": "stdout",
     "output_type": "stream",
     "text": [
      "x is odd number\n"
     ]
    }
   ],
   "source": [
    "x=21\n",
    "\n",
    "if(x%2!=0):\n",
    "    print(\"x is odd number\")\n",
    "else:\n",
    "    print(\"x is even number\")"
   ]
  },
  {
   "cell_type": "code",
   "execution_count": 7,
   "id": "194f000b",
   "metadata": {},
   "outputs": [
    {
     "name": "stdout",
     "output_type": "stream",
     "text": [
      "Enter any number33\n",
      "33 is odd number\n"
     ]
    }
   ],
   "source": [
    "x=int(input(\"Enter any number\"))\n",
    "\n",
    "if(x%2!=0):\n",
    "    print(x ,\"is odd number\")\n",
    "else:\n",
    "    print(x,\"is even number\")"
   ]
  },
  {
   "cell_type": "markdown",
   "id": "e3b78c4d",
   "metadata": {},
   "source": [
    "COMPARISION ANALYSIS:"
   ]
  },
  {
   "cell_type": "markdown",
   "id": "79ac125e",
   "metadata": {},
   "source": [
    "==> ELIF(ELSE+IF)-we write this ,to write a new condition using elif,then print the statement and then again we can give elif condition everytime."
   ]
  },
  {
   "cell_type": "markdown",
   "id": "d1d01fdf",
   "metadata": {},
   "source": [
    "# USING USER-END INPUT-"
   ]
  },
  {
   "cell_type": "code",
   "execution_count": 15,
   "id": "aff6376b",
   "metadata": {},
   "outputs": [
    {
     "name": "stdout",
     "output_type": "stream",
     "text": [
      "Enter any number34\n",
      "D grade\n"
     ]
    }
   ],
   "source": [
    "marks=int(input(\"Enter any number\"))\n",
    "\n",
    "if(marks>90):\n",
    "    print(\"Execellent:A+\")\n",
    "elif(marks>=80 and marks<=90):\n",
    "    print(\"A\")\n",
    "elif(marks>=70 and marks<=80):\n",
    "    print(\"B+\")\n",
    "elif(marks>=60 and marks<=70):\n",
    "    print(\"B\")\n",
    "elif(marks>=50 and marks<=60):\n",
    "    print(\"C grade\")\n",
    "else:\n",
    "    print(\"D grade\")"
   ]
  },
  {
   "cell_type": "markdown",
   "id": "e84a5fd9",
   "metadata": {},
   "source": [
    "if the marks are in decimal digit ,then change it into float data i.e-\n",
    "\n",
    "marks=float(input(\"enter the marks\"))\n",
    "\n",
    "\n",
    "with \"elif\" statement we can give multiple conditon and once we want to end it use else statement."
   ]
  },
  {
   "cell_type": "markdown",
   "id": "4e57c4db",
   "metadata": {},
   "source": [
    "PYTHOON STATEMENTS:-\n",
    "    \n",
    "1) BREAK-Loop can be halted or terminated in between using break statement.\n",
    "\n",
    "2)CONTINUES-It will jump the loop to the next iteratiom as soon as the condition is met."
   ]
  },
  {
   "cell_type": "code",
   "execution_count": 2,
   "id": "9726308d",
   "metadata": {},
   "outputs": [
    {
     "name": "stdout",
     "output_type": "stream",
     "text": [
      "100\n",
      "200\n",
      "300\n",
      "400\n"
     ]
    }
   ],
   "source": [
    "for i in [100,200,300,400]:\n",
    "    print(i)"
   ]
  },
  {
   "cell_type": "markdown",
   "id": "9afe8b7e",
   "metadata": {},
   "source": [
    "using break statement:-"
   ]
  },
  {
   "cell_type": "code",
   "execution_count": 8,
   "id": "ec1a31cc",
   "metadata": {},
   "outputs": [],
   "source": [
    "for i in [100,200,300,400]:\n",
    "    if(i==300):\n",
    "        break\n",
    "    print(i)"
   ]
  },
  {
   "cell_type": "code",
   "execution_count": 9,
   "id": "f0c0c168",
   "metadata": {},
   "outputs": [
    {
     "name": "stdout",
     "output_type": "stream",
     "text": [
      "100\n",
      "200\n",
      "400\n"
     ]
    }
   ],
   "source": [
    "for i in [100,200,300,400]:\n",
    "    if(i==300):\n",
    "        continue\n",
    "    print(i)"
   ]
  },
  {
   "cell_type": "code",
   "execution_count": 10,
   "id": "58552bcf",
   "metadata": {},
   "outputs": [
    {
     "name": "stdout",
     "output_type": "stream",
     "text": [
      "Apple\n"
     ]
    }
   ],
   "source": [
    "for i in [\"Apple\",\"Mango\",\"Orange\",\"Pineapple\"]:\n",
    "    if(i==\"Mango\"):\n",
    "        break\n",
    "    print(i)"
   ]
  },
  {
   "cell_type": "code",
   "execution_count": 11,
   "id": "9944ba8e",
   "metadata": {},
   "outputs": [
    {
     "name": "stdout",
     "output_type": "stream",
     "text": [
      "Apple\n",
      "Mango\n",
      "Pineapple\n"
     ]
    }
   ],
   "source": [
    "for i in [\"Apple\",\"Mango\",\"Orange\",\"Pineapple\"]:\n",
    "    if(i==\"Orange\"):\n",
    "        continue\n",
    "    print(i)"
   ]
  },
  {
   "cell_type": "markdown",
   "id": "c95a9335",
   "metadata": {},
   "source": [
    "# LIST COMPREHENSION;-"
   ]
  },
  {
   "cell_type": "markdown",
   "id": "a15b0cc6",
   "metadata": {},
   "source": [
    "In this entire for loop is written and within that for loop ,we use the list comprehension to select the particular element from that for loop based on specific conditions ."
   ]
  },
  {
   "cell_type": "code",
   "execution_count": 27,
   "id": "1fece482",
   "metadata": {},
   "outputs": [],
   "source": [
    "m=[i for i in [10,20,30,40,50]]"
   ]
  },
  {
   "cell_type": "code",
   "execution_count": 28,
   "id": "83990065",
   "metadata": {},
   "outputs": [
    {
     "data": {
      "text/plain": [
       "[10, 20, 30, 40, 50]"
      ]
     },
     "execution_count": 28,
     "metadata": {},
     "output_type": "execute_result"
    }
   ],
   "source": [
    "m"
   ]
  },
  {
   "cell_type": "code",
   "execution_count": 29,
   "id": "7783103e",
   "metadata": {},
   "outputs": [],
   "source": [
    "p=[i for i in [\"Apple\",\"Banana\",\"Mango\"]]"
   ]
  },
  {
   "cell_type": "code",
   "execution_count": 30,
   "id": "67246e28",
   "metadata": {},
   "outputs": [
    {
     "data": {
      "text/plain": [
       "['Apple', 'Banana', 'Mango']"
      ]
     },
     "execution_count": 30,
     "metadata": {},
     "output_type": "execute_result"
    }
   ],
   "source": [
    "p"
   ]
  },
  {
   "cell_type": "markdown",
   "id": "9c6ca12f",
   "metadata": {},
   "source": [
    "SIGNIFICANCE OF USING LIST COMPREHENSION;"
   ]
  },
  {
   "cell_type": "code",
   "execution_count": 33,
   "id": "73865150",
   "metadata": {},
   "outputs": [
    {
     "data": {
      "text/plain": [
       "[2, 3, 4, 5, 6, 7, 8, 9, 10, 11, 12, 13, 14, 15, 16, 17, 18, 19]"
      ]
     },
     "execution_count": 33,
     "metadata": {},
     "output_type": "execute_result"
    }
   ],
   "source": [
    "list(range(2,20))"
   ]
  },
  {
   "cell_type": "code",
   "execution_count": 34,
   "id": "ff245141",
   "metadata": {},
   "outputs": [],
   "source": [
    "m=[i for i in range(2,20) if i%2==0]\n",
    "    "
   ]
  },
  {
   "cell_type": "code",
   "execution_count": 35,
   "id": "b52b5489",
   "metadata": {},
   "outputs": [
    {
     "data": {
      "text/plain": [
       "[2, 4, 6, 8, 10, 12, 14, 16, 18]"
      ]
     },
     "execution_count": 35,
     "metadata": {},
     "output_type": "execute_result"
    }
   ],
   "source": [
    "m"
   ]
  },
  {
   "cell_type": "markdown",
   "id": "dc593524",
   "metadata": {},
   "source": [
    "to select all even numbers  using list comprehension"
   ]
  },
  {
   "cell_type": "code",
   "execution_count": 36,
   "id": "4a8ca5e9",
   "metadata": {},
   "outputs": [],
   "source": [
    "m=[i for i in range(2,20) if i%2!=0]"
   ]
  },
  {
   "cell_type": "code",
   "execution_count": 37,
   "id": "c990f20d",
   "metadata": {},
   "outputs": [
    {
     "data": {
      "text/plain": [
       "[3, 5, 7, 9, 11, 13, 15, 17, 19]"
      ]
     },
     "execution_count": 37,
     "metadata": {},
     "output_type": "execute_result"
    }
   ],
   "source": [
    "m"
   ]
  },
  {
   "cell_type": "markdown",
   "id": "d29a7b33",
   "metadata": {},
   "source": [
    "select odd nmber"
   ]
  },
  {
   "cell_type": "code",
   "execution_count": null,
   "id": "5266a6ee",
   "metadata": {},
   "outputs": [],
   "source": []
  }
 ],
 "metadata": {
  "kernelspec": {
   "display_name": "Python 3 (ipykernel)",
   "language": "python",
   "name": "python3"
  },
  "language_info": {
   "codemirror_mode": {
    "name": "ipython",
    "version": 3
   },
   "file_extension": ".py",
   "mimetype": "text/x-python",
   "name": "python",
   "nbconvert_exporter": "python",
   "pygments_lexer": "ipython3",
   "version": "3.9.12"
  }
 },
 "nbformat": 4,
 "nbformat_minor": 5
}
