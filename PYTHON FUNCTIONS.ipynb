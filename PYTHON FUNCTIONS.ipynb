{
 "cells": [
  {
   "cell_type": "markdown",
   "id": "df100a04",
   "metadata": {},
   "source": [
    "# FUNCTIONS"
   ]
  },
  {
   "cell_type": "markdown",
   "id": "82dfb127",
   "metadata": {},
   "source": [
    "FUNCTION is  group of related statements that performs a specific task.\n",
    "\n",
    "Functions help break our program into smaller and modular chunks. As our program grows larger and larger ,function makes it more organised and manageble.\n",
    "\n",
    "In short,functions are basically small-small modular approach where we can write set of related statements and we can call these functions whenever required."
   ]
  },
  {
   "cell_type": "markdown",
   "id": "e8024876",
   "metadata": {},
   "source": [
    "There are 3 types of functions in python:-\n",
    "    \n",
    "    1) IN-BUILD function (PRE-DEFINED)\n",
    "    2) USER-DEFINED function\n",
    "    3) ANONYMOUS function"
   ]
  },
  {
   "cell_type": "markdown",
   "id": "8826f51b",
   "metadata": {},
   "source": [
    "1) IN BUILD FUNCTIONS\n",
    "\n",
    "\n",
    "range(),input(),print(),\n",
    "len(),type(),float(),string(),"
   ]
  },
  {
   "cell_type": "code",
   "execution_count": 1,
   "id": "c3238e34",
   "metadata": {},
   "outputs": [
    {
     "name": "stdout",
     "output_type": "stream",
     "text": [
      "\n",
      "Welcome to Python 3.9's help utility!\n",
      "\n",
      "If this is your first time using Python, you should definitely check out\n",
      "the tutorial on the Internet at https://docs.python.org/3.9/tutorial/.\n",
      "\n",
      "Enter the name of any module, keyword, or topic to get help on writing\n",
      "Python programs and using Python modules.  To quit this help utility and\n",
      "return to the interpreter, just type \"quit\".\n",
      "\n",
      "To get a list of available modules, keywords, symbols, or topics, type\n",
      "\"modules\", \"keywords\", \"symbols\", or \"topics\".  Each module also comes\n",
      "with a one-line summary of what it does; to list the modules whose name\n",
      "or summary contain a given string such as \"spam\", type \"modules spam\".\n",
      "\n",
      "help> symbols\n",
      "\n",
      "Here is a list of the punctuation symbols which Python assigns special meaning\n",
      "to. Enter any symbol to get more help.\n",
      "\n",
      "!=                  +                   <=                  __\n",
      "\"                   +=                  <>                  `\n",
      "\"\"\"                 ,                   ==                  b\"\n",
      "%                   -                   >                   b'\n",
      "%=                  -=                  >=                  f\"\n",
      "&                   .                   >>                  f'\n",
      "&=                  ...                 >>=                 j\n",
      "'                   /                   @                   r\"\n",
      "'''                 //                  J                   r'\n",
      "(                   //=                 [                   u\"\n",
      ")                   /=                  \\                   u'\n",
      "*                   :                   ]                   |\n",
      "**                  <                   ^                   |=\n",
      "**=                 <<                  ^=                  ~\n",
      "*=                  <<=                 _                   \n",
      "\n",
      "help> topics\n",
      "\n",
      "Here is a list of available topics.  Enter any topic name to get more help.\n",
      "\n",
      "ASSERTION           DELETION            LOOPING             SHIFTING\n",
      "ASSIGNMENT          DICTIONARIES        MAPPINGMETHODS      SLICINGS\n",
      "ATTRIBUTEMETHODS    DICTIONARYLITERALS  MAPPINGS            SPECIALATTRIBUTES\n",
      "ATTRIBUTES          DYNAMICFEATURES     METHODS             SPECIALIDENTIFIERS\n",
      "AUGMENTEDASSIGNMENT ELLIPSIS            MODULES             SPECIALMETHODS\n",
      "BASICMETHODS        EXCEPTIONS          NAMESPACES          STRINGMETHODS\n",
      "BINARY              EXECUTION           NONE                STRINGS\n",
      "BITWISE             EXPRESSIONS         NUMBERMETHODS       SUBSCRIPTS\n",
      "BOOLEAN             FLOAT               NUMBERS             TRACEBACKS\n",
      "CALLABLEMETHODS     FORMATTING          OBJECTS             TRUTHVALUE\n",
      "CALLS               FRAMEOBJECTS        OPERATORS           TUPLELITERALS\n",
      "CLASSES             FRAMES              PACKAGES            TUPLES\n",
      "CODEOBJECTS         FUNCTIONS           POWER               TYPEOBJECTS\n",
      "COMPARISON          IDENTIFIERS         PRECEDENCE          TYPES\n",
      "COMPLEX             IMPORTING           PRIVATENAMES        UNARY\n",
      "CONDITIONAL         INTEGER             RETURNING           UNICODE\n",
      "CONTEXTMANAGERS     LISTLITERALS        SCOPING             \n",
      "CONVERSIONS         LISTS               SEQUENCEMETHODS     \n",
      "DEBUGGING           LITERALS            SEQUENCES           \n",
      "\n",
      "help> keywords\n",
      "\n",
      "Here is a list of the Python keywords.  Enter any keyword to get more help.\n",
      "\n",
      "False               break               for                 not\n",
      "None                class               from                or\n",
      "True                continue            global              pass\n",
      "__peg_parser__      def                 if                  raise\n",
      "and                 del                 import              return\n",
      "as                  elif                in                  try\n",
      "assert              else                is                  while\n",
      "async               except              lambda              with\n",
      "await               finally             nonlocal            yield\n",
      "\n",
      "\n",
      "You are now leaving help and returning to the Python interpreter.\n",
      "If you want to ask for help on a particular object directly from the\n",
      "interpreter, you can type \"help(object)\".  Executing \"help('string')\"\n",
      "has the same effect as typing a particular string at the help> prompt.\n"
     ]
    }
   ],
   "source": [
    "help()"
   ]
  },
  {
   "cell_type": "markdown",
   "id": "61984e72",
   "metadata": {},
   "source": [
    "help () function si also called utility function."
   ]
  },
  {
   "cell_type": "code",
   "execution_count": 2,
   "id": "d5b22f51",
   "metadata": {},
   "outputs": [
    {
     "name": "stdout",
     "output_type": "stream",
     "text": [
      "Help on built-in function len in module builtins:\n",
      "\n",
      "len(obj, /)\n",
      "    Return the number of items in a container.\n",
      "\n"
     ]
    }
   ],
   "source": [
    "help(len)"
   ]
  },
  {
   "cell_type": "code",
   "execution_count": 3,
   "id": "e59ccbd1",
   "metadata": {},
   "outputs": [
    {
     "name": "stdout",
     "output_type": "stream",
     "text": [
      "Help on built-in function min in module builtins:\n",
      "\n",
      "min(...)\n",
      "    min(iterable, *[, default=obj, key=func]) -> value\n",
      "    min(arg1, arg2, *args, *[, key=func]) -> value\n",
      "    \n",
      "    With a single iterable argument, return its smallest item. The\n",
      "    default keyword-only argument specifies an object to return if\n",
      "    the provided iterable is empty.\n",
      "    With two or more arguments, return the smallest argument.\n",
      "\n"
     ]
    }
   ],
   "source": [
    "help(min)"
   ]
  },
  {
   "cell_type": "code",
   "execution_count": 4,
   "id": "9bc52d82",
   "metadata": {},
   "outputs": [
    {
     "name": "stdout",
     "output_type": "stream",
     "text": [
      "Help on built-in function max in module builtins:\n",
      "\n",
      "max(...)\n",
      "    max(iterable, *[, default=obj, key=func]) -> value\n",
      "    max(arg1, arg2, *args, *[, key=func]) -> value\n",
      "    \n",
      "    With a single iterable argument, return its biggest item. The\n",
      "    default keyword-only argument specifies an object to return if\n",
      "    the provided iterable is empty.\n",
      "    With two or more arguments, return the largest argument.\n",
      "\n"
     ]
    }
   ],
   "source": [
    "help(max)"
   ]
  },
  {
   "cell_type": "code",
   "execution_count": 6,
   "id": "81f0a903",
   "metadata": {},
   "outputs": [
    {
     "name": "stdout",
     "output_type": "stream",
     "text": [
      "Help on method raw_input in module ipykernel.kernelbase:\n",
      "\n",
      "raw_input(prompt='') method of ipykernel.ipkernel.IPythonKernel instance\n",
      "    Forward raw_input to frontends\n",
      "    \n",
      "    Raises\n",
      "    ------\n",
      "    StdinNotImplementedError if active frontend doesn't support stdin.\n",
      "\n"
     ]
    }
   ],
   "source": [
    "help(input)"
   ]
  },
  {
   "cell_type": "markdown",
   "id": "0e5c6881",
   "metadata": {},
   "source": [
    "help(input)- this helps on raw_input( prompt=\"\")response.\n",
    "\n",
    "stdin -- means standard input."
   ]
  },
  {
   "cell_type": "code",
   "execution_count": 8,
   "id": "387c650e",
   "metadata": {},
   "outputs": [],
   "source": [
    "k=[90,57,489,22,13,37,1,100]"
   ]
  },
  {
   "cell_type": "code",
   "execution_count": 9,
   "id": "e63dab2f",
   "metadata": {},
   "outputs": [
    {
     "data": {
      "text/plain": [
       "1"
      ]
     },
     "execution_count": 9,
     "metadata": {},
     "output_type": "execute_result"
    }
   ],
   "source": [
    "min(k)"
   ]
  },
  {
   "cell_type": "code",
   "execution_count": 10,
   "id": "67b51a0f",
   "metadata": {},
   "outputs": [
    {
     "data": {
      "text/plain": [
       "489"
      ]
     },
     "execution_count": 10,
     "metadata": {},
     "output_type": "execute_result"
    }
   ],
   "source": [
    "max(k)"
   ]
  },
  {
   "cell_type": "markdown",
   "id": "e8a3d644",
   "metadata": {},
   "source": [
    "2)USER-DEFINED FUNCTION-\n",
    "\n",
    "USER  can make functions here.so whenever we write user-defined functions ,we need to follow syntax."
   ]
  },
  {
   "cell_type": "markdown",
   "id": "2f9a0fcc",
   "metadata": {},
   "source": [
    "first of all ,whenever we are using user-defined function,we need to create 2 steps:-\n",
    "    \n",
    "    1)Create function definiton\n",
    "    \n",
    "    2)Create calling to a function"
   ]
  },
  {
   "cell_type": "code",
   "execution_count": 11,
   "id": "0afff9ef",
   "metadata": {},
   "outputs": [],
   "source": [
    "def function_name():\n",
    "    print(\"Hello\")"
   ]
  },
  {
   "cell_type": "code",
   "execution_count": 12,
   "id": "fba55e1e",
   "metadata": {},
   "outputs": [
    {
     "name": "stdout",
     "output_type": "stream",
     "text": [
      "Hello\n"
     ]
    }
   ],
   "source": [
    "function_name()"
   ]
  },
  {
   "cell_type": "markdown",
   "id": "b7c5c275",
   "metadata": {},
   "source": [
    "All keywords are depicted with colour green.\n",
    "def is a keyword."
   ]
  },
  {
   "cell_type": "code",
   "execution_count": 13,
   "id": "9f27e650",
   "metadata": {},
   "outputs": [],
   "source": [
    "#this is creating a function definition.\n",
    "\n",
    "def function1():\n",
    "    print(\"Hello\")"
   ]
  },
  {
   "cell_type": "code",
   "execution_count": 14,
   "id": "bcf52540",
   "metadata": {},
   "outputs": [
    {
     "name": "stdout",
     "output_type": "stream",
     "text": [
      "Hello\n"
     ]
    }
   ],
   "source": [
    "#this is calling a function.\n",
    "\n",
    "function1()"
   ]
  },
  {
   "cell_type": "code",
   "execution_count": 15,
   "id": "63e5c3bf",
   "metadata": {},
   "outputs": [],
   "source": [
    "def function2():\n",
    "    print(\"Learning Functions\")"
   ]
  },
  {
   "cell_type": "code",
   "execution_count": 16,
   "id": "f62ae40e",
   "metadata": {},
   "outputs": [
    {
     "name": "stdout",
     "output_type": "stream",
     "text": [
      "Learning Functions\n"
     ]
    }
   ],
   "source": [
    "function2()"
   ]
  },
  {
   "cell_type": "code",
   "execution_count": 17,
   "id": "defb0dc6",
   "metadata": {},
   "outputs": [],
   "source": [
    "def function3():\n",
    "    print(\"Hello\")\n",
    "    print(\"Learning functions\")"
   ]
  },
  {
   "cell_type": "code",
   "execution_count": 19,
   "id": "fedbe828",
   "metadata": {},
   "outputs": [
    {
     "name": "stdout",
     "output_type": "stream",
     "text": [
      "Hello\n",
      "Learning functions\n"
     ]
    }
   ],
   "source": [
    "function3()"
   ]
  },
  {
   "cell_type": "markdown",
   "id": "3df85c06",
   "metadata": {},
   "source": [
    "TO ADD"
   ]
  },
  {
   "cell_type": "code",
   "execution_count": 20,
   "id": "17167ac1",
   "metadata": {},
   "outputs": [],
   "source": [
    "def addfunction():\n",
    "    a=10\n",
    "    b=22\n",
    "    c=a+b\n",
    "    print(\"C=\",c)"
   ]
  },
  {
   "cell_type": "code",
   "execution_count": 21,
   "id": "f386fadc",
   "metadata": {},
   "outputs": [
    {
     "name": "stdout",
     "output_type": "stream",
     "text": [
      "C= 32\n"
     ]
    }
   ],
   "source": [
    "addfunction()"
   ]
  },
  {
   "cell_type": "markdown",
   "id": "b17ca449",
   "metadata": {},
   "source": [
    "TO SUBSTRACT"
   ]
  },
  {
   "cell_type": "code",
   "execution_count": 22,
   "id": "579d3e44",
   "metadata": {},
   "outputs": [],
   "source": [
    "def substract_function():\n",
    "    x=70\n",
    "    y=6\n",
    "    z=x-y\n",
    "    print(\"The value of Z=\",z)"
   ]
  },
  {
   "cell_type": "code",
   "execution_count": 23,
   "id": "770fc392",
   "metadata": {},
   "outputs": [
    {
     "name": "stdout",
     "output_type": "stream",
     "text": [
      "The value of Z= 64\n"
     ]
    }
   ],
   "source": [
    "substract_function()"
   ]
  },
  {
   "cell_type": "markdown",
   "id": "45d1c281",
   "metadata": {},
   "source": [
    "TO MULTIPLY:-"
   ]
  },
  {
   "cell_type": "code",
   "execution_count": 24,
   "id": "838176b1",
   "metadata": {},
   "outputs": [],
   "source": [
    "def multiply_func():\n",
    "    x=5\n",
    "    y=3\n",
    "    z=x*y\n",
    "    print(\"Z=\",z)"
   ]
  },
  {
   "cell_type": "code",
   "execution_count": 25,
   "id": "9d3c6597",
   "metadata": {},
   "outputs": [
    {
     "name": "stdout",
     "output_type": "stream",
     "text": [
      "Z= 15\n"
     ]
    }
   ],
   "source": [
    "multiply_func()"
   ]
  },
  {
   "cell_type": "markdown",
   "id": "cbf01f2c",
   "metadata": {},
   "source": [
    "TO FIND SQUARE:-"
   ]
  },
  {
   "cell_type": "code",
   "execution_count": 26,
   "id": "b0da0c1d",
   "metadata": {},
   "outputs": [],
   "source": [
    "def square_function():\n",
    "    x=4\n",
    "    y=x**2\n",
    "    print(\"Square of number\",x,\"is\",y)\n",
    "    \n",
    "    print(\"square of number\",x,\"is\",x**2)"
   ]
  },
  {
   "cell_type": "code",
   "execution_count": 27,
   "id": "62b52569",
   "metadata": {},
   "outputs": [
    {
     "name": "stdout",
     "output_type": "stream",
     "text": [
      "Square of number 4 is 16\n",
      "square of number 4 is 16\n"
     ]
    }
   ],
   "source": [
    "square_function()"
   ]
  },
  {
   "cell_type": "markdown",
   "id": "d8fbe70d",
   "metadata": {},
   "source": [
    "TO FIND AREA OF RECTANGLE:-"
   ]
  },
  {
   "cell_type": "code",
   "execution_count": 28,
   "id": "4d2dc607",
   "metadata": {},
   "outputs": [],
   "source": [
    "def area_of_rectangle():\n",
    "    length=55\n",
    "    breath=5\n",
    "    area=length*breath\n",
    "    \n",
    "    print(\"Area of rectangle=\",area)\n",
    "    \n",
    "    print(\"Area of rectangle with length\",length,\"and with breath is\",breath,\"=\",area)"
   ]
  },
  {
   "cell_type": "code",
   "execution_count": 29,
   "id": "811bc389",
   "metadata": {},
   "outputs": [
    {
     "name": "stdout",
     "output_type": "stream",
     "text": [
      "Area of rectangle= 275\n",
      "Area of rectangle with length 55 and with breath is 5 = 275\n"
     ]
    }
   ],
   "source": [
    "area_of_rectangle()"
   ]
  },
  {
   "cell_type": "markdown",
   "id": "2b501a13",
   "metadata": {},
   "source": [
    "HOW TO DO USING USER-INPUT(above code)"
   ]
  },
  {
   "cell_type": "markdown",
   "id": "9b14b5c2",
   "metadata": {},
   "source": [
    "Input will always give string data and string data cannot be multiplied ."
   ]
  },
  {
   "cell_type": "code",
   "execution_count": 1,
   "id": "7001e31e",
   "metadata": {},
   "outputs": [],
   "source": [
    "def area_of_rectangle():\n",
    "    length=int(input(\"Enter any length\"))\n",
    "    breath=int(input(\"Enter any breath\"))\n",
    "    area=length*breath\n",
    "    \n",
    "    print(\"Area of rectangle=\",area)\n",
    "    \n",
    "    print(\"Area of rectangle with length=\",length,\"and breath=\",breath,\"=\",area)"
   ]
  },
  {
   "cell_type": "code",
   "execution_count": 2,
   "id": "ac00726c",
   "metadata": {},
   "outputs": [
    {
     "name": "stdout",
     "output_type": "stream",
     "text": [
      "Enter any length55\n",
      "Enter any breath5\n",
      "Area of rectangle= 275\n",
      "Area of rectangle with length= 55 and breath= 5 = 275\n"
     ]
    }
   ],
   "source": [
    "area_of_rectangle()"
   ]
  },
  {
   "cell_type": "markdown",
   "id": "76e6524f",
   "metadata": {},
   "source": [
    "TO FIND AREA OF CIRCLE"
   ]
  },
  {
   "cell_type": "code",
   "execution_count": 9,
   "id": "aaaf6a96",
   "metadata": {},
   "outputs": [],
   "source": [
    "def area_of_circle():\n",
    "    pi=3.14\n",
    "    radius=45\n",
    "    area=pi*(radius**2)\n",
    "    \n",
    "    print(\"Area of circle=\",area)\n",
    "    \n",
    "    print(\"Area of circle=\",area,\"with radius=\",radius)"
   ]
  },
  {
   "cell_type": "code",
   "execution_count": 10,
   "id": "8e5ac556",
   "metadata": {},
   "outputs": [
    {
     "name": "stdout",
     "output_type": "stream",
     "text": [
      "Area of circle= 6358.5\n",
      "Area of circle= 6358.5 with radius= 45\n"
     ]
    }
   ],
   "source": [
    "area_of_circle()"
   ]
  },
  {
   "cell_type": "markdown",
   "id": "8ff88610",
   "metadata": {},
   "source": [
    "HOW TO DO USING USER-INPUT(above code)"
   ]
  },
  {
   "cell_type": "code",
   "execution_count": 12,
   "id": "15a0dfd2",
   "metadata": {},
   "outputs": [],
   "source": [
    "def area_of_circle():\n",
    "    pi=3.14\n",
    "    radius=int(input(\"Enter any radius\"))\n",
    "    area=pi*(radius**2)\n",
    "    \n",
    "    print(\"Area of circle=\",area)\n",
    "    \n",
    "    print(\"area of cicle=\",area,\"with radius=\",radius)"
   ]
  },
  {
   "cell_type": "code",
   "execution_count": 13,
   "id": "3a3c5990",
   "metadata": {},
   "outputs": [
    {
     "name": "stdout",
     "output_type": "stream",
     "text": [
      "Enter any radius45\n",
      "Area of circle= 6358.5\n",
      "area of cicle= 6358.5 with radius= 45\n"
     ]
    }
   ],
   "source": [
    "area_of_circle()"
   ]
  },
  {
   "cell_type": "markdown",
   "id": "aca56cd7",
   "metadata": {},
   "source": [
    "Functions will be created once , but at anytime one can call the functions;whenever required."
   ]
  },
  {
   "cell_type": "markdown",
   "id": "0878ba4b",
   "metadata": {},
   "source": [
    "HOW TO CREATE A TABLE FUNCTION USING USER-INPUT."
   ]
  },
  {
   "cell_type": "code",
   "execution_count": 14,
   "id": "ebc6f890",
   "metadata": {},
   "outputs": [],
   "source": [
    "def table_function():\n",
    "    t=int(input(\"Enter any number for generating table\"))\n",
    "    for i in range (1,11):\n",
    "        \n",
    "        print(t,\"*\",i,\"=\",t*i)"
   ]
  },
  {
   "cell_type": "code",
   "execution_count": 15,
   "id": "8541f4a7",
   "metadata": {},
   "outputs": [
    {
     "name": "stdout",
     "output_type": "stream",
     "text": [
      "Enter any number for generating table3\n",
      "3 * 1 = 3\n",
      "3 * 2 = 6\n",
      "3 * 3 = 9\n",
      "3 * 4 = 12\n",
      "3 * 5 = 15\n",
      "3 * 6 = 18\n",
      "3 * 7 = 21\n",
      "3 * 8 = 24\n",
      "3 * 9 = 27\n",
      "3 * 10 = 30\n"
     ]
    }
   ],
   "source": [
    "table_function()"
   ]
  },
  {
   "cell_type": "code",
   "execution_count": 16,
   "id": "4a9eca20",
   "metadata": {},
   "outputs": [],
   "source": [
    "def tablefunc():\n",
    "    t=int(input(\"Enter any number for table generation\"))\n",
    "    for i in range (1,11):\n",
    "        \n",
    "        print(t,\"*\",i,\"=\",t*i)"
   ]
  },
  {
   "cell_type": "code",
   "execution_count": 17,
   "id": "6810abb1",
   "metadata": {},
   "outputs": [
    {
     "name": "stdout",
     "output_type": "stream",
     "text": [
      "Enter any number for table generation6\n",
      "6 * 1 = 6\n",
      "6 * 2 = 12\n",
      "6 * 3 = 18\n",
      "6 * 4 = 24\n",
      "6 * 5 = 30\n",
      "6 * 6 = 36\n",
      "6 * 7 = 42\n",
      "6 * 8 = 48\n",
      "6 * 9 = 54\n",
      "6 * 10 = 60\n"
     ]
    }
   ],
   "source": [
    "tablefunc()"
   ]
  },
  {
   "cell_type": "markdown",
   "id": "8806480d",
   "metadata": {},
   "source": [
    "# PARAMETRIC FUNCTION"
   ]
  },
  {
   "cell_type": "markdown",
   "id": "d0e74ee1",
   "metadata": {},
   "source": [
    " USER DEFINED FUNCTION  is itself a parametric function()"
   ]
  },
  {
   "cell_type": "code",
   "execution_count": 18,
   "id": "6fe0cba8",
   "metadata": {},
   "outputs": [],
   "source": [
    "def addfunction(a,b):\n",
    "    c=a+b\n",
    "    print(\"C=\",c)"
   ]
  },
  {
   "cell_type": "code",
   "execution_count": 20,
   "id": "51c9270a",
   "metadata": {},
   "outputs": [
    {
     "name": "stdout",
     "output_type": "stream",
     "text": [
      "C= 10\n"
     ]
    }
   ],
   "source": [
    "addfunction(5,5)"
   ]
  },
  {
   "cell_type": "code",
   "execution_count": 21,
   "id": "33ac18a9",
   "metadata": {},
   "outputs": [],
   "source": [
    "def substractfunc(a,b):\n",
    "    c=a-b\n",
    "    print(\"C=\",c)"
   ]
  },
  {
   "cell_type": "code",
   "execution_count": 22,
   "id": "7c04d005",
   "metadata": {},
   "outputs": [
    {
     "name": "stdout",
     "output_type": "stream",
     "text": [
      "C= 3\n"
     ]
    }
   ],
   "source": [
    "substractfunc(7,4)"
   ]
  },
  {
   "cell_type": "code",
   "execution_count": 23,
   "id": "012c6b15",
   "metadata": {},
   "outputs": [],
   "source": [
    "def multiply_f(x,y):\n",
    "    z=x*y\n",
    "    print(\"Z=\",z)"
   ]
  },
  {
   "cell_type": "code",
   "execution_count": 25,
   "id": "c72c2db9",
   "metadata": {},
   "outputs": [
    {
     "name": "stdout",
     "output_type": "stream",
     "text": [
      "Z= 30\n"
     ]
    }
   ],
   "source": [
    "multiply_f(5,6)"
   ]
  },
  {
   "cell_type": "markdown",
   "id": "768425e4",
   "metadata": {},
   "source": [
    "or"
   ]
  },
  {
   "cell_type": "code",
   "execution_count": 33,
   "id": "e876f86e",
   "metadata": {},
   "outputs": [],
   "source": [
    "def multiply_f(x,y):\n",
    "   \n",
    "    z=x*y\n",
    "    \n",
    "    print(\"Z=\",z)\n",
    "    \n",
    "    print(\"Z=\",x*y)\n",
    "    "
   ]
  },
  {
   "cell_type": "code",
   "execution_count": 34,
   "id": "b54a5926",
   "metadata": {},
   "outputs": [
    {
     "name": "stdout",
     "output_type": "stream",
     "text": [
      "Z= 45\n",
      "Z= 45\n"
     ]
    }
   ],
   "source": [
    "x=9\n",
    "y=5\n",
    "multiply_f(x,y)"
   ]
  },
  {
   "cell_type": "code",
   "execution_count": 40,
   "id": "5ac70e0a",
   "metadata": {},
   "outputs": [],
   "source": [
    "def area_of_rectangle(length,breath):\n",
    "    area=length*breath\n",
    "    \n",
    "    print(\"Area of rectangle=\",area)\n",
    "    \n",
    "    print(\"Area of rectangle with length=\",length,\"and breath=\",breath,\"is\",area)"
   ]
  },
  {
   "cell_type": "code",
   "execution_count": 41,
   "id": "091a6327",
   "metadata": {},
   "outputs": [
    {
     "name": "stdout",
     "output_type": "stream",
     "text": [
      "enter any length89\n",
      "enter any breath20\n"
     ]
    }
   ],
   "source": [
    "length=int(input(\"enter any length\"))\n",
    "breath=int(input(\"enter any breath\"))\n",
    "\n",
    "area=length*breath"
   ]
  },
  {
   "cell_type": "code",
   "execution_count": 42,
   "id": "a8c1c8e0",
   "metadata": {},
   "outputs": [
    {
     "name": "stdout",
     "output_type": "stream",
     "text": [
      "Area of rectangle= 1780\n",
      "Area of rectangle with length= 89 and breath= 20 is 1780\n"
     ]
    }
   ],
   "source": [
    "area_of_rectangle(length,breath)"
   ]
  },
  {
   "cell_type": "code",
   "execution_count": 44,
   "id": "605f806d",
   "metadata": {},
   "outputs": [],
   "source": [
    "def area_of_circle(pi,radius):\n",
    "    area=pi*(radius**2)\n",
    "    \n",
    "    print(\"area of circle =\",area)"
   ]
  },
  {
   "cell_type": "code",
   "execution_count": 45,
   "id": "e4fbdc80",
   "metadata": {},
   "outputs": [
    {
     "name": "stdout",
     "output_type": "stream",
     "text": [
      "enter any radius45\n"
     ]
    }
   ],
   "source": [
    "pi=3.14\n",
    "radius=int(input(\"enter any radius\"))\n",
    "\n",
    "area= pi*(radius**2)"
   ]
  },
  {
   "cell_type": "code",
   "execution_count": 46,
   "id": "4dd7b2d6",
   "metadata": {},
   "outputs": [
    {
     "name": "stdout",
     "output_type": "stream",
     "text": [
      "area of circle = 6358.5\n"
     ]
    }
   ],
   "source": [
    "area_of_circle(pi,radius)"
   ]
  },
  {
   "cell_type": "markdown",
   "id": "768f588a",
   "metadata": {},
   "source": [
    "USING 3 PARAMETERS:-"
   ]
  },
  {
   "cell_type": "code",
   "execution_count": 47,
   "id": "11ab1aaa",
   "metadata": {},
   "outputs": [],
   "source": [
    "def addfunc(a,b,c):\n",
    "    result=a+b+c\n",
    "    \n",
    "    print(\"Result=\",result)\n",
    "    "
   ]
  },
  {
   "cell_type": "code",
   "execution_count": 48,
   "id": "dbb9ad41",
   "metadata": {},
   "outputs": [
    {
     "name": "stdout",
     "output_type": "stream",
     "text": [
      "Result= 14\n"
     ]
    }
   ],
   "source": [
    "addfunc(3,5,6)"
   ]
  },
  {
   "cell_type": "code",
   "execution_count": null,
   "id": "d4a69557",
   "metadata": {},
   "outputs": [],
   "source": []
  }
 ],
 "metadata": {
  "kernelspec": {
   "display_name": "Python 3 (ipykernel)",
   "language": "python",
   "name": "python3"
  },
  "language_info": {
   "codemirror_mode": {
    "name": "ipython",
    "version": 3
   },
   "file_extension": ".py",
   "mimetype": "text/x-python",
   "name": "python",
   "nbconvert_exporter": "python",
   "pygments_lexer": "ipython3",
   "version": "3.9.12"
  }
 },
 "nbformat": 4,
 "nbformat_minor": 5
}
