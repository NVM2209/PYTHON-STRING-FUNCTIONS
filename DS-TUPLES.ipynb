{
 "cells": [
  {
   "cell_type": "markdown",
   "id": "f3f26c81",
   "metadata": {},
   "source": [
    "# TUPLES ()"
   ]
  },
  {
   "cell_type": "code",
   "execution_count": null,
   "id": "030d3e3d",
   "metadata": {},
   "outputs": [],
   "source": [
    "TUPLES are ordered collection of items .\n",
    "--A Tuple consists of a number of values separated by comma.\n",
    "--they are indexed and standard sequenced datatype.\n",
    "--we can create a tuple with different values ,but all the values should be homogenous(similar)\n",
    "--they are immutable,i.e you cannot change.\n",
    "--list and tuple are created with homogenous value.\n",
    "\n",
    "ex--\n"
   ]
  },
  {
   "cell_type": "code",
   "execution_count": 1,
   "id": "aedc47fa",
   "metadata": {},
   "outputs": [],
   "source": [
    "tuple1=(1,2,3,4,5)"
   ]
  },
  {
   "cell_type": "code",
   "execution_count": 2,
   "id": "b14e7655",
   "metadata": {},
   "outputs": [
    {
     "data": {
      "text/plain": [
       "(1, 2, 3, 4, 5)"
      ]
     },
     "execution_count": 2,
     "metadata": {},
     "output_type": "execute_result"
    }
   ],
   "source": [
    "tuple1"
   ]
  },
  {
   "cell_type": "code",
   "execution_count": 7,
   "id": "0b540a48",
   "metadata": {},
   "outputs": [
    {
     "data": {
      "text/plain": [
       "1"
      ]
     },
     "execution_count": 7,
     "metadata": {},
     "output_type": "execute_result"
    }
   ],
   "source": [
    "tuple1[0]"
   ]
  },
  {
   "cell_type": "code",
   "execution_count": 8,
   "id": "a92244fb",
   "metadata": {},
   "outputs": [
    {
     "data": {
      "text/plain": [
       "2"
      ]
     },
     "execution_count": 8,
     "metadata": {},
     "output_type": "execute_result"
    }
   ],
   "source": [
    "tuple1[1]"
   ]
  },
  {
   "cell_type": "code",
   "execution_count": 9,
   "id": "a288985d",
   "metadata": {},
   "outputs": [
    {
     "data": {
      "text/plain": [
       "4"
      ]
     },
     "execution_count": 9,
     "metadata": {},
     "output_type": "execute_result"
    }
   ],
   "source": [
    "tuple1[3]"
   ]
  },
  {
   "cell_type": "code",
   "execution_count": 3,
   "id": "edb0be55",
   "metadata": {},
   "outputs": [],
   "source": [
    "tuple2=(11,12,13,14,15,16)"
   ]
  },
  {
   "cell_type": "code",
   "execution_count": 4,
   "id": "9b58f3b6",
   "metadata": {},
   "outputs": [
    {
     "data": {
      "text/plain": [
       "(11, 12, 13, 14, 15, 16)"
      ]
     },
     "execution_count": 4,
     "metadata": {},
     "output_type": "execute_result"
    }
   ],
   "source": [
    "tuple2"
   ]
  },
  {
   "cell_type": "code",
   "execution_count": 10,
   "id": "e870e66c",
   "metadata": {},
   "outputs": [
    {
     "data": {
      "text/plain": [
       "11"
      ]
     },
     "execution_count": 10,
     "metadata": {},
     "output_type": "execute_result"
    }
   ],
   "source": [
    "tuple2[0]"
   ]
  },
  {
   "cell_type": "code",
   "execution_count": 11,
   "id": "295699c1",
   "metadata": {},
   "outputs": [
    {
     "data": {
      "text/plain": [
       "12"
      ]
     },
     "execution_count": 11,
     "metadata": {},
     "output_type": "execute_result"
    }
   ],
   "source": [
    "tuple2[1]"
   ]
  },
  {
   "cell_type": "code",
   "execution_count": 5,
   "id": "509b8130",
   "metadata": {},
   "outputs": [],
   "source": [
    "tuple3=('a','p','p','l','e')"
   ]
  },
  {
   "cell_type": "code",
   "execution_count": 6,
   "id": "10e727a7",
   "metadata": {},
   "outputs": [
    {
     "data": {
      "text/plain": [
       "('a', 'p', 'p', 'l', 'e')"
      ]
     },
     "execution_count": 6,
     "metadata": {},
     "output_type": "execute_result"
    }
   ],
   "source": [
    "tuple3"
   ]
  },
  {
   "cell_type": "code",
   "execution_count": 12,
   "id": "1348f240",
   "metadata": {},
   "outputs": [
    {
     "data": {
      "text/plain": [
       "'a'"
      ]
     },
     "execution_count": 12,
     "metadata": {},
     "output_type": "execute_result"
    }
   ],
   "source": [
    "tuple3[0]"
   ]
  },
  {
   "cell_type": "code",
   "execution_count": 13,
   "id": "d6c46fa6",
   "metadata": {},
   "outputs": [
    {
     "data": {
      "text/plain": [
       "'p'"
      ]
     },
     "execution_count": 13,
     "metadata": {},
     "output_type": "execute_result"
    }
   ],
   "source": [
    "tuple3[1]"
   ]
  },
  {
   "cell_type": "code",
   "execution_count": 14,
   "id": "ab749313",
   "metadata": {},
   "outputs": [
    {
     "data": {
      "text/plain": [
       "'l'"
      ]
     },
     "execution_count": 14,
     "metadata": {},
     "output_type": "execute_result"
    }
   ],
   "source": [
    "tuple3[3]"
   ]
  },
  {
   "cell_type": "markdown",
   "id": "8941f1f1",
   "metadata": {},
   "source": [
    "This means tuples are indexed.  "
   ]
  },
  {
   "cell_type": "code",
   "execution_count": 15,
   "id": "00878b8f",
   "metadata": {},
   "outputs": [
    {
     "data": {
      "text/plain": [
       "('a', 'p', 'p', 'l', 'e')"
      ]
     },
     "execution_count": 15,
     "metadata": {},
     "output_type": "execute_result"
    }
   ],
   "source": [
    "tuple3"
   ]
  },
  {
   "cell_type": "code",
   "execution_count": 16,
   "id": "2929e1b4",
   "metadata": {},
   "outputs": [
    {
     "data": {
      "text/plain": [
       "0"
      ]
     },
     "execution_count": 16,
     "metadata": {},
     "output_type": "execute_result"
    }
   ],
   "source": [
    "tuple3.index('a')"
   ]
  },
  {
   "cell_type": "code",
   "execution_count": 18,
   "id": "3e54b70e",
   "metadata": {},
   "outputs": [
    {
     "data": {
      "text/plain": [
       "3"
      ]
     },
     "execution_count": 18,
     "metadata": {},
     "output_type": "execute_result"
    }
   ],
   "source": [
    "tuple3.index('l')"
   ]
  },
  {
   "cell_type": "code",
   "execution_count": 19,
   "id": "493ef4a2",
   "metadata": {},
   "outputs": [
    {
     "data": {
      "text/plain": [
       "1"
      ]
     },
     "execution_count": 19,
     "metadata": {},
     "output_type": "execute_result"
    }
   ],
   "source": [
    "tuple3.index('p')"
   ]
  },
  {
   "cell_type": "code",
   "execution_count": 20,
   "id": "760f97eb",
   "metadata": {},
   "outputs": [
    {
     "data": {
      "text/plain": [
       "2"
      ]
     },
     "execution_count": 20,
     "metadata": {},
     "output_type": "execute_result"
    }
   ],
   "source": [
    "tuple3.count('p')"
   ]
  },
  {
   "cell_type": "markdown",
   "id": "719667b9",
   "metadata": {},
   "source": [
    "'count operation '--will show how many similar characters are there in tuple ."
   ]
  },
  {
   "cell_type": "code",
   "execution_count": 21,
   "id": "e35fcb9f",
   "metadata": {},
   "outputs": [
    {
     "data": {
      "text/plain": [
       "'e'"
      ]
     },
     "execution_count": 21,
     "metadata": {},
     "output_type": "execute_result"
    }
   ],
   "source": [
    "tuple3[4]"
   ]
  },
  {
   "cell_type": "code",
   "execution_count": 22,
   "id": "4955ee0a",
   "metadata": {},
   "outputs": [
    {
     "ename": "TypeError",
     "evalue": "'tuple' object does not support item assignment",
     "output_type": "error",
     "traceback": [
      "\u001b[1;31m---------------------------------------------------------------------------\u001b[0m",
      "\u001b[1;31mTypeError\u001b[0m                                 Traceback (most recent call last)",
      "Input \u001b[1;32mIn [22]\u001b[0m, in \u001b[0;36m<cell line: 1>\u001b[1;34m()\u001b[0m\n\u001b[1;32m----> 1\u001b[0m tuple3[\u001b[38;5;241m4\u001b[39m]\u001b[38;5;241m=\u001b[39m\u001b[38;5;124m'\u001b[39m\u001b[38;5;124mme\u001b[39m\u001b[38;5;124m'\u001b[39m\n",
      "\u001b[1;31mTypeError\u001b[0m: 'tuple' object does not support item assignment"
     ]
    }
   ],
   "source": [
    "tuple3[4]='me'"
   ]
  },
  {
   "cell_type": "markdown",
   "id": "f9377c2a",
   "metadata": {},
   "source": [
    "this means tuple is immutable --you cannt change the data in tuple."
   ]
  },
  {
   "cell_type": "markdown",
   "id": "c10e6de8",
   "metadata": {},
   "source": [
    "# DICTIONARY{..}"
   ]
  },
  {
   "cell_type": "markdown",
   "id": "761652e3",
   "metadata": {},
   "source": [
    "dict1={key:value,key:value,key:value}"
   ]
  },
  {
   "cell_type": "markdown",
   "id": "a96fa2d4",
   "metadata": {},
   "source": [
    "--One of the datastructures inside the pythons(build-in).sometimes found in otehr language as \"associative memories\"or\"associative arrays\".\n",
    "\n",
    "--they are unordered collection of items .\n",
    "--items in dictionary are not indexed. they are sequenced ordered.\n",
    "--they are mutable.\n",
    "--Inside the disctionary{},they are having key : value pair .dictionary are indexed by keys,which can be any immutable type;strings and number can always be a key.\n",
    "--values are declared as a list for keys in dictionary,so they are put inside [ ].\n",
    "\n",
    "ex--"
   ]
  },
  {
   "cell_type": "code",
   "execution_count": 23,
   "id": "d6957e0f",
   "metadata": {},
   "outputs": [],
   "source": [
    "dict1={'id':1,\"Name\":\"John\",\"Age\":10}"
   ]
  },
  {
   "cell_type": "code",
   "execution_count": 24,
   "id": "3721b291",
   "metadata": {},
   "outputs": [
    {
     "data": {
      "text/plain": [
       "{'id': 1, 'Name': 'John', 'Age': 10}"
      ]
     },
     "execution_count": 24,
     "metadata": {},
     "output_type": "execute_result"
    }
   ],
   "source": [
    "dict1"
   ]
  },
  {
   "cell_type": "code",
   "execution_count": 26,
   "id": "51706558",
   "metadata": {},
   "outputs": [
    {
     "data": {
      "text/plain": [
       "dict_keys(['id', 'Name', 'Age'])"
      ]
     },
     "execution_count": 26,
     "metadata": {},
     "output_type": "execute_result"
    }
   ],
   "source": [
    "dict1.keys()"
   ]
  },
  {
   "cell_type": "code",
   "execution_count": 27,
   "id": "87c95b61",
   "metadata": {},
   "outputs": [
    {
     "data": {
      "text/plain": [
       "dict_values([1, 'John', 10])"
      ]
     },
     "execution_count": 27,
     "metadata": {},
     "output_type": "execute_result"
    }
   ],
   "source": [
    "dict1.values()"
   ]
  },
  {
   "cell_type": "code",
   "execution_count": 28,
   "id": "c01e9420",
   "metadata": {},
   "outputs": [
    {
     "data": {
      "text/plain": [
       "dict_items([('id', 1), ('Name', 'John'), ('Age', 10)])"
      ]
     },
     "execution_count": 28,
     "metadata": {},
     "output_type": "execute_result"
    }
   ],
   "source": [
    "dict1.items()"
   ]
  },
  {
   "cell_type": "markdown",
   "id": "3fadabb3",
   "metadata": {},
   "source": [
    " if we want to add anotehr keys:value to this  statement ,we can do -by update operation\n",
    "        \n",
    "        ex--"
   ]
  },
  {
   "cell_type": "code",
   "execution_count": 29,
   "id": "65b05768",
   "metadata": {},
   "outputs": [
    {
     "data": {
      "text/plain": [
       "{'id': 1, 'Name': 'John', 'Age': 10}"
      ]
     },
     "execution_count": 29,
     "metadata": {},
     "output_type": "execute_result"
    }
   ],
   "source": [
    "dict1"
   ]
  },
  {
   "cell_type": "code",
   "execution_count": 31,
   "id": "3fda54c9",
   "metadata": {},
   "outputs": [],
   "source": [
    "dict1.update({'fees':4000})"
   ]
  },
  {
   "cell_type": "code",
   "execution_count": 32,
   "id": "f6770ede",
   "metadata": {},
   "outputs": [
    {
     "data": {
      "text/plain": [
       "{'id': 1, 'Name': 'John', 'Age': 10, 'fees': 4000}"
      ]
     },
     "execution_count": 32,
     "metadata": {},
     "output_type": "execute_result"
    }
   ],
   "source": [
    "dict1"
   ]
  },
  {
   "cell_type": "markdown",
   "id": "acd9a7b3",
   "metadata": {},
   "source": [
    "HOW TO CHECK THE INDIVIDUAL ELEMENTS?"
   ]
  },
  {
   "cell_type": "code",
   "execution_count": 33,
   "id": "8ede4b99",
   "metadata": {},
   "outputs": [
    {
     "data": {
      "text/plain": [
       "1"
      ]
     },
     "execution_count": 33,
     "metadata": {},
     "output_type": "execute_result"
    }
   ],
   "source": [
    "dict1['id']"
   ]
  },
  {
   "cell_type": "code",
   "execution_count": 34,
   "id": "09cefe79",
   "metadata": {},
   "outputs": [
    {
     "data": {
      "text/plain": [
       "'John'"
      ]
     },
     "execution_count": 34,
     "metadata": {},
     "output_type": "execute_result"
    }
   ],
   "source": [
    "dict1['Name']"
   ]
  },
  {
   "cell_type": "code",
   "execution_count": 35,
   "id": "b8ad1154",
   "metadata": {},
   "outputs": [
    {
     "data": {
      "text/plain": [
       "10"
      ]
     },
     "execution_count": 35,
     "metadata": {},
     "output_type": "execute_result"
    }
   ],
   "source": [
    "dict1['Age']"
   ]
  },
  {
   "cell_type": "code",
   "execution_count": 39,
   "id": "4a824c7e",
   "metadata": {},
   "outputs": [
    {
     "data": {
      "text/plain": [
       "7800"
      ]
     },
     "execution_count": 39,
     "metadata": {},
     "output_type": "execute_result"
    }
   ],
   "source": [
    "dict1['fees']"
   ]
  },
  {
   "cell_type": "code",
   "execution_count": 37,
   "id": "f8e3334f",
   "metadata": {},
   "outputs": [],
   "source": [
    "dict1['fees']=7800"
   ]
  },
  {
   "cell_type": "code",
   "execution_count": 38,
   "id": "ed40284b",
   "metadata": {},
   "outputs": [
    {
     "data": {
      "text/plain": [
       "{'id': 1, 'Name': 'John', 'Age': 10, 'fees': 7800}"
      ]
     },
     "execution_count": 38,
     "metadata": {},
     "output_type": "execute_result"
    }
   ],
   "source": [
    "dict1"
   ]
  },
  {
   "cell_type": "markdown",
   "id": "5ba82c00",
   "metadata": {},
   "source": [
    "* with the help of pop operation we can pop out (remove) the last element from dictionary.\n",
    "\n",
    "ex--"
   ]
  },
  {
   "cell_type": "code",
   "execution_count": 40,
   "id": "8c3fb36f",
   "metadata": {},
   "outputs": [
    {
     "data": {
      "text/plain": [
       "7800"
      ]
     },
     "execution_count": 40,
     "metadata": {},
     "output_type": "execute_result"
    }
   ],
   "source": [
    "dict1.pop('fees')"
   ]
  },
  {
   "cell_type": "code",
   "execution_count": 41,
   "id": "fceaa7ac",
   "metadata": {},
   "outputs": [
    {
     "data": {
      "text/plain": [
       "{'id': 1, 'Name': 'John', 'Age': 10}"
      ]
     },
     "execution_count": 41,
     "metadata": {},
     "output_type": "execute_result"
    }
   ],
   "source": [
    "dict1"
   ]
  },
  {
   "cell_type": "markdown",
   "id": "09fe930d",
   "metadata": {},
   "source": [
    "clear operation and del operation both can be used inside dictionary."
   ]
  },
  {
   "cell_type": "code",
   "execution_count": 42,
   "id": "cadbc069",
   "metadata": {},
   "outputs": [],
   "source": [
    "dict1.clear()"
   ]
  },
  {
   "cell_type": "code",
   "execution_count": 43,
   "id": "89e0249b",
   "metadata": {},
   "outputs": [
    {
     "data": {
      "text/plain": [
       "{}"
      ]
     },
     "execution_count": 43,
     "metadata": {},
     "output_type": "execute_result"
    }
   ],
   "source": [
    "dict1"
   ]
  },
  {
   "cell_type": "code",
   "execution_count": 44,
   "id": "710927a5",
   "metadata": {},
   "outputs": [],
   "source": [
    "del dict1"
   ]
  },
  {
   "cell_type": "code",
   "execution_count": 45,
   "id": "ca231f9a",
   "metadata": {},
   "outputs": [
    {
     "ename": "NameError",
     "evalue": "name 'dict1' is not defined",
     "output_type": "error",
     "traceback": [
      "\u001b[1;31m---------------------------------------------------------------------------\u001b[0m",
      "\u001b[1;31mNameError\u001b[0m                                 Traceback (most recent call last)",
      "Input \u001b[1;32mIn [45]\u001b[0m, in \u001b[0;36m<cell line: 1>\u001b[1;34m()\u001b[0m\n\u001b[1;32m----> 1\u001b[0m \u001b[43mdict1\u001b[49m\n",
      "\u001b[1;31mNameError\u001b[0m: name 'dict1' is not defined"
     ]
    }
   ],
   "source": [
    "dict1"
   ]
  },
  {
   "cell_type": "code",
   "execution_count": 46,
   "id": "a6e8d32e",
   "metadata": {},
   "outputs": [],
   "source": [
    "dict2={'id':[1,2,3],'Name':[\"John\",\"Jack\",\"Andrew\"],'Age':[10,11,12]}"
   ]
  },
  {
   "cell_type": "code",
   "execution_count": 47,
   "id": "7dfeb0f0",
   "metadata": {},
   "outputs": [
    {
     "data": {
      "text/plain": [
       "{'id': [1, 2, 3], 'Name': ['John', 'Jack', 'Andrew'], 'Age': [10, 11, 12]}"
      ]
     },
     "execution_count": 47,
     "metadata": {},
     "output_type": "execute_result"
    }
   ],
   "source": [
    "dict2"
   ]
  },
  {
   "cell_type": "code",
   "execution_count": 49,
   "id": "b6ca5384",
   "metadata": {},
   "outputs": [
    {
     "data": {
      "text/plain": [
       "dict_keys(['id', 'Name', 'Age'])"
      ]
     },
     "execution_count": 49,
     "metadata": {},
     "output_type": "execute_result"
    }
   ],
   "source": [
    "dict2.keys()"
   ]
  },
  {
   "cell_type": "code",
   "execution_count": 50,
   "id": "e25db948",
   "metadata": {},
   "outputs": [
    {
     "data": {
      "text/plain": [
       "dict_values([[1, 2, 3], ['John', 'Jack', 'Andrew'], [10, 11, 12]])"
      ]
     },
     "execution_count": 50,
     "metadata": {},
     "output_type": "execute_result"
    }
   ],
   "source": [
    "dict2.values()"
   ]
  },
  {
   "cell_type": "code",
   "execution_count": 51,
   "id": "4c24480c",
   "metadata": {},
   "outputs": [
    {
     "data": {
      "text/plain": [
       "dict_items([('id', [1, 2, 3]), ('Name', ['John', 'Jack', 'Andrew']), ('Age', [10, 11, 12])])"
      ]
     },
     "execution_count": 51,
     "metadata": {},
     "output_type": "execute_result"
    }
   ],
   "source": [
    "dict2.items()"
   ]
  },
  {
   "cell_type": "markdown",
   "id": "f781029c",
   "metadata": {},
   "source": [
    "HOW TO CHECK INDEXED ELEMENT IN FOLLOWING SEQUENCED ORDER?\n",
    "\n",
    "Ex--"
   ]
  },
  {
   "cell_type": "code",
   "execution_count": 69,
   "id": "344afc84",
   "metadata": {},
   "outputs": [
    {
     "data": {
      "text/plain": [
       "[1, 2, 3]"
      ]
     },
     "execution_count": 69,
     "metadata": {},
     "output_type": "execute_result"
    }
   ],
   "source": [
    "dict2['id']"
   ]
  },
  {
   "cell_type": "code",
   "execution_count": 70,
   "id": "edc9ef05",
   "metadata": {},
   "outputs": [
    {
     "data": {
      "text/plain": [
       "['John', 'Jack', 'Andrew']"
      ]
     },
     "execution_count": 70,
     "metadata": {},
     "output_type": "execute_result"
    }
   ],
   "source": [
    "dict2[\"Name\"]"
   ]
  },
  {
   "cell_type": "code",
   "execution_count": 68,
   "id": "b3db1657",
   "metadata": {},
   "outputs": [
    {
     "data": {
      "text/plain": [
       "[10, 11, 12]"
      ]
     },
     "execution_count": 68,
     "metadata": {},
     "output_type": "execute_result"
    }
   ],
   "source": [
    "dict2['Age']"
   ]
  },
  {
   "cell_type": "code",
   "execution_count": 59,
   "id": "13e4f8ec",
   "metadata": {},
   "outputs": [
    {
     "data": {
      "text/plain": [
       "1"
      ]
     },
     "execution_count": 59,
     "metadata": {},
     "output_type": "execute_result"
    }
   ],
   "source": [
    "dict2['id'][0]"
   ]
  },
  {
   "cell_type": "code",
   "execution_count": 63,
   "id": "f8eec536",
   "metadata": {},
   "outputs": [
    {
     "data": {
      "text/plain": [
       "2"
      ]
     },
     "execution_count": 63,
     "metadata": {},
     "output_type": "execute_result"
    }
   ],
   "source": [
    "dict2['id'][1]"
   ]
  },
  {
   "cell_type": "code",
   "execution_count": 64,
   "id": "73dc9306",
   "metadata": {},
   "outputs": [
    {
     "data": {
      "text/plain": [
       "3"
      ]
     },
     "execution_count": 64,
     "metadata": {},
     "output_type": "execute_result"
    }
   ],
   "source": [
    "dict2['id'][2]"
   ]
  },
  {
   "cell_type": "code",
   "execution_count": 65,
   "id": "a9d0285f",
   "metadata": {},
   "outputs": [
    {
     "data": {
      "text/plain": [
       "'John'"
      ]
     },
     "execution_count": 65,
     "metadata": {},
     "output_type": "execute_result"
    }
   ],
   "source": [
    "dict2['Name'][0]"
   ]
  },
  {
   "cell_type": "code",
   "execution_count": 66,
   "id": "277076e7",
   "metadata": {},
   "outputs": [
    {
     "data": {
      "text/plain": [
       "'Jack'"
      ]
     },
     "execution_count": 66,
     "metadata": {},
     "output_type": "execute_result"
    }
   ],
   "source": [
    "dict2['Name'][1]"
   ]
  },
  {
   "cell_type": "code",
   "execution_count": 67,
   "id": "089b99f2",
   "metadata": {},
   "outputs": [
    {
     "data": {
      "text/plain": [
       "'Andrew'"
      ]
     },
     "execution_count": 67,
     "metadata": {},
     "output_type": "execute_result"
    }
   ],
   "source": [
    "dict2['Name'][2]"
   ]
  },
  {
   "cell_type": "code",
   "execution_count": 71,
   "id": "f33a63d5",
   "metadata": {},
   "outputs": [
    {
     "data": {
      "text/plain": [
       "10"
      ]
     },
     "execution_count": 71,
     "metadata": {},
     "output_type": "execute_result"
    }
   ],
   "source": [
    "dict2[\"Age\"][0]"
   ]
  },
  {
   "cell_type": "markdown",
   "id": "cedaff90",
   "metadata": {},
   "source": [
    "internal values can be changed inside the dictionary.i.e dictionary are mutable .\n",
    "\n",
    "ex--"
   ]
  },
  {
   "cell_type": "code",
   "execution_count": 72,
   "id": "8732f289",
   "metadata": {},
   "outputs": [],
   "source": [
    "dict2['Age'][2]=22"
   ]
  },
  {
   "cell_type": "code",
   "execution_count": 73,
   "id": "3ea23b86",
   "metadata": {},
   "outputs": [
    {
     "data": {
      "text/plain": [
       "{'id': [1, 2, 3],\n",
       " 'Name': ['John', 'Jack', 'Andrew'],\n",
       " 'Age': [10, 11, 22],\n",
       " 'fees': 1000}"
      ]
     },
     "execution_count": 73,
     "metadata": {},
     "output_type": "execute_result"
    }
   ],
   "source": [
    "dict2"
   ]
  },
  {
   "cell_type": "code",
   "execution_count": 76,
   "id": "865e87d9",
   "metadata": {},
   "outputs": [
    {
     "data": {
      "text/plain": [
       "1000"
      ]
     },
     "execution_count": 76,
     "metadata": {},
     "output_type": "execute_result"
    }
   ],
   "source": [
    "dict2.pop('fees')"
   ]
  },
  {
   "cell_type": "code",
   "execution_count": 77,
   "id": "bdd778c0",
   "metadata": {},
   "outputs": [
    {
     "data": {
      "text/plain": [
       "{'id': [1, 2, 3], 'Name': ['John', 'Jack', 'Andrew'], 'Age': [10, 11, 22]}"
      ]
     },
     "execution_count": 77,
     "metadata": {},
     "output_type": "execute_result"
    }
   ],
   "source": [
    "dict2"
   ]
  },
  {
   "cell_type": "code",
   "execution_count": 78,
   "id": "97e98873",
   "metadata": {},
   "outputs": [],
   "source": [
    "dict2.clear()"
   ]
  },
  {
   "cell_type": "code",
   "execution_count": 79,
   "id": "5b5f4d49",
   "metadata": {},
   "outputs": [
    {
     "data": {
      "text/plain": [
       "{}"
      ]
     },
     "execution_count": 79,
     "metadata": {},
     "output_type": "execute_result"
    }
   ],
   "source": [
    "dict2"
   ]
  },
  {
   "cell_type": "code",
   "execution_count": 80,
   "id": "de49eae8",
   "metadata": {},
   "outputs": [],
   "source": [
    "del dict2"
   ]
  },
  {
   "cell_type": "code",
   "execution_count": 81,
   "id": "48d61951",
   "metadata": {},
   "outputs": [
    {
     "ename": "NameError",
     "evalue": "name 'dict2' is not defined",
     "output_type": "error",
     "traceback": [
      "\u001b[1;31m---------------------------------------------------------------------------\u001b[0m",
      "\u001b[1;31mNameError\u001b[0m                                 Traceback (most recent call last)",
      "Input \u001b[1;32mIn [81]\u001b[0m, in \u001b[0;36m<cell line: 1>\u001b[1;34m()\u001b[0m\n\u001b[1;32m----> 1\u001b[0m \u001b[43mdict2\u001b[49m\n",
      "\u001b[1;31mNameError\u001b[0m: name 'dict2' is not defined"
     ]
    }
   ],
   "source": [
    "dict2"
   ]
  },
  {
   "cell_type": "markdown",
   "id": "c0cd5b57",
   "metadata": {},
   "source": [
    "keys in dictionary cannot be changed .,but values can ."
   ]
  },
  {
   "cell_type": "code",
   "execution_count": 82,
   "id": "c14f12f6",
   "metadata": {},
   "outputs": [],
   "source": [
    "dict2={'id':[1,2,3],\"Name\":[\"John\",\"Jack\",\"Neha\"],\"Age\":[20,25,33]}"
   ]
  },
  {
   "cell_type": "code",
   "execution_count": 83,
   "id": "62393cd2",
   "metadata": {},
   "outputs": [
    {
     "data": {
      "text/plain": [
       "{'id': [1, 2, 3], 'Name': ['John', 'Jack', 'Neha'], 'Age': [20, 25, 33]}"
      ]
     },
     "execution_count": 83,
     "metadata": {},
     "output_type": "execute_result"
    }
   ],
   "source": [
    "dict2"
   ]
  },
  {
   "cell_type": "code",
   "execution_count": 85,
   "id": "ba4bc3b3",
   "metadata": {},
   "outputs": [],
   "source": [
    "dict2.update({\"Marks\":[40,45,60]})"
   ]
  },
  {
   "cell_type": "code",
   "execution_count": 86,
   "id": "70a0a917",
   "metadata": {},
   "outputs": [
    {
     "data": {
      "text/plain": [
       "{'id': [1, 2, 3],\n",
       " 'Name': ['John', 'Jack', 'Neha'],\n",
       " 'Age': [20, 25, 33],\n",
       " 'Marks': [40, 45, 60]}"
      ]
     },
     "execution_count": 86,
     "metadata": {},
     "output_type": "execute_result"
    }
   ],
   "source": [
    "dict2"
   ]
  },
  {
   "cell_type": "markdown",
   "id": "f2661bf6",
   "metadata": {},
   "source": [
    "# SETS{..}"
   ]
  },
  {
   "cell_type": "markdown",
   "id": "9177a6c5",
   "metadata": {},
   "source": [
    "A PYTHON SET is the collection of unordered items .each element in the set must be unique ,immutable,and sets remove the duplicate elements.\n",
    "--sets are immutable which means we cannot modify it after its creation .\n",
    "\n",
    "Unlike others ,there is no index attached to the element of the set ,i.e, we cannot directly access any element of the set by the index.However,we can print them all together, or we can get the list of elements by looping through the sets."
   ]
  },
  {
   "cell_type": "code",
   "execution_count": 87,
   "id": "450b2679",
   "metadata": {},
   "outputs": [],
   "source": [
    "P={78,23,45,67,89}"
   ]
  },
  {
   "cell_type": "code",
   "execution_count": 88,
   "id": "33ac1337",
   "metadata": {},
   "outputs": [
    {
     "data": {
      "text/plain": [
       "{23, 45, 67, 78, 89}"
      ]
     },
     "execution_count": 88,
     "metadata": {},
     "output_type": "execute_result"
    }
   ],
   "source": [
    "P"
   ]
  },
  {
   "cell_type": "code",
   "execution_count": 89,
   "id": "db2bc916",
   "metadata": {},
   "outputs": [],
   "source": [
    "X=([10,22,33,40,50])"
   ]
  },
  {
   "cell_type": "code",
   "execution_count": 90,
   "id": "46204974",
   "metadata": {},
   "outputs": [
    {
     "data": {
      "text/plain": [
       "[10, 22, 33, 40, 50]"
      ]
     },
     "execution_count": 90,
     "metadata": {},
     "output_type": "execute_result"
    }
   ],
   "source": [
    "X"
   ]
  },
  {
   "cell_type": "markdown",
   "id": "4b311173",
   "metadata": {},
   "source": [
    "Both ways we can use .but"
   ]
  },
  {
   "cell_type": "code",
   "execution_count": 91,
   "id": "094358a7",
   "metadata": {},
   "outputs": [],
   "source": [
    "y={10,20,30,45,67,20}"
   ]
  },
  {
   "cell_type": "code",
   "execution_count": 92,
   "id": "0b1d17ff",
   "metadata": {},
   "outputs": [
    {
     "data": {
      "text/plain": [
       "{10, 20, 30, 45, 67}"
      ]
     },
     "execution_count": 92,
     "metadata": {},
     "output_type": "execute_result"
    }
   ],
   "source": [
    "y"
   ]
  },
  {
   "cell_type": "markdown",
   "id": "dcdb4bad",
   "metadata": {},
   "source": [
    "so set will not allow any duplicate item.it will remove automatically."
   ]
  },
  {
   "cell_type": "code",
   "execution_count": 96,
   "id": "8b6f3269",
   "metadata": {},
   "outputs": [],
   "source": [
    "days={\"Monday\",\"tuesday\",\"Wednesday\"}"
   ]
  },
  {
   "cell_type": "code",
   "execution_count": 97,
   "id": "b69cc1c7",
   "metadata": {},
   "outputs": [
    {
     "data": {
      "text/plain": [
       "{'Monday', 'Wednesday', 'tuesday'}"
      ]
     },
     "execution_count": 97,
     "metadata": {},
     "output_type": "execute_result"
    }
   ],
   "source": [
    "days"
   ]
  },
  {
   "cell_type": "code",
   "execution_count": 98,
   "id": "2ea8c480",
   "metadata": {},
   "outputs": [
    {
     "data": {
      "text/plain": [
       "set"
      ]
     },
     "execution_count": 98,
     "metadata": {},
     "output_type": "execute_result"
    }
   ],
   "source": [
    "type(days)"
   ]
  },
  {
   "cell_type": "markdown",
   "id": "4bbd16d5",
   "metadata": {},
   "source": [
    "if I want to ADD any new data "
   ]
  },
  {
   "cell_type": "code",
   "execution_count": 99,
   "id": "ad37b2a6",
   "metadata": {},
   "outputs": [],
   "source": [
    "days.add(\"Sunday\")"
   ]
  },
  {
   "cell_type": "code",
   "execution_count": 100,
   "id": "8262dbee",
   "metadata": {},
   "outputs": [
    {
     "data": {
      "text/plain": [
       "{'Monday', 'Sunday', 'Wednesday', 'tuesday'}"
      ]
     },
     "execution_count": 100,
     "metadata": {},
     "output_type": "execute_result"
    }
   ],
   "source": [
    "days"
   ]
  },
  {
   "cell_type": "markdown",
   "id": "638994b3",
   "metadata": {},
   "source": [
    "element(sunday)can be added anywhere because sets are unordered.and no indexing can be done .and immutable"
   ]
  },
  {
   "cell_type": "markdown",
   "id": "b72e21d9",
   "metadata": {},
   "source": [
    "remove operation will remove the particular item. such as "
   ]
  },
  {
   "cell_type": "code",
   "execution_count": 101,
   "id": "18e44bb9",
   "metadata": {},
   "outputs": [],
   "source": [
    "days.remove(\"Sunday\")"
   ]
  },
  {
   "cell_type": "code",
   "execution_count": 102,
   "id": "5a648876",
   "metadata": {},
   "outputs": [
    {
     "data": {
      "text/plain": [
       "{'Monday', 'Wednesday', 'tuesday'}"
      ]
     },
     "execution_count": 102,
     "metadata": {},
     "output_type": "execute_result"
    }
   ],
   "source": [
    "days"
   ]
  },
  {
   "cell_type": "code",
   "execution_count": 103,
   "id": "26ee65fd",
   "metadata": {},
   "outputs": [
    {
     "data": {
      "text/plain": [
       "'Wednesday'"
      ]
     },
     "execution_count": 103,
     "metadata": {},
     "output_type": "execute_result"
    }
   ],
   "source": [
    "days.pop()"
   ]
  },
  {
   "cell_type": "code",
   "execution_count": 104,
   "id": "f8b43263",
   "metadata": {},
   "outputs": [
    {
     "data": {
      "text/plain": [
       "{'Monday', 'tuesday'}"
      ]
     },
     "execution_count": 104,
     "metadata": {},
     "output_type": "execute_result"
    }
   ],
   "source": [
    "days"
   ]
  },
  {
   "cell_type": "markdown",
   "id": "7a31c718",
   "metadata": {},
   "source": [
    "pop item can remove any element in set ,not the last element."
   ]
  },
  {
   "cell_type": "code",
   "execution_count": 105,
   "id": "f31d499d",
   "metadata": {},
   "outputs": [],
   "source": [
    "days.clear()"
   ]
  },
  {
   "cell_type": "code",
   "execution_count": 106,
   "id": "3024cc7d",
   "metadata": {},
   "outputs": [
    {
     "data": {
      "text/plain": [
       "set()"
      ]
     },
     "execution_count": 106,
     "metadata": {},
     "output_type": "execute_result"
    }
   ],
   "source": [
    "days"
   ]
  },
  {
   "cell_type": "code",
   "execution_count": null,
   "id": "0c9bc9cb",
   "metadata": {},
   "outputs": [],
   "source": []
  }
 ],
 "metadata": {
  "kernelspec": {
   "display_name": "Python 3 (ipykernel)",
   "language": "python",
   "name": "python3"
  },
  "language_info": {
   "codemirror_mode": {
    "name": "ipython",
    "version": 3
   },
   "file_extension": ".py",
   "mimetype": "text/x-python",
   "name": "python",
   "nbconvert_exporter": "python",
   "pygments_lexer": "ipython3",
   "version": "3.9.12"
  }
 },
 "nbformat": 4,
 "nbformat_minor": 5
}
